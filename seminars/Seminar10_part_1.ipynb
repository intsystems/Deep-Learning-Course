{
  "cells": [
    {
      "cell_type": "markdown",
      "metadata": {
        "id": "Ugixb2FtDw9M"
      },
      "source": [
        "| | |\n",
        "|-|-|\n",
        "| ![gym](https://github.com/nadiinchi/dl_labs/blob/master/images/gym.png?raw=1) | ![img](https://github.com/nadiinchi/dl_labs/blob/master/images/pytorch.png?raw=1) |"
      ]
    },
    {
      "cell_type": "markdown",
      "metadata": {
        "id": "5ZMpTxxLDw9O"
      },
      "source": [
        "### Hometask\n",
        "\n",
        "The task is complementary for the bayesian bandits task, the maximum is 5 points\n",
        "\n",
        "1. [5 points] Implement screenshots-driven nn-based agent for a chosen Atari game.\n",
        "\n",
        "Supplementary materials with episode lengths and total points recieved plots are expected. \n",
        "\n",
        "Game replay videos should be also attached."
      ]
    },
    {
      "cell_type": "code",
      "execution_count": 1,
      "metadata": {
        "id": "cg6xuMm-Dw9P"
      },
      "outputs": [],
      "source": [
        "%matplotlib inline"
      ]
    },
    {
      "cell_type": "code",
      "execution_count": null,
      "metadata": {},
      "outputs": [],
      "source": [
        "import sys\n",
        "!{sys.executable} -m pip install gym pygame"
      ]
    },
    {
      "cell_type": "markdown",
      "metadata": {
        "id": "PRZeB_EPDw9S"
      },
      "source": [
        "Agent interacts with the environment through actions (**A**), changing its state (**S**) and getting the reward (**R**).\n",
        "\n",
        "The final goal is to maximize a total reward.\n",
        "\n",
        "![](https://github.com/nadiinchi/dl_labs/blob/master/images/recap.png?raw=1)"
      ]
    },
    {
      "cell_type": "markdown",
      "metadata": {
        "id": "tUzG6P3kDw9R"
      },
      "source": [
        "# Reinforcement Learning Recap"
      ]
    },
    {
      "cell_type": "markdown",
      "metadata": {
        "id": "dIETtGs7Dw9S"
      },
      "source": [
        "## Cart-Pole\n",
        "\n",
        "![](https://github.com/nadiinchi/dl_labs/blob/master/images/cartpole.png?raw=1)\n",
        "\n",
        "* **Task** - keep the pole vertical as long as possible\n",
        "* **State** - angle, rotation speed, position, velocity\n",
        "* **Action** - horizontal force, applied to the cart\n",
        "* **Reward** - 1 for each moment with almost-vertical pole (e.g., 85-95 degrees)"
      ]
    },
    {
      "cell_type": "markdown",
      "metadata": {
        "id": "FviqdWkkDw9S"
      },
      "source": [
        "## Atari\n",
        "\n",
        "![](https://github.com/nadiinchi/dl_labs/blob/master/images/atari.png?raw=1)\n",
        "\n",
        "* **Task** - get as many points as possible\n",
        "* **State** - game screen (screenshots)\n",
        "* **Action** - various buttons\n",
        "* **Reward** - is defined by a particular game"
      ]
    },
    {
      "cell_type": "markdown",
      "metadata": {
        "id": "1s01YW65Dw9T"
      },
      "source": [
        "## Doom\n",
        "\n",
        "![](https://github.com/nadiinchi/dl_labs/blob/master/images/doom.png?raw=1)\n",
        "\n",
        "* **Target** - kill 'em all\n",
        "* **State** - game screen (screenshots)\n",
        "* **Action** - various buttons\n",
        "* **Reward** - +1 for killing an enemy, -N for dying"
      ]
    },
    {
      "cell_type": "markdown",
      "metadata": {
        "id": "O1ElZlN7Dw9T"
      },
      "source": [
        "## Dsicounted reward\n",
        "\n",
        "It is common to use a discount factor $\\gamma$ to give higher weights for closer rewards.\n",
        "\n",
        "Without the dicounted factor a total reward for all the states after $t$ can be defined as\n",
        "\n",
        "![](https://github.com/nadiinchi/dl_labs/blob/master/images/nodiscount.png?raw=1)\n",
        "\n",
        "With the discounted factor we focus on the current rewards as the state can change in the future:\n",
        "\n",
        "![](https://github.com/nadiinchi/dl_labs/blob/master/images/discount.png?raw=1)\n"
      ]
    },
    {
      "cell_type": "markdown",
      "metadata": {
        "id": "s53pPf7mDw9T"
      },
      "source": [
        "## Value function\n",
        "\n",
        "We want to know how good (valuable) each state is. It would help us to choose the best state to go.\n",
        "\n",
        "The value function represent how good is a state for an agent to be in. It is equal to expected total reward for an agent starting from state s. The value function depends on the policy by which the agent picks actions to perform. So, if the agent uses a given policy $\\pi$ to select actions, the corresponding value function is given by\n",
        "\n",
        "![](https://github.com/nadiinchi/dl_labs/blob/master/images/vpolicy.png?raw=1)\n",
        "\n",
        "Among all possible value-functions, there exist an **optimal value function** that has higher value than other functions for all states:\n",
        "\n",
        "![](https://github.com/nadiinchi/dl_labs/blob/master/images/voptimal.png?raw=1)"
      ]
    },
    {
      "cell_type": "markdown",
      "metadata": {
        "id": "TSwnQ6nHDw9T"
      },
      "source": [
        "## Q-функция\n",
        "\n",
        "Even having optimal value functions we can't just choose the best state, only to choose an action `a`.\n",
        "\n",
        "For better actions choice there is a quality-function Q defining the effectiveness of such actions.\n",
        "\n",
        "$Q^\\pi(s, a)$ is defined as an expected reward for making action `a` and following $\\pi$ afterwards.\n",
        "\n",
        "Just like with the value function, there is an optimal $Q^*(s, a)$\n",
        "\n",
        "Since $V^*(s)$ is the maximum expected total reward when starting from state `s`, it will be the maximum of $Q^*(s, a)$ over all possible actions. Therefore, the relationship between $Q^*(s, a)$ and $V^*(s)$ is easily obtained as:\n",
        "\n",
        "![](https://github.com/nadiinchi/dl_labs/blob/master/images/VQ.png?raw=1)\n",
        "\n",
        "The optimal strategy is therefore derived from the optimal $Q$:\n",
        "\n",
        "![](https://github.com/nadiinchi/dl_labs/blob/master/images/pioptimal.png?raw=1)\n",
        "\n",
        "As the result **the task** of optimal strategy search for an agent **is** reduced to **defining $V^*$ и $Q^*$**."
      ]
    },
    {
      "cell_type": "markdown",
      "metadata": {
        "id": "qBO-Yt_wDw9U"
      },
      "source": [
        "## Q-learning\n",
        "\n",
        "$Q(s, a)$ is defined recursevly through the Bellman equation as\n",
        "\n",
        "![](https://github.com/nadiinchi/dl_labs/blob/master/images/bellman.png?raw=1)\n",
        "\n",
        "The Q-learning idea is to estimate Q iteratively w.r.t. the Bellman equation:\n",
        "\n",
        "![](https://github.com/nadiinchi/dl_labs/blob/master/images/qiter.png?raw=1)\n",
        "\n",
        "The initial approximations will be random but the more the agent knows the closer we are to $Q^*$."
      ]
    },
    {
      "cell_type": "markdown",
      "metadata": {
        "id": "MKayt6geDw9U"
      },
      "source": [
        "# \"Handmade\" environment\n",
        "\n",
        "![](https://github.com/nadiinchi/dl_labs/blob/master/images/zombie.png?raw=1)\n",
        "\n",
        "We want to find an icecream and not to be eaten by zombie at the same time.\n",
        "\n",
        "Our action is chosen from 4 directions to go from the current cell.\n",
        "\n",
        "Initial state:"
      ]
    },
    {
      "cell_type": "code",
      "execution_count": 1,
      "metadata": {
        "colab": {
          "base_uri": "https://localhost:8080/"
        },
        "id": "x3QXsAdgDw9V",
        "outputId": "c612e07c-f4fb-41b1-e8f8-c45e336fe5bd"
      },
      "outputs": [
        {
          "name": "stdout",
          "output_type": "stream",
          "text": [
            "i *\n",
            "z c\n"
          ]
        }
      ],
      "source": [
        "ZOMBIE = \"z\"\n",
        "CAR = \"c\"\n",
        "ICE_CREAM = \"i\"\n",
        "EMPTY = \"*\"\n",
        "\n",
        "grid = [\n",
        "    [ICE_CREAM, EMPTY],\n",
        "    [ZOMBIE, CAR]\n",
        "]\n",
        "\n",
        "for row in grid:\n",
        "    print(' '.join(row))"
      ]
    },
    {
      "cell_type": "markdown",
      "metadata": {
        "id": "Nq-vH80jDw9X"
      },
      "source": [
        "State class"
      ]
    },
    {
      "cell_type": "code",
      "execution_count": 2,
      "metadata": {
        "id": "58jxQuP6Dw9X"
      },
      "outputs": [],
      "source": [
        "class State:\n",
        "    def __init__(self, grid, car_pos):\n",
        "        self.grid = grid\n",
        "        self.car_pos = car_pos\n",
        "        \n",
        "    def __eq__(self, other):\n",
        "        return isinstance(other, State) and self.grid == other.grid and self.car_pos == other.car_pos\n",
        "    \n",
        "    def __hash__(self):\n",
        "        return hash(str(self.grid) + str(self.car_pos))\n",
        "\n",
        "    def __str__(self):\n",
        "        return f\"State(grid={self.grid}, car_pos={self.car_pos})\"\n",
        "\n",
        "    def __repr__(self):\n",
        "        return self.__str__()"
      ]
    },
    {
      "cell_type": "markdown",
      "metadata": {
        "id": "AQAYJRRSDw9X"
      },
      "source": [
        "Actions"
      ]
    },
    {
      "cell_type": "code",
      "execution_count": 3,
      "metadata": {
        "id": "uQqJahc0Dw9X"
      },
      "outputs": [],
      "source": [
        "UP = 0\n",
        "DOWN = 1\n",
        "LEFT = 2\n",
        "RIGHT = 3\n",
        "\n",
        "ACTIONS = [UP, DOWN, LEFT, RIGHT]"
      ]
    },
    {
      "cell_type": "markdown",
      "metadata": {
        "id": "AHlGqHK2Dw9X"
      },
      "source": [
        "Initial state"
      ]
    },
    {
      "cell_type": "code",
      "execution_count": 4,
      "metadata": {
        "colab": {
          "base_uri": "https://localhost:8080/"
        },
        "id": "MRWFzireDw9Y",
        "outputId": "82f54865-f727-4ec6-b201-452f50af9ecc"
      },
      "outputs": [
        {
          "data": {
            "text/plain": [
              "State(grid=[['i', '*'], ['z', 'c']], car_pos=[1, 1])"
            ]
          },
          "execution_count": 4,
          "metadata": {},
          "output_type": "execute_result"
        }
      ],
      "source": [
        "start_state = State(grid=grid, car_pos=[1, 1])\n",
        "start_state"
      ]
    },
    {
      "cell_type": "markdown",
      "metadata": {
        "id": "qsQQUVJkDw9Y"
      },
      "source": [
        "Action functions"
      ]
    },
    {
      "cell_type": "code",
      "execution_count": 5,
      "metadata": {
        "id": "YOtkP0-ADw9Y"
      },
      "outputs": [],
      "source": [
        "from copy import deepcopy\n",
        "\n",
        "def act(state, action):\n",
        "    def new_car_pos(state, action):\n",
        "        p = deepcopy(state.car_pos)\n",
        "        if action == UP:\n",
        "            p[0] = max(0, p[0] - 1)\n",
        "        elif action == DOWN:\n",
        "            p[0] = min(len(state.grid) - 1, p[0] + 1)\n",
        "        elif action == LEFT:\n",
        "            p[1] = max(0, p[1] - 1)\n",
        "        elif action == RIGHT:\n",
        "            p[1] = min(len(state.grid[0]) - 1, p[1] + 1)\n",
        "        else:\n",
        "            raise ValueError(f\"Unknown action {action}\")\n",
        "        return p\n",
        "\n",
        "    p = new_car_pos(state, action)\n",
        "    grid_item = state.grid[p[0]][p[1]]\n",
        "    \n",
        "    new_grid = deepcopy(state.grid)\n",
        "    \n",
        "    if grid_item == ZOMBIE:\n",
        "        reward = -100\n",
        "        is_done = True\n",
        "        new_grid[p[0]][p[1]] += CAR\n",
        "    elif grid_item == ICE_CREAM:\n",
        "        reward = 1000\n",
        "        is_done = True\n",
        "        new_grid[p[0]][p[1]] += CAR\n",
        "    elif grid_item == EMPTY:\n",
        "        reward = -1\n",
        "        is_done = False\n",
        "        old = state.car_pos\n",
        "        new_grid[old[0]][old[1]] = EMPTY\n",
        "        new_grid[p[0]][p[1]] = CAR\n",
        "    elif grid_item == CAR:\n",
        "        reward = -1\n",
        "        is_done = False\n",
        "    else:\n",
        "        raise ValueError(f\"Unknown grid item {grid_item}\")\n",
        "\n",
        "    return State(grid=new_grid, car_pos=p), reward, is_done"
      ]
    },
    {
      "cell_type": "markdown",
      "metadata": {
        "id": "b8NxgC6XDw9Y"
      },
      "source": [
        "Training"
      ]
    },
    {
      "cell_type": "code",
      "execution_count": 6,
      "metadata": {
        "id": "7UqGybjuDw9Y"
      },
      "outputs": [],
      "source": [
        "import numpy as np\n",
        "import random\n",
        "\n",
        "random.seed(42)\n",
        "\n",
        "N_STATES = 4\n",
        "N_EPISODES = 20\n",
        "\n",
        "MAX_EPISODE_STEPS = 100\n",
        "\n",
        "MIN_ALPHA = 0.02\n",
        "\n",
        "alphas = np.linspace(1.0, MIN_ALPHA, N_EPISODES)\n",
        "gamma = 1.0\n",
        "eps = 0.2\n",
        "\n",
        "q_table = dict()"
      ]
    },
    {
      "cell_type": "code",
      "execution_count": 9,
      "metadata": {
        "id": "RNjLdm0bDw9Z"
      },
      "outputs": [],
      "source": [
        "def q(state, action=None):\n",
        "    if state not in q_table:\n",
        "        q_table[state] = np.zeros(len(ACTIONS))\n",
        "\n",
        "    if action is None:\n",
        "        return q_table[state]\n",
        "\n",
        "    return q_table[state][action]"
      ]
    },
    {
      "cell_type": "code",
      "execution_count": 10,
      "metadata": {
        "id": "plk_MayUDw9Z"
      },
      "outputs": [],
      "source": [
        "def choose_action(state):\n",
        "    if random.uniform(0, 1) < eps:\n",
        "        return random.choice(ACTIONS) \n",
        "    else:\n",
        "        return np.argmax(q(state))"
      ]
    },
    {
      "cell_type": "code",
      "execution_count": 11,
      "metadata": {
        "colab": {
          "base_uri": "https://localhost:8080/"
        },
        "id": "JU_o8-m6Dw9Z",
        "outputId": "5cd30f2b-63c1-4507-c3d3-dfb9302b48db"
      },
      "outputs": [
        {
          "name": "stdout",
          "output_type": "stream",
          "text": [
            "Episode 1: total reward -> -100\n",
            "Episode 2: total reward -> 994\n",
            "Episode 3: total reward -> 996\n",
            "Episode 4: total reward -> 999\n",
            "Episode 5: total reward -> 999\n",
            "Episode 6: total reward -> 998\n",
            "Episode 7: total reward -> -101\n",
            "Episode 8: total reward -> 999\n",
            "Episode 9: total reward -> 999\n",
            "Episode 10: total reward -> 999\n",
            "Episode 11: total reward -> 999\n",
            "Episode 12: total reward -> 999\n",
            "Episode 13: total reward -> 999\n",
            "Episode 14: total reward -> 998\n",
            "Episode 15: total reward -> 999\n",
            "Episode 16: total reward -> 999\n",
            "Episode 17: total reward -> 999\n",
            "Episode 18: total reward -> 999\n",
            "Episode 19: total reward -> 999\n",
            "Episode 20: total reward -> 996\n"
          ]
        }
      ],
      "source": [
        "for e in range(N_EPISODES):\n",
        "    state = start_state\n",
        "    total_reward = 0\n",
        "    alpha = alphas[e]\n",
        "\n",
        "    for _ in range(MAX_EPISODE_STEPS):\n",
        "        action = choose_action(state)\n",
        "        next_state, reward, done = act(state, action)\n",
        "        total_reward += reward\n",
        "\n",
        "        q(state)[action] = q(state, action) + \\\n",
        "                alpha * (reward + gamma *  np.max(q(next_state)) - q(state, action))\n",
        "        state = next_state\n",
        "        if done:\n",
        "            break\n",
        "    print(f\"Episode {e + 1}: total reward -> {total_reward}\")"
      ]
    },
    {
      "cell_type": "code",
      "execution_count": 12,
      "metadata": {
        "colab": {
          "base_uri": "https://localhost:8080/"
        },
        "id": "hbiEnWTeDw9Z",
        "outputId": "08d7960f-2f16-466d-d7fe-b1bc30bf3f17"
      },
      "outputs": [
        {
          "data": {
            "text/plain": [
              "{State(grid=[['i', '*'], ['z', 'c']], car_pos=[1, 1]): array([ 998.99355739,  327.50691911, -100.        ,  917.17330766]),\n",
              " State(grid=[['i', '*'], ['zc', 'c']], car_pos=[1, 0]): array([0., 0., 0., 0.]),\n",
              " State(grid=[['i', 'c'], ['z', '*']], car_pos=[0, 1]): array([-9.48421053e-01,  1.90304159e+01,  9.99999865e+02,  0.00000000e+00]),\n",
              " State(grid=[['ic', 'c'], ['z', '*']], car_pos=[0, 0]): array([0., 0., 0., 0.])}"
            ]
          },
          "execution_count": 12,
          "metadata": {},
          "output_type": "execute_result"
        }
      ],
      "source": [
        "q_table"
      ]
    },
    {
      "cell_type": "code",
      "execution_count": 13,
      "metadata": {
        "colab": {
          "base_uri": "https://localhost:8080/"
        },
        "id": "Bo0jSvb1Dw9a",
        "outputId": "c0320974-3319-48d1-fe7d-4699bed28e56"
      },
      "outputs": [
        {
          "data": {
            "text/plain": [
              "State(grid=[['i', '*'], ['z', 'c']], car_pos=[1, 1])"
            ]
          },
          "execution_count": 13,
          "metadata": {},
          "output_type": "execute_result"
        }
      ],
      "source": [
        "start_state"
      ]
    },
    {
      "cell_type": "code",
      "execution_count": 14,
      "metadata": {
        "colab": {
          "base_uri": "https://localhost:8080/"
        },
        "id": "NO1DMJncDw9a",
        "outputId": "07cd8686-8d26-4a38-8784-b576adaab5fd"
      },
      "outputs": [
        {
          "data": {
            "text/plain": [
              "State(grid=[['i', 'c'], ['z', '*']], car_pos=[0, 1])"
            ]
          },
          "execution_count": 14,
          "metadata": {},
          "output_type": "execute_result"
        }
      ],
      "source": [
        "state_1 = act(start_state, choose_action(start_state))[0]\n",
        "state_1"
      ]
    },
    {
      "cell_type": "code",
      "execution_count": 15,
      "metadata": {
        "colab": {
          "base_uri": "https://localhost:8080/"
        },
        "id": "vibOf-3aDw9a",
        "outputId": "e9e7920c-c10b-48bd-f3e9-700350c5e9f7"
      },
      "outputs": [
        {
          "data": {
            "text/plain": [
              "State(grid=[['ic', 'c'], ['z', '*']], car_pos=[0, 0])"
            ]
          },
          "execution_count": 15,
          "metadata": {},
          "output_type": "execute_result"
        }
      ],
      "source": [
        "state_2 = act(state_1, choose_action(state_1))[0]\n",
        "state_2"
      ]
    },
    {
      "cell_type": "markdown",
      "metadata": {
        "id": "4CZx67lSDw9a"
      },
      "source": [
        "# Openai Gym"
      ]
    },
    {
      "cell_type": "code",
      "execution_count": 16,
      "metadata": {},
      "outputs": [],
      "source": [
        "import gym\n",
        "\n",
        "env = gym.make('CartPole-v1', render_mode='rgb_array')"
      ]
    },
    {
      "cell_type": "code",
      "execution_count": 17,
      "metadata": {
        "colab": {
          "base_uri": "https://localhost:8080/",
          "height": 380
        },
        "id": "dX87jXwZDw9a",
        "outputId": "70db9e5b-79fb-45ea-cba0-ba1e40221b77"
      },
      "outputs": [],
      "source": [
        "env.reset()\n",
        "done = False\n",
        "\n",
        "for t in range(500):\n",
        "    screen = env.render()\n",
        "    action = env.action_space.sample()\n",
        "    observation, reward, done, _, info = env.step(action)\n",
        "    if done:\n",
        "        observation = env.reset()\n",
        "env.close()"
      ]
    },
    {
      "cell_type": "code",
      "execution_count": 18,
      "metadata": {
        "id": "M4BSK0abDw9b"
      },
      "outputs": [],
      "source": [
        "import matplotlib.pyplot as plt"
      ]
    },
    {
      "cell_type": "code",
      "execution_count": 19,
      "metadata": {},
      "outputs": [
        {
          "data": {
            "text/plain": [
              "<matplotlib.image.AxesImage at 0x7fd619285e20>"
            ]
          },
          "execution_count": 19,
          "metadata": {},
          "output_type": "execute_result"
        },
        {
          "data": {
            "image/png": "[encoded data removed]",
            "text/plain": [
              "<Figure size 432x288 with 1 Axes>"
            ]
          },
          "metadata": {
            "needs_background": "light"
          },
          "output_type": "display_data"
        }
      ],
      "source": [
        "plt.imshow(screen)"
      ]
    },
    {
      "cell_type": "code",
      "execution_count": 19,
      "metadata": {
        "colab": {
          "base_uri": "https://localhost:8080/"
        },
        "id": "hyRXnxkTDw9b",
        "outputId": "081f921d-865d-4fe8-8c6d-c93048cd3ca1"
      },
      "outputs": [
        {
          "data": {
            "text/plain": [
              "array([ 0.08935871,  0.36317724, -0.06021257, -0.5671515 ], dtype=float32)"
            ]
          },
          "execution_count": 19,
          "metadata": {},
          "output_type": "execute_result"
        }
      ],
      "source": [
        "observation"
      ]
    },
    {
      "cell_type": "code",
      "execution_count": 20,
      "metadata": {
        "colab": {
          "base_uri": "https://localhost:8080/"
        },
        "id": "mUGchrjBDw9c",
        "outputId": "7ace4186-93c9-4861-f9d7-8c85c513ce73"
      },
      "outputs": [
        {
          "data": {
            "text/plain": [
              "1.0"
            ]
          },
          "execution_count": 20,
          "metadata": {},
          "output_type": "execute_result"
        }
      ],
      "source": [
        "reward"
      ]
    },
    {
      "cell_type": "code",
      "execution_count": 21,
      "metadata": {
        "colab": {
          "base_uri": "https://localhost:8080/"
        },
        "id": "7BiNZSI8Dw9c",
        "outputId": "0ec1fbc5-574f-417e-920a-0abf1cd1deed"
      },
      "outputs": [
        {
          "data": {
            "text/plain": [
              "False"
            ]
          },
          "execution_count": 21,
          "metadata": {},
          "output_type": "execute_result"
        }
      ],
      "source": [
        "done"
      ]
    },
    {
      "cell_type": "code",
      "execution_count": 22,
      "metadata": {
        "colab": {
          "base_uri": "https://localhost:8080/"
        },
        "id": "qxAu52igDw9c",
        "outputId": "6b9ba2b2-c9ad-4fc2-cf4f-1ff68ac009ec"
      },
      "outputs": [
        {
          "data": {
            "text/plain": [
              "{}"
            ]
          },
          "execution_count": 22,
          "metadata": {},
          "output_type": "execute_result"
        }
      ],
      "source": [
        "info"
      ]
    },
    {
      "cell_type": "code",
      "execution_count": 31,
      "metadata": {
        "id": "Lk-IckbBDw9c"
      },
      "outputs": [],
      "source": [
        "def demo(name, n_episodes=10):\n",
        "    env = gym.make(name)\n",
        "    try:\n",
        "        for i_episode in range(n_episodes):\n",
        "            observation = env.reset()\n",
        "            for t in range(100):\n",
        "                env.render()\n",
        "                action = env.action_space.sample()\n",
        "                observation, reward, done, _, info = env.step(action)\n",
        "                if done:\n",
        "                    print(\"Episode finished after {} timesteps\".format(t+1))\n",
        "                    break\n",
        "    finally:\n",
        "        env.close()"
      ]
    },
    {
      "cell_type": "code",
      "execution_count": 20,
      "metadata": {
        "colab": {
          "base_uri": "https://localhost:8080/"
        },
        "id": "z028IGOPDw9d",
        "outputId": "2c018347-3639-4006-9fa2-f73ca82ac55d"
      },
      "outputs": [
        {
          "name": "stdout",
          "output_type": "stream",
          "text": [
            "Discrete(2)\n"
          ]
        }
      ],
      "source": [
        "print(env.action_space)"
      ]
    },
    {
      "cell_type": "code",
      "execution_count": 21,
      "metadata": {
        "colab": {
          "base_uri": "https://localhost:8080/"
        },
        "id": "RrpeZT8JDw9d",
        "outputId": "dabbd92f-9450-4b36-b9a5-9ed3bb15bccc"
      },
      "outputs": [
        {
          "name": "stdout",
          "output_type": "stream",
          "text": [
            "Box([-4.8000002e+00 -3.4028235e+38 -4.1887903e-01 -3.4028235e+38], [4.8000002e+00 3.4028235e+38 4.1887903e-01 3.4028235e+38], (4,), float32)\n"
          ]
        }
      ],
      "source": [
        "print(env.observation_space)"
      ]
    },
    {
      "cell_type": "code",
      "execution_count": 22,
      "metadata": {
        "colab": {
          "base_uri": "https://localhost:8080/"
        },
        "id": "ss4kjZG9Dw9d",
        "outputId": "320531af-3415-44eb-aa9e-8a94c6f59456"
      },
      "outputs": [
        {
          "name": "stdout",
          "output_type": "stream",
          "text": [
            "[4.8000002e+00 3.4028235e+38 4.1887903e-01 3.4028235e+38]\n"
          ]
        }
      ],
      "source": [
        "print(env.observation_space.high)"
      ]
    },
    {
      "cell_type": "code",
      "execution_count": 23,
      "metadata": {
        "colab": {
          "base_uri": "https://localhost:8080/"
        },
        "id": "C3ZBg1LSDw9d",
        "outputId": "877034ce-9189-48cd-8325-c65beb72b699"
      },
      "outputs": [
        {
          "name": "stdout",
          "output_type": "stream",
          "text": [
            "[-4.8000002e+00 -3.4028235e+38 -4.1887903e-01 -3.4028235e+38]\n"
          ]
        }
      ],
      "source": [
        "print(env.observation_space.low)"
      ]
    },
    {
      "cell_type": "code",
      "execution_count": 36,
      "metadata": {
        "id": "M1Jqi4AQDw9d"
      },
      "outputs": [],
      "source": [
        "from gym import spaces\n",
        "space = spaces.Discrete(8) # Set with 8 elements {0, 1, 2, ..., 7}\n",
        "x = space.sample()\n",
        "assert space.contains(x)\n",
        "assert space.n == 8"
      ]
    },
    {
      "cell_type": "markdown",
      "metadata": {
        "id": "Virkt4-5Dw9e"
      },
      "source": [
        "# Model training"
      ]
    },
    {
      "cell_type": "code",
      "execution_count": null,
      "metadata": {},
      "outputs": [],
      "source": [
        "!pip install torch torchvision torchaudio --extra-index-url https://download.pytorch.org/whl/cpu"
      ]
    },
    {
      "cell_type": "code",
      "execution_count": 42,
      "metadata": {
        "id": "97mw4fjmDw9e"
      },
      "outputs": [
        {
          "name": "stderr",
          "output_type": "stream",
          "text": [
            "/home/sero/.local/lib/python3.8/site-packages/tqdm/auto.py:22: TqdmWarning: IProgress not found. Please update jupyter and ipywidgets. See https://ipywidgets.readthedocs.io/en/stable/user_install.html\n",
            "  from .autonotebook import tqdm as notebook_tqdm\n"
          ]
        }
      ],
      "source": [
        "import gym\n",
        "import math\n",
        "import random\n",
        "import numpy as np\n",
        "import matplotlib\n",
        "import matplotlib.pyplot as plt\n",
        "from collections import namedtuple\n",
        "from itertools import count\n",
        "from PIL import Image\n",
        "\n",
        "import torch\n",
        "import torch.nn as nn\n",
        "import torch.optim as optim\n",
        "import torch.nn.functional as F\n",
        "from torch.autograd import Variable\n",
        "import torchvision.transforms as T\n",
        "\n",
        "env = gym.make('CartPole-v1', render_mode='rgb_array').unwrapped\n",
        "\n",
        "# set up matplotlib\n",
        "is_ipython = 'inline' in matplotlib.get_backend()\n",
        "if is_ipython:\n",
        "    from IPython import display\n",
        "\n",
        "plt.ion()\n",
        "\n",
        "# if gpu is to be used\n",
        "use_cuda = False  # torch.cuda.is_available()\n",
        "FloatTensor = torch.cuda.FloatTensor if use_cuda else torch.FloatTensor\n",
        "LongTensor = torch.cuda.LongTensor if use_cuda else torch.LongTensor\n",
        "ByteTensor = torch.cuda.ByteTensor if use_cuda else torch.ByteTensor\n",
        "BoolTensor = torch.cuda.BoolTensor if use_cuda else torch.BoolTensor\n",
        "Tensor = FloatTensor"
      ]
    },
    {
      "cell_type": "code",
      "execution_count": 43,
      "metadata": {
        "id": "gHFhEgViDw9e"
      },
      "outputs": [],
      "source": [
        "Transition = namedtuple('Transition',\n",
        "                        ('state', 'action', 'next_state', 'reward'))\n",
        "\n",
        "\n",
        "class ReplayMemory(object):\n",
        "\n",
        "    def __init__(self, capacity):\n",
        "        self.capacity = capacity\n",
        "        self.memory = []\n",
        "        self.position = 0\n",
        "\n",
        "    def push(self, *args):\n",
        "        \"\"\"Saves a transition.\"\"\"\n",
        "        if len(self.memory) < self.capacity:\n",
        "            self.memory.append(None)\n",
        "        self.memory[self.position] = Transition(*args)\n",
        "        self.position = (self.position + 1) % self.capacity\n",
        "\n",
        "    def sample(self, batch_size):\n",
        "        return random.sample(self.memory, batch_size)\n",
        "\n",
        "    def __len__(self):\n",
        "        return len(self.memory)"
      ]
    },
    {
      "cell_type": "code",
      "execution_count": 44,
      "metadata": {
        "id": "Idt8HAI_Dw9f"
      },
      "outputs": [],
      "source": [
        "class DQN(nn.Module):\n",
        "\n",
        "    def __init__(self):\n",
        "        super(DQN, self).__init__()\n",
        "        self.conv1 = nn.Conv2d(3, 16, kernel_size=5, stride=2)\n",
        "        self.bn1 = nn.BatchNorm2d(16)\n",
        "        self.conv2 = nn.Conv2d(16, 32, kernel_size=5, stride=2)\n",
        "        self.bn2 = nn.BatchNorm2d(32)\n",
        "        self.conv3 = nn.Conv2d(32, 32, kernel_size=5, stride=2)\n",
        "        self.bn3 = nn.BatchNorm2d(32)\n",
        "        self.head = nn.Linear(448, 2)\n",
        "\n",
        "    def forward(self, x):\n",
        "        x = F.relu(self.bn1(self.conv1(x)))\n",
        "        x = F.relu(self.bn2(self.conv2(x)))\n",
        "        x = F.relu(self.bn3(self.conv3(x)))\n",
        "        return self.head(x.view(x.size(0), -1))"
      ]
    },
    {
      "cell_type": "code",
      "execution_count": 45,
      "metadata": {
        "id": "9nyZCWE9Dw9f",
        "outputId": "86193803-e7e4-43eb-8958-096cd968ae82"
      },
      "outputs": [
        {
          "data": {
            "image/png": "[encoded data removed]",
            "text/plain": [
              "<Figure size 432x288 with 1 Axes>"
            ]
          },
          "metadata": {
            "needs_background": "light"
          },
          "output_type": "display_data"
        }
      ],
      "source": [
        "import gym\n",
        "\n",
        "env = gym.make('CartPole-v1', render_mode='rgb_array').unwrapped\n",
        "env.reset()\n",
        "screen = env.render()\n",
        "env.step(env.action_space.sample())\n",
        "env.close()\n",
        "plt.imshow(screen)\n",
        "plt.show()"
      ]
    },
    {
      "cell_type": "code",
      "execution_count": 46,
      "metadata": {
        "id": "uULN20vdDw9f",
        "outputId": "9839d0e8-83e3-4093-8ada-3eed83886d4c"
      },
      "outputs": [
        {
          "name": "stderr",
          "output_type": "stream",
          "text": [
            "/tmp/ipykernel_6714/2390887256.py:3: DeprecationWarning: CUBIC is deprecated and will be removed in Pillow 10 (2023-07-01). Use Resampling.BICUBIC instead.\n",
            "  T.Resize(40, interpolation=Image.CUBIC),\n",
            "/home/sero/.local/lib/python3.8/site-packages/torchvision/transforms/transforms.py:329: UserWarning: Argument 'interpolation' of type int is deprecated since 0.13 and will be removed in 0.15. Please use InterpolationMode enum.\n",
            "  warnings.warn(\n"
          ]
        },
        {
          "data": {
            "image/png": "[encoded data removed]",
            "text/plain": [
              "<Figure size 432x288 with 1 Axes>"
            ]
          },
          "metadata": {
            "needs_background": "light"
          },
          "output_type": "display_data"
        }
      ],
      "source": [
        "resize = T.Compose([\n",
        "    T.ToPILImage(),\n",
        "    T.Resize(40, interpolation=Image.CUBIC),\n",
        "    T.ToTensor()\n",
        "])\n",
        "# This is based on the code from gym.\n",
        "screen_width = 600\n",
        "\n",
        "\n",
        "def get_cart_location():\n",
        "    world_width = env.x_threshold * 2\n",
        "    scale = screen_width / world_width\n",
        "    return int(env.state[0] * scale + screen_width / 2.0)  # MIDDLE OF CART\n",
        "\n",
        "\n",
        "def get_screen():\n",
        "    screen = env.render().transpose((2, 0, 1))\n",
        "    screen = screen[:, 160:320]\n",
        "    view_width = 320\n",
        "    cart_location = get_cart_location()\n",
        "    if cart_location < view_width // 2:\n",
        "        slice_range = slice(view_width)\n",
        "    elif cart_location > (screen_width - view_width // 2):\n",
        "        slice_range = slice(-view_width, None)\n",
        "    else:\n",
        "        slice_range = slice(cart_location - view_width // 2,\n",
        "                            cart_location + view_width // 2)\n",
        "    # Strip off the edges, so that we have a square image centered on a cart\n",
        "    screen = screen[:, :, slice_range]\n",
        "    # Convert to float, rescare, convert to torch tensor\n",
        "    # (this doesn't require a copy)\n",
        "    screen = np.ascontiguousarray(screen, dtype=np.float32) / 255\n",
        "    screen = torch.from_numpy(screen)\n",
        "    # Resize, and add a batch dimension (BCHW)\n",
        "    return resize(screen).unsqueeze(0).type(Tensor)\n",
        "\n",
        "\n",
        "\n",
        "env = gym.make('CartPole-v1', render_mode='rgb_array').unwrapped\n",
        "env.reset()\n",
        "env.step(env.action_space.sample())\n",
        "plt.figure()\n",
        "plt.imshow(get_screen().cpu().squeeze(0).permute(1, 2, 0).numpy(),interpolation='none')\n",
        "plt.title('Example extracted screen')\n",
        "plt.show()\n",
        "env.close()"
      ]
    },
    {
      "cell_type": "code",
      "execution_count": 47,
      "metadata": {
        "id": "_OCB1FsCDw9g"
      },
      "outputs": [],
      "source": [
        "BATCH_SIZE = 128\n",
        "GAMMA = 0.999\n",
        "EPS_START = 0.9\n",
        "EPS_END = 0.05\n",
        "EPS_DECAY = 200\n",
        "TARGET_UPDATE = 10\n",
        "\n",
        "policy_net = DQN()\n",
        "target_net = DQN()\n",
        "target_net.load_state_dict(policy_net.state_dict())\n",
        "target_net.eval()\n",
        "\n",
        "if use_cuda:\n",
        "    policy_net.cuda()\n",
        "    target_net.cuda()\n",
        "\n",
        "optimizer = optim.RMSprop(policy_net.parameters())\n",
        "memory = ReplayMemory(10000)\n",
        "\n",
        "\n",
        "steps_done = 0\n",
        "\n",
        "\n",
        "def select_action(state):\n",
        "    global steps_done\n",
        "    sample = random.random()\n",
        "    eps_threshold = EPS_END + (EPS_START - EPS_END) * \\\n",
        "        math.exp(-1. * steps_done / EPS_DECAY)\n",
        "    steps_done += 1\n",
        "    if sample > eps_threshold:\n",
        "        with torch.no_grad():\n",
        "            return policy_net(state.type(FloatTensor)).data.max(1)[1].view(1, 1)\n",
        "    else:\n",
        "        return LongTensor([[random.randrange(2)]])\n",
        "\n",
        "\n",
        "episode_durations = []"
      ]
    },
    {
      "cell_type": "code",
      "execution_count": 48,
      "metadata": {
        "id": "0EsPBnhGDw9g"
      },
      "outputs": [],
      "source": [
        "def optimize_model():\n",
        "    if len(memory) < BATCH_SIZE:\n",
        "        return\n",
        "    transitions = memory.sample(BATCH_SIZE)\n",
        "    # Transpose the batch (see http://stackoverflow.com/a/19343/3343043 for\n",
        "    # detailed explanation).\n",
        "    batch = Transition(*zip(*transitions))\n",
        "\n",
        "    # Compute a mask of non-final states and concatenate the batch elements\n",
        "    non_final_mask = BoolTensor(tuple(map(lambda s: s is not None,\n",
        "                                          batch.next_state)))\n",
        "    non_final_next_states = torch.cat([s for s in batch.next_state\n",
        "                                       if s is not None])\n",
        "    state_batch = torch.cat(batch.state)\n",
        "    action_batch = torch.cat(batch.action)\n",
        "    reward_batch = torch.cat(batch.reward)\n",
        "\n",
        "    # Compute Q(s_t, a) - the model computes Q(s_t), then we select the\n",
        "    # columns of actions taken\n",
        "    state_action_values = policy_net(state_batch).gather(1, action_batch)\n",
        "\n",
        "    # Compute V(s_{t+1}) for all next states.\n",
        "    next_state_values = torch.zeros(BATCH_SIZE).type(Tensor)\n",
        "    with torch.no_grad():\n",
        "        next_state_values[non_final_mask] = target_net(non_final_next_states).max(1)[0]\n",
        "    # Compute the expected Q values\n",
        "    expected_state_action_values = (next_state_values * GAMMA) + reward_batch\n",
        "\n",
        "    # Compute Huber loss\n",
        "    loss = F.smooth_l1_loss(state_action_values, expected_state_action_values)\n",
        "\n",
        "    # Optimize the model\n",
        "    optimizer.zero_grad()\n",
        "    loss.backward()\n",
        "    for param in policy_net.parameters():\n",
        "        param.grad.data.clamp_(-1, 1)\n",
        "    optimizer.step()"
      ]
    },
    {
      "cell_type": "code",
      "execution_count": 49,
      "metadata": {
        "id": "va9jxIE7Dw9h"
      },
      "outputs": [],
      "source": [
        "def plot_durations():\n",
        "    plt.figure(2)\n",
        "    plt.clf()\n",
        "    durations_t = torch.FloatTensor(episode_durations)\n",
        "    plt.title('Training...')\n",
        "    plt.xlabel('Episode')\n",
        "    plt.ylabel('Duration')\n",
        "    plt.plot(durations_t.numpy())\n",
        "    # Take 100 episode averages and plot them too\n",
        "    if len(durations_t) >= 100:\n",
        "        means = durations_t.unfold(0, 100, 1).mean(1).view(-1)\n",
        "        means = torch.cat((torch.zeros(99), means))\n",
        "        plt.plot(means.numpy())\n",
        "\n",
        "    plt.pause(0.001)  # pause a bit so that plots are updated\n",
        "    if is_ipython:\n",
        "        display.clear_output(wait=True)\n",
        "    #     display.display(plt.gcf())"
      ]
    },
    {
      "cell_type": "code",
      "execution_count": 51,
      "metadata": {
        "id": "F_tIYPtFDw9h",
        "outputId": "d518b930-c692-4e93-cd2a-620128fc1ed0"
      },
      "outputs": [
        {
          "ename": "KeyboardInterrupt",
          "evalue": "",
          "output_type": "error",
          "traceback": [
            "\u001b[0;31m---------------------------------------------------------------------------\u001b[0m",
            "\u001b[0;31mKeyboardInterrupt\u001b[0m                         Traceback (most recent call last)",
            "\u001b[1;32m/home/sero/Downloads/lab_reinforcement_en.ipynb Cell 61\u001b[0m in \u001b[0;36m<cell line: 2>\u001b[0;34m()\u001b[0m\n\u001b[1;32m     <a href='vscode-notebook-cell:/home/sero/Downloads/lab_reinforcement_en.ipynb#Y121sZmlsZQ%3D%3D?line=29'>30</a>\u001b[0m     \u001b[39mif\u001b[39;00m done:\n\u001b[1;32m     <a href='vscode-notebook-cell:/home/sero/Downloads/lab_reinforcement_en.ipynb#Y121sZmlsZQ%3D%3D?line=30'>31</a>\u001b[0m         episode_durations\u001b[39m.\u001b[39mappend(t \u001b[39m+\u001b[39m \u001b[39m1\u001b[39m)\n\u001b[0;32m---> <a href='vscode-notebook-cell:/home/sero/Downloads/lab_reinforcement_en.ipynb#Y121sZmlsZQ%3D%3D?line=31'>32</a>\u001b[0m         plot_durations()\n\u001b[1;32m     <a href='vscode-notebook-cell:/home/sero/Downloads/lab_reinforcement_en.ipynb#Y121sZmlsZQ%3D%3D?line=32'>33</a>\u001b[0m         \u001b[39mbreak\u001b[39;00m\n\u001b[1;32m     <a href='vscode-notebook-cell:/home/sero/Downloads/lab_reinforcement_en.ipynb#Y121sZmlsZQ%3D%3D?line=33'>34</a>\u001b[0m \u001b[39m# Update the target network\u001b[39;00m\n",
            "\u001b[1;32m/home/sero/Downloads/lab_reinforcement_en.ipynb Cell 61\u001b[0m in \u001b[0;36mplot_durations\u001b[0;34m()\u001b[0m\n\u001b[1;32m     <a href='vscode-notebook-cell:/home/sero/Downloads/lab_reinforcement_en.ipynb#Y121sZmlsZQ%3D%3D?line=11'>12</a>\u001b[0m     means \u001b[39m=\u001b[39m torch\u001b[39m.\u001b[39mcat((torch\u001b[39m.\u001b[39mzeros(\u001b[39m99\u001b[39m), means))\n\u001b[1;32m     <a href='vscode-notebook-cell:/home/sero/Downloads/lab_reinforcement_en.ipynb#Y121sZmlsZQ%3D%3D?line=12'>13</a>\u001b[0m     plt\u001b[39m.\u001b[39mplot(means\u001b[39m.\u001b[39mnumpy())\n\u001b[0;32m---> <a href='vscode-notebook-cell:/home/sero/Downloads/lab_reinforcement_en.ipynb#Y121sZmlsZQ%3D%3D?line=14'>15</a>\u001b[0m plt\u001b[39m.\u001b[39;49mpause(\u001b[39m0.001\u001b[39;49m)  \u001b[39m# pause a bit so that plots are updated\u001b[39;00m\n\u001b[1;32m     <a href='vscode-notebook-cell:/home/sero/Downloads/lab_reinforcement_en.ipynb#Y121sZmlsZQ%3D%3D?line=15'>16</a>\u001b[0m \u001b[39mif\u001b[39;00m is_ipython:\n\u001b[1;32m     <a href='vscode-notebook-cell:/home/sero/Downloads/lab_reinforcement_en.ipynb#Y121sZmlsZQ%3D%3D?line=16'>17</a>\u001b[0m     display\u001b[39m.\u001b[39mclear_output(wait\u001b[39m=\u001b[39m\u001b[39mTrue\u001b[39;00m)\n",
            "File \u001b[0;32m~/.local/lib/python3.8/site-packages/matplotlib/pyplot.py:567\u001b[0m, in \u001b[0;36mpause\u001b[0;34m(interval)\u001b[0m\n\u001b[1;32m    565\u001b[0m canvas \u001b[39m=\u001b[39m manager\u001b[39m.\u001b[39mcanvas\n\u001b[1;32m    566\u001b[0m \u001b[39mif\u001b[39;00m canvas\u001b[39m.\u001b[39mfigure\u001b[39m.\u001b[39mstale:\n\u001b[0;32m--> 567\u001b[0m     canvas\u001b[39m.\u001b[39;49mdraw_idle()\n\u001b[1;32m    568\u001b[0m show(block\u001b[39m=\u001b[39m\u001b[39mFalse\u001b[39;00m)\n\u001b[1;32m    569\u001b[0m canvas\u001b[39m.\u001b[39mstart_event_loop(interval)\n",
            "File \u001b[0;32m~/.local/lib/python3.8/site-packages/matplotlib/backend_bases.py:2060\u001b[0m, in \u001b[0;36mFigureCanvasBase.draw_idle\u001b[0;34m(self, *args, **kwargs)\u001b[0m\n\u001b[1;32m   2058\u001b[0m \u001b[39mif\u001b[39;00m \u001b[39mnot\u001b[39;00m \u001b[39mself\u001b[39m\u001b[39m.\u001b[39m_is_idle_drawing:\n\u001b[1;32m   2059\u001b[0m     \u001b[39mwith\u001b[39;00m \u001b[39mself\u001b[39m\u001b[39m.\u001b[39m_idle_draw_cntx():\n\u001b[0;32m-> 2060\u001b[0m         \u001b[39mself\u001b[39;49m\u001b[39m.\u001b[39;49mdraw(\u001b[39m*\u001b[39;49margs, \u001b[39m*\u001b[39;49m\u001b[39m*\u001b[39;49mkwargs)\n",
            "File \u001b[0;32m~/.local/lib/python3.8/site-packages/matplotlib/backends/backend_agg.py:436\u001b[0m, in \u001b[0;36mFigureCanvasAgg.draw\u001b[0;34m(self)\u001b[0m\n\u001b[1;32m    432\u001b[0m \u001b[39m# Acquire a lock on the shared font cache.\u001b[39;00m\n\u001b[1;32m    433\u001b[0m \u001b[39mwith\u001b[39;00m RendererAgg\u001b[39m.\u001b[39mlock, \\\n\u001b[1;32m    434\u001b[0m      (\u001b[39mself\u001b[39m\u001b[39m.\u001b[39mtoolbar\u001b[39m.\u001b[39m_wait_cursor_for_draw_cm() \u001b[39mif\u001b[39;00m \u001b[39mself\u001b[39m\u001b[39m.\u001b[39mtoolbar\n\u001b[1;32m    435\u001b[0m       \u001b[39melse\u001b[39;00m nullcontext()):\n\u001b[0;32m--> 436\u001b[0m     \u001b[39mself\u001b[39;49m\u001b[39m.\u001b[39;49mfigure\u001b[39m.\u001b[39;49mdraw(\u001b[39mself\u001b[39;49m\u001b[39m.\u001b[39;49mrenderer)\n\u001b[1;32m    437\u001b[0m     \u001b[39m# A GUI class may be need to update a window using this draw, so\u001b[39;00m\n\u001b[1;32m    438\u001b[0m     \u001b[39m# don't forget to call the superclass.\u001b[39;00m\n\u001b[1;32m    439\u001b[0m     \u001b[39msuper\u001b[39m()\u001b[39m.\u001b[39mdraw()\n",
            "File \u001b[0;32m~/.local/lib/python3.8/site-packages/matplotlib/artist.py:73\u001b[0m, in \u001b[0;36m_finalize_rasterization.<locals>.draw_wrapper\u001b[0;34m(artist, renderer, *args, **kwargs)\u001b[0m\n\u001b[1;32m     71\u001b[0m \u001b[39m@wraps\u001b[39m(draw)\n\u001b[1;32m     72\u001b[0m \u001b[39mdef\u001b[39;00m \u001b[39mdraw_wrapper\u001b[39m(artist, renderer, \u001b[39m*\u001b[39margs, \u001b[39m*\u001b[39m\u001b[39m*\u001b[39mkwargs):\n\u001b[0;32m---> 73\u001b[0m     result \u001b[39m=\u001b[39m draw(artist, renderer, \u001b[39m*\u001b[39;49margs, \u001b[39m*\u001b[39;49m\u001b[39m*\u001b[39;49mkwargs)\n\u001b[1;32m     74\u001b[0m     \u001b[39mif\u001b[39;00m renderer\u001b[39m.\u001b[39m_rasterizing:\n\u001b[1;32m     75\u001b[0m         renderer\u001b[39m.\u001b[39mstop_rasterizing()\n",
            "File \u001b[0;32m~/.local/lib/python3.8/site-packages/matplotlib/artist.py:50\u001b[0m, in \u001b[0;36mallow_rasterization.<locals>.draw_wrapper\u001b[0;34m(artist, renderer)\u001b[0m\n\u001b[1;32m     47\u001b[0m     \u001b[39mif\u001b[39;00m artist\u001b[39m.\u001b[39mget_agg_filter() \u001b[39mis\u001b[39;00m \u001b[39mnot\u001b[39;00m \u001b[39mNone\u001b[39;00m:\n\u001b[1;32m     48\u001b[0m         renderer\u001b[39m.\u001b[39mstart_filter()\n\u001b[0;32m---> 50\u001b[0m     \u001b[39mreturn\u001b[39;00m draw(artist, renderer)\n\u001b[1;32m     51\u001b[0m \u001b[39mfinally\u001b[39;00m:\n\u001b[1;32m     52\u001b[0m     \u001b[39mif\u001b[39;00m artist\u001b[39m.\u001b[39mget_agg_filter() \u001b[39mis\u001b[39;00m \u001b[39mnot\u001b[39;00m \u001b[39mNone\u001b[39;00m:\n",
            "File \u001b[0;32m~/.local/lib/python3.8/site-packages/matplotlib/figure.py:2837\u001b[0m, in \u001b[0;36mFigure.draw\u001b[0;34m(self, renderer)\u001b[0m\n\u001b[1;32m   2834\u001b[0m         \u001b[39m# ValueError can occur when resizing a window.\u001b[39;00m\n\u001b[1;32m   2836\u001b[0m \u001b[39mself\u001b[39m\u001b[39m.\u001b[39mpatch\u001b[39m.\u001b[39mdraw(renderer)\n\u001b[0;32m-> 2837\u001b[0m mimage\u001b[39m.\u001b[39;49m_draw_list_compositing_images(\n\u001b[1;32m   2838\u001b[0m     renderer, \u001b[39mself\u001b[39;49m, artists, \u001b[39mself\u001b[39;49m\u001b[39m.\u001b[39;49msuppressComposite)\n\u001b[1;32m   2840\u001b[0m \u001b[39mfor\u001b[39;00m sfig \u001b[39min\u001b[39;00m \u001b[39mself\u001b[39m\u001b[39m.\u001b[39msubfigs:\n\u001b[1;32m   2841\u001b[0m     sfig\u001b[39m.\u001b[39mdraw(renderer)\n",
            "File \u001b[0;32m~/.local/lib/python3.8/site-packages/matplotlib/image.py:132\u001b[0m, in \u001b[0;36m_draw_list_compositing_images\u001b[0;34m(renderer, parent, artists, suppress_composite)\u001b[0m\n\u001b[1;32m    130\u001b[0m \u001b[39mif\u001b[39;00m not_composite \u001b[39mor\u001b[39;00m \u001b[39mnot\u001b[39;00m has_images:\n\u001b[1;32m    131\u001b[0m     \u001b[39mfor\u001b[39;00m a \u001b[39min\u001b[39;00m artists:\n\u001b[0;32m--> 132\u001b[0m         a\u001b[39m.\u001b[39;49mdraw(renderer)\n\u001b[1;32m    133\u001b[0m \u001b[39melse\u001b[39;00m:\n\u001b[1;32m    134\u001b[0m     \u001b[39m# Composite any adjacent images together\u001b[39;00m\n\u001b[1;32m    135\u001b[0m     image_group \u001b[39m=\u001b[39m []\n",
            "File \u001b[0;32m~/.local/lib/python3.8/site-packages/matplotlib/artist.py:50\u001b[0m, in \u001b[0;36mallow_rasterization.<locals>.draw_wrapper\u001b[0;34m(artist, renderer)\u001b[0m\n\u001b[1;32m     47\u001b[0m     \u001b[39mif\u001b[39;00m artist\u001b[39m.\u001b[39mget_agg_filter() \u001b[39mis\u001b[39;00m \u001b[39mnot\u001b[39;00m \u001b[39mNone\u001b[39;00m:\n\u001b[1;32m     48\u001b[0m         renderer\u001b[39m.\u001b[39mstart_filter()\n\u001b[0;32m---> 50\u001b[0m     \u001b[39mreturn\u001b[39;00m draw(artist, renderer)\n\u001b[1;32m     51\u001b[0m \u001b[39mfinally\u001b[39;00m:\n\u001b[1;32m     52\u001b[0m     \u001b[39mif\u001b[39;00m artist\u001b[39m.\u001b[39mget_agg_filter() \u001b[39mis\u001b[39;00m \u001b[39mnot\u001b[39;00m \u001b[39mNone\u001b[39;00m:\n",
            "File \u001b[0;32m~/.local/lib/python3.8/site-packages/matplotlib/axes/_base.py:3091\u001b[0m, in \u001b[0;36m_AxesBase.draw\u001b[0;34m(self, renderer)\u001b[0m\n\u001b[1;32m   3088\u001b[0m         a\u001b[39m.\u001b[39mdraw(renderer)\n\u001b[1;32m   3089\u001b[0m     renderer\u001b[39m.\u001b[39mstop_rasterizing()\n\u001b[0;32m-> 3091\u001b[0m mimage\u001b[39m.\u001b[39;49m_draw_list_compositing_images(\n\u001b[1;32m   3092\u001b[0m     renderer, \u001b[39mself\u001b[39;49m, artists, \u001b[39mself\u001b[39;49m\u001b[39m.\u001b[39;49mfigure\u001b[39m.\u001b[39;49msuppressComposite)\n\u001b[1;32m   3094\u001b[0m renderer\u001b[39m.\u001b[39mclose_group(\u001b[39m'\u001b[39m\u001b[39maxes\u001b[39m\u001b[39m'\u001b[39m)\n\u001b[1;32m   3095\u001b[0m \u001b[39mself\u001b[39m\u001b[39m.\u001b[39mstale \u001b[39m=\u001b[39m \u001b[39mFalse\u001b[39;00m\n",
            "File \u001b[0;32m~/.local/lib/python3.8/site-packages/matplotlib/image.py:132\u001b[0m, in \u001b[0;36m_draw_list_compositing_images\u001b[0;34m(renderer, parent, artists, suppress_composite)\u001b[0m\n\u001b[1;32m    130\u001b[0m \u001b[39mif\u001b[39;00m not_composite \u001b[39mor\u001b[39;00m \u001b[39mnot\u001b[39;00m has_images:\n\u001b[1;32m    131\u001b[0m     \u001b[39mfor\u001b[39;00m a \u001b[39min\u001b[39;00m artists:\n\u001b[0;32m--> 132\u001b[0m         a\u001b[39m.\u001b[39;49mdraw(renderer)\n\u001b[1;32m    133\u001b[0m \u001b[39melse\u001b[39;00m:\n\u001b[1;32m    134\u001b[0m     \u001b[39m# Composite any adjacent images together\u001b[39;00m\n\u001b[1;32m    135\u001b[0m     image_group \u001b[39m=\u001b[39m []\n",
            "File \u001b[0;32m~/.local/lib/python3.8/site-packages/matplotlib/artist.py:50\u001b[0m, in \u001b[0;36mallow_rasterization.<locals>.draw_wrapper\u001b[0;34m(artist, renderer)\u001b[0m\n\u001b[1;32m     47\u001b[0m     \u001b[39mif\u001b[39;00m artist\u001b[39m.\u001b[39mget_agg_filter() \u001b[39mis\u001b[39;00m \u001b[39mnot\u001b[39;00m \u001b[39mNone\u001b[39;00m:\n\u001b[1;32m     48\u001b[0m         renderer\u001b[39m.\u001b[39mstart_filter()\n\u001b[0;32m---> 50\u001b[0m     \u001b[39mreturn\u001b[39;00m draw(artist, renderer)\n\u001b[1;32m     51\u001b[0m \u001b[39mfinally\u001b[39;00m:\n\u001b[1;32m     52\u001b[0m     \u001b[39mif\u001b[39;00m artist\u001b[39m.\u001b[39mget_agg_filter() \u001b[39mis\u001b[39;00m \u001b[39mnot\u001b[39;00m \u001b[39mNone\u001b[39;00m:\n",
            "File \u001b[0;32m~/.local/lib/python3.8/site-packages/matplotlib/axis.py:1170\u001b[0m, in \u001b[0;36mAxis.draw\u001b[0;34m(self, renderer, *args, **kwargs)\u001b[0m\n\u001b[1;32m   1163\u001b[0m     tick\u001b[39m.\u001b[39mdraw(renderer)\n\u001b[1;32m   1165\u001b[0m \u001b[39m# scale up the axis label box to also find the neighbors, not\u001b[39;00m\n\u001b[1;32m   1166\u001b[0m \u001b[39m# just the tick labels that actually overlap note we need a\u001b[39;00m\n\u001b[1;32m   1167\u001b[0m \u001b[39m# *copy* of the axis label box because we don't want to scale\u001b[39;00m\n\u001b[1;32m   1168\u001b[0m \u001b[39m# the actual bbox\u001b[39;00m\n\u001b[0;32m-> 1170\u001b[0m \u001b[39mself\u001b[39;49m\u001b[39m.\u001b[39;49m_update_label_position(renderer)\n\u001b[1;32m   1172\u001b[0m \u001b[39mself\u001b[39m\u001b[39m.\u001b[39mlabel\u001b[39m.\u001b[39mdraw(renderer)\n\u001b[1;32m   1174\u001b[0m \u001b[39mself\u001b[39m\u001b[39m.\u001b[39m_update_offset_text_position(ticklabelBoxes, ticklabelBoxes2)\n",
            "File \u001b[0;32m~/.local/lib/python3.8/site-packages/matplotlib/axis.py:2083\u001b[0m, in \u001b[0;36mXAxis._update_label_position\u001b[0;34m(self, renderer)\u001b[0m\n\u001b[1;32m   2079\u001b[0m     \u001b[39mreturn\u001b[39;00m\n\u001b[1;32m   2081\u001b[0m \u001b[39m# get bounding boxes for this axis and any siblings\u001b[39;00m\n\u001b[1;32m   2082\u001b[0m \u001b[39m# that have been set by `fig.align_xlabels()`\u001b[39;00m\n\u001b[0;32m-> 2083\u001b[0m bboxes, bboxes2 \u001b[39m=\u001b[39m \u001b[39mself\u001b[39;49m\u001b[39m.\u001b[39;49m_get_tick_boxes_siblings(renderer\u001b[39m=\u001b[39;49mrenderer)\n\u001b[1;32m   2085\u001b[0m x, y \u001b[39m=\u001b[39m \u001b[39mself\u001b[39m\u001b[39m.\u001b[39mlabel\u001b[39m.\u001b[39mget_position()\n\u001b[1;32m   2086\u001b[0m \u001b[39mif\u001b[39;00m \u001b[39mself\u001b[39m\u001b[39m.\u001b[39mlabel_position \u001b[39m==\u001b[39m \u001b[39m'\u001b[39m\u001b[39mbottom\u001b[39m\u001b[39m'\u001b[39m:\n",
            "File \u001b[0;32m~/.local/lib/python3.8/site-packages/matplotlib/axis.py:1880\u001b[0m, in \u001b[0;36mAxis._get_tick_boxes_siblings\u001b[0;34m(self, renderer)\u001b[0m\n\u001b[1;32m   1878\u001b[0m \u001b[39mfor\u001b[39;00m ax \u001b[39min\u001b[39;00m grouper\u001b[39m.\u001b[39mget_siblings(\u001b[39mself\u001b[39m\u001b[39m.\u001b[39maxes):\n\u001b[1;32m   1879\u001b[0m     axis \u001b[39m=\u001b[39m \u001b[39mgetattr\u001b[39m(ax, \u001b[39mf\u001b[39m\u001b[39m\"\u001b[39m\u001b[39m{\u001b[39;00maxis_name\u001b[39m}\u001b[39;00m\u001b[39maxis\u001b[39m\u001b[39m\"\u001b[39m)\n\u001b[0;32m-> 1880\u001b[0m     ticks_to_draw \u001b[39m=\u001b[39m axis\u001b[39m.\u001b[39;49m_update_ticks()\n\u001b[1;32m   1881\u001b[0m     tlb, tlb2 \u001b[39m=\u001b[39m axis\u001b[39m.\u001b[39m_get_tick_bboxes(ticks_to_draw, renderer)\n\u001b[1;32m   1882\u001b[0m     bboxes\u001b[39m.\u001b[39mextend(tlb)\n",
            "File \u001b[0;32m~/.local/lib/python3.8/site-packages/matplotlib/axis.py:1053\u001b[0m, in \u001b[0;36mAxis._update_ticks\u001b[0;34m(self)\u001b[0m\n\u001b[1;32m   1051\u001b[0m     tick\u001b[39m.\u001b[39mset_label1(label)\n\u001b[1;32m   1052\u001b[0m     tick\u001b[39m.\u001b[39mset_label2(label)\n\u001b[0;32m-> 1053\u001b[0m minor_locs \u001b[39m=\u001b[39m \u001b[39mself\u001b[39;49m\u001b[39m.\u001b[39;49mget_minorticklocs()\n\u001b[1;32m   1054\u001b[0m minor_labels \u001b[39m=\u001b[39m \u001b[39mself\u001b[39m\u001b[39m.\u001b[39mminor\u001b[39m.\u001b[39mformatter\u001b[39m.\u001b[39mformat_ticks(minor_locs)\n\u001b[1;32m   1055\u001b[0m minor_ticks \u001b[39m=\u001b[39m \u001b[39mself\u001b[39m\u001b[39m.\u001b[39mget_minor_ticks(\u001b[39mlen\u001b[39m(minor_locs))\n",
            "File \u001b[0;32m~/.local/lib/python3.8/site-packages/matplotlib/axis.py:1282\u001b[0m, in \u001b[0;36mAxis.get_minorticklocs\u001b[0;34m(self)\u001b[0m\n\u001b[1;32m   1280\u001b[0m \u001b[39m\"\"\"Return this Axis' minor tick locations in data coordinates.\"\"\"\u001b[39;00m\n\u001b[1;32m   1281\u001b[0m \u001b[39m# Remove minor ticks duplicating major ticks.\u001b[39;00m\n\u001b[0;32m-> 1282\u001b[0m major_locs \u001b[39m=\u001b[39m \u001b[39mself\u001b[39;49m\u001b[39m.\u001b[39;49mmajor\u001b[39m.\u001b[39;49mlocator()\n\u001b[1;32m   1283\u001b[0m minor_locs \u001b[39m=\u001b[39m \u001b[39mself\u001b[39m\u001b[39m.\u001b[39mminor\u001b[39m.\u001b[39mlocator()\n\u001b[1;32m   1284\u001b[0m transform \u001b[39m=\u001b[39m \u001b[39mself\u001b[39m\u001b[39m.\u001b[39m_scale\u001b[39m.\u001b[39mget_transform()\n",
            "File \u001b[0;32m~/.local/lib/python3.8/site-packages/matplotlib/ticker.py:2115\u001b[0m, in \u001b[0;36mMaxNLocator.__call__\u001b[0;34m(self)\u001b[0m\n\u001b[1;32m   2113\u001b[0m \u001b[39mdef\u001b[39;00m \u001b[39m__call__\u001b[39m(\u001b[39mself\u001b[39m):\n\u001b[1;32m   2114\u001b[0m     vmin, vmax \u001b[39m=\u001b[39m \u001b[39mself\u001b[39m\u001b[39m.\u001b[39maxis\u001b[39m.\u001b[39mget_view_interval()\n\u001b[0;32m-> 2115\u001b[0m     \u001b[39mreturn\u001b[39;00m \u001b[39mself\u001b[39;49m\u001b[39m.\u001b[39;49mtick_values(vmin, vmax)\n",
            "File \u001b[0;32m~/.local/lib/python3.8/site-packages/matplotlib/ticker.py:2123\u001b[0m, in \u001b[0;36mMaxNLocator.tick_values\u001b[0;34m(self, vmin, vmax)\u001b[0m\n\u001b[1;32m   2120\u001b[0m     vmin \u001b[39m=\u001b[39m \u001b[39m-\u001b[39mvmax\n\u001b[1;32m   2121\u001b[0m vmin, vmax \u001b[39m=\u001b[39m mtransforms\u001b[39m.\u001b[39mnonsingular(\n\u001b[1;32m   2122\u001b[0m     vmin, vmax, expander\u001b[39m=\u001b[39m\u001b[39m1e-13\u001b[39m, tiny\u001b[39m=\u001b[39m\u001b[39m1e-14\u001b[39m)\n\u001b[0;32m-> 2123\u001b[0m locs \u001b[39m=\u001b[39m \u001b[39mself\u001b[39;49m\u001b[39m.\u001b[39;49m_raw_ticks(vmin, vmax)\n\u001b[1;32m   2125\u001b[0m prune \u001b[39m=\u001b[39m \u001b[39mself\u001b[39m\u001b[39m.\u001b[39m_prune\n\u001b[1;32m   2126\u001b[0m \u001b[39mif\u001b[39;00m prune \u001b[39m==\u001b[39m \u001b[39m'\u001b[39m\u001b[39mlower\u001b[39m\u001b[39m'\u001b[39m:\n",
            "File \u001b[0;32m~/.local/lib/python3.8/site-packages/matplotlib/ticker.py:2062\u001b[0m, in \u001b[0;36mMaxNLocator._raw_ticks\u001b[0;34m(self, vmin, vmax)\u001b[0m\n\u001b[1;32m   2060\u001b[0m \u001b[39mif\u001b[39;00m \u001b[39mself\u001b[39m\u001b[39m.\u001b[39m_nbins \u001b[39m==\u001b[39m \u001b[39m'\u001b[39m\u001b[39mauto\u001b[39m\u001b[39m'\u001b[39m:\n\u001b[1;32m   2061\u001b[0m     \u001b[39mif\u001b[39;00m \u001b[39mself\u001b[39m\u001b[39m.\u001b[39maxis \u001b[39mis\u001b[39;00m \u001b[39mnot\u001b[39;00m \u001b[39mNone\u001b[39;00m:\n\u001b[0;32m-> 2062\u001b[0m         nbins \u001b[39m=\u001b[39m np\u001b[39m.\u001b[39mclip(\u001b[39mself\u001b[39;49m\u001b[39m.\u001b[39;49maxis\u001b[39m.\u001b[39;49mget_tick_space(),\n\u001b[1;32m   2063\u001b[0m                         \u001b[39mmax\u001b[39m(\u001b[39m1\u001b[39m, \u001b[39mself\u001b[39m\u001b[39m.\u001b[39m_min_n_ticks \u001b[39m-\u001b[39m \u001b[39m1\u001b[39m), \u001b[39m9\u001b[39m)\n\u001b[1;32m   2064\u001b[0m     \u001b[39melse\u001b[39;00m:\n\u001b[1;32m   2065\u001b[0m         nbins \u001b[39m=\u001b[39m \u001b[39m9\u001b[39m\n",
            "File \u001b[0;32m~/.local/lib/python3.8/site-packages/matplotlib/axis.py:2260\u001b[0m, in \u001b[0;36mXAxis.get_tick_space\u001b[0;34m(self)\u001b[0m\n\u001b[1;32m   2258\u001b[0m \u001b[39mdef\u001b[39;00m \u001b[39mget_tick_space\u001b[39m(\u001b[39mself\u001b[39m):\n\u001b[1;32m   2259\u001b[0m     ends \u001b[39m=\u001b[39m mtransforms\u001b[39m.\u001b[39mBbox\u001b[39m.\u001b[39mfrom_bounds(\u001b[39m0\u001b[39m, \u001b[39m0\u001b[39m, \u001b[39m1\u001b[39m, \u001b[39m1\u001b[39m)\n\u001b[0;32m-> 2260\u001b[0m     ends \u001b[39m=\u001b[39m ends\u001b[39m.\u001b[39;49mtransformed(\u001b[39mself\u001b[39;49m\u001b[39m.\u001b[39;49maxes\u001b[39m.\u001b[39;49mtransAxes \u001b[39m-\u001b[39;49m\n\u001b[1;32m   2261\u001b[0m                             \u001b[39mself\u001b[39;49m\u001b[39m.\u001b[39;49mfigure\u001b[39m.\u001b[39;49mdpi_scale_trans)\n\u001b[1;32m   2262\u001b[0m     length \u001b[39m=\u001b[39m ends\u001b[39m.\u001b[39mwidth \u001b[39m*\u001b[39m \u001b[39m72\u001b[39m\n\u001b[1;32m   2263\u001b[0m     \u001b[39m# There is a heuristic here that the aspect ratio of tick text\u001b[39;00m\n\u001b[1;32m   2264\u001b[0m     \u001b[39m# is no more than 3:1\u001b[39;00m\n",
            "File \u001b[0;32m~/.local/lib/python3.8/site-packages/matplotlib/transforms.py:492\u001b[0m, in \u001b[0;36mBboxBase.transformed\u001b[0;34m(self, transform)\u001b[0m\n\u001b[1;32m    488\u001b[0m \u001b[39m\"\"\"\u001b[39;00m\n\u001b[1;32m    489\u001b[0m \u001b[39mConstruct a `Bbox` by statically transforming this one by *transform*.\u001b[39;00m\n\u001b[1;32m    490\u001b[0m \u001b[39m\"\"\"\u001b[39;00m\n\u001b[1;32m    491\u001b[0m pts \u001b[39m=\u001b[39m \u001b[39mself\u001b[39m\u001b[39m.\u001b[39mget_points()\n\u001b[0;32m--> 492\u001b[0m ll, ul, lr \u001b[39m=\u001b[39m transform\u001b[39m.\u001b[39;49mtransform(np\u001b[39m.\u001b[39;49marray(\n\u001b[1;32m    493\u001b[0m     [pts[\u001b[39m0\u001b[39;49m], [pts[\u001b[39m0\u001b[39;49m, \u001b[39m0\u001b[39;49m], pts[\u001b[39m1\u001b[39;49m, \u001b[39m1\u001b[39;49m]], [pts[\u001b[39m1\u001b[39;49m, \u001b[39m0\u001b[39;49m], pts[\u001b[39m0\u001b[39;49m, \u001b[39m1\u001b[39;49m]]]))\n\u001b[1;32m    494\u001b[0m \u001b[39mreturn\u001b[39;00m Bbox([ll, [lr[\u001b[39m0\u001b[39m], ul[\u001b[39m1\u001b[39m]]])\n",
            "File \u001b[0;32m~/.local/lib/python3.8/site-packages/matplotlib/transforms.py:1503\u001b[0m, in \u001b[0;36mTransform.transform\u001b[0;34m(self, values)\u001b[0m\n\u001b[1;32m   1500\u001b[0m values \u001b[39m=\u001b[39m values\u001b[39m.\u001b[39mreshape((\u001b[39m-\u001b[39m\u001b[39m1\u001b[39m, \u001b[39mself\u001b[39m\u001b[39m.\u001b[39minput_dims))\n\u001b[1;32m   1502\u001b[0m \u001b[39m# Transform the values\u001b[39;00m\n\u001b[0;32m-> 1503\u001b[0m res \u001b[39m=\u001b[39m \u001b[39mself\u001b[39;49m\u001b[39m.\u001b[39;49mtransform_affine(\u001b[39mself\u001b[39;49m\u001b[39m.\u001b[39;49mtransform_non_affine(values))\n\u001b[1;32m   1505\u001b[0m \u001b[39m# Convert the result back to the shape of the input values.\u001b[39;00m\n\u001b[1;32m   1506\u001b[0m \u001b[39mif\u001b[39;00m ndim \u001b[39m==\u001b[39m \u001b[39m0\u001b[39m:\n",
            "File \u001b[0;32m~/.local/lib/python3.8/site-packages/matplotlib/transforms.py:2419\u001b[0m, in \u001b[0;36mCompositeGenericTransform.transform_affine\u001b[0;34m(self, points)\u001b[0m\n\u001b[1;32m   2417\u001b[0m \u001b[39mdef\u001b[39;00m \u001b[39mtransform_affine\u001b[39m(\u001b[39mself\u001b[39m, points):\n\u001b[1;32m   2418\u001b[0m     \u001b[39m# docstring inherited\u001b[39;00m\n\u001b[0;32m-> 2419\u001b[0m     \u001b[39mreturn\u001b[39;00m \u001b[39mself\u001b[39;49m\u001b[39m.\u001b[39;49mget_affine()\u001b[39m.\u001b[39;49mtransform(points)\n",
            "File \u001b[0;32m~/.local/lib/python3.8/site-packages/matplotlib/transforms.py:1798\u001b[0m, in \u001b[0;36mAffineBase.transform\u001b[0;34m(self, values)\u001b[0m\n\u001b[1;32m   1796\u001b[0m \u001b[39mdef\u001b[39;00m \u001b[39mtransform\u001b[39m(\u001b[39mself\u001b[39m, values):\n\u001b[1;32m   1797\u001b[0m     \u001b[39m# docstring inherited\u001b[39;00m\n\u001b[0;32m-> 1798\u001b[0m     \u001b[39mreturn\u001b[39;00m \u001b[39mself\u001b[39;49m\u001b[39m.\u001b[39;49mtransform_affine(values)\n",
            "File \u001b[0;32m~/.local/lib/python3.8/site-packages/matplotlib/transforms.py:1867\u001b[0m, in \u001b[0;36mAffine2DBase.transform_affine\u001b[0;34m(self, points)\u001b[0m\n\u001b[1;32m   1865\u001b[0m     tpoints \u001b[39m=\u001b[39m affine_transform(points\u001b[39m.\u001b[39mdata, mtx)\n\u001b[1;32m   1866\u001b[0m     \u001b[39mreturn\u001b[39;00m np\u001b[39m.\u001b[39mma\u001b[39m.\u001b[39mMaskedArray(tpoints, mask\u001b[39m=\u001b[39mnp\u001b[39m.\u001b[39mma\u001b[39m.\u001b[39mgetmask(points))\n\u001b[0;32m-> 1867\u001b[0m \u001b[39mreturn\u001b[39;00m affine_transform(points, mtx)\n",
            "\u001b[0;31mKeyboardInterrupt\u001b[0m: "
          ]
        },
        {
          "data": {
            "image/png": "[encoded data removed]",
            "text/plain": [
              "<Figure size 432x288 with 1 Axes>"
            ]
          },
          "metadata": {
            "needs_background": "light"
          },
          "output_type": "display_data"
        }
      ],
      "source": [
        "num_episodes = 50\n",
        "for i_episode in range(num_episodes):\n",
        "    # Initialize the environment and state\n",
        "    env.reset()\n",
        "    last_screen = get_screen()\n",
        "    current_screen = get_screen()\n",
        "    state = current_screen - last_screen\n",
        "    for t in count():\n",
        "        # Select and perform an action\n",
        "        action = select_action(state)\n",
        "        _, reward, done, _, info = env.step(action[0, 0].item())\n",
        "        reward = Tensor([reward])\n",
        "\n",
        "        # Observe new state\n",
        "        last_screen = current_screen\n",
        "        current_screen = get_screen()\n",
        "        if not done:\n",
        "            next_state = current_screen - last_screen\n",
        "        else:\n",
        "            next_state = None\n",
        "\n",
        "        # Store the transition in memory\n",
        "        memory.push(state, action, next_state, reward)\n",
        "\n",
        "        # Move to the next state\n",
        "        state = next_state\n",
        "\n",
        "        # Perform one step of the optimization (on the target network)\n",
        "        optimize_model()\n",
        "        if done:\n",
        "            episode_durations.append(t + 1)\n",
        "            plot_durations()\n",
        "            break\n",
        "    # Update the target network\n",
        "    if i_episode % TARGET_UPDATE == 0:\n",
        "        target_net.load_state_dict(policy_net.state_dict())\n",
        "\n",
        "print('Complete')\n",
        "env.close()\n",
        "plt.ioff()\n",
        "plt.show()"
      ]
    },
    {
      "cell_type": "code",
      "execution_count": 52,
      "metadata": {
        "id": "hLO9FQmZDw9i"
      },
      "outputs": [],
      "source": [
        "tran = memory.sample(1)[0]"
      ]
    },
    {
      "cell_type": "code",
      "execution_count": 53,
      "metadata": {
        "id": "_C6Nt3mQDw9i",
        "outputId": "a34df7ed-3fdb-4152-fd3c-690eea816491"
      },
      "outputs": [
        {
          "data": {
            "text/plain": [
              "<matplotlib.image.AxesImage at 0x7fb93f996940>"
            ]
          },
          "execution_count": 53,
          "metadata": {},
          "output_type": "execute_result"
        },
        {
          "data": {
            "image/png": "[encoded data removed]",
            "text/plain": [
              "<Figure size 432x288 with 1 Axes>"
            ]
          },
          "metadata": {
            "needs_background": "light"
          },
          "output_type": "display_data"
        }
      ],
      "source": [
        "plt.imshow(tran.state.cpu().squeeze(0).permute(1, 2, 0).numpy() + 0.5)"
      ]
    },
    {
      "cell_type": "code",
      "execution_count": 54,
      "metadata": {
        "id": "Z6ZdmnwkDw9i",
        "outputId": "87302363-2921-4986-814a-4d3c97415da9"
      },
      "outputs": [
        {
          "data": {
            "text/plain": [
              "376"
            ]
          },
          "execution_count": 54,
          "metadata": {},
          "output_type": "execute_result"
        }
      ],
      "source": [
        "len(memory)"
      ]
    },
    {
      "cell_type": "code",
      "execution_count": 55,
      "metadata": {
        "id": "YitlD1mCDw9j"
      },
      "outputs": [],
      "source": [
        "env.close()"
      ]
    },
    {
      "cell_type": "markdown",
      "metadata": {},
      "source": [
        "### Homework\n",
        "\n",
        "Your goal is to achieve stable 300+ duration on CartPole task"
      ]
    }
  ],
  "metadata": {
    "colab": {
      "provenance": []
    },
    "kernelspec": {
      "display_name": "Python 3.8.10 64-bit",
      "language": "python",
      "name": "python3"
    },
    "language_info": {
      "codemirror_mode": {
        "name": "ipython",
        "version": 3
      },
      "file_extension": ".py",
      "mimetype": "text/x-python",
      "name": "python",
      "nbconvert_exporter": "python",
      "pygments_lexer": "ipython3",
      "version": "3.8.10"
    },
    "vscode": {
      "interpreter": {
        "hash": "916dbcbb3f70747c44a77c7bcd40155683ae19c65e1c03b4aa3499c5328201f1"
      }
    }
  },
  "nbformat": 4,
  "nbformat_minor": 0
}
