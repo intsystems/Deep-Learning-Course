{
  "nbformat": 4,
  "nbformat_minor": 0,
  "metadata": {
    "colab": {
      "provenance": [],
      "gpuType": "T4"
    },
    "kernelspec": {
      "name": "python3",
      "display_name": "Python 3"
    },
    "language_info": {
      "name": "python"
    },
    "accelerator": "GPU"
  },
  "cells": [
    {
      "cell_type": "markdown",
      "source": [
        "# Seminar 2: Learn the Basics\n",
        "\n",
        "**Deep Learning Course 2025**\n",
        "\n",
        "**Author:** Nikita Kiselev"
      ],
      "metadata": {
        "id": "UUBq5QzjQjcJ"
      }
    },
    {
      "cell_type": "markdown",
      "source": [
        "## 1. Introduction"
      ],
      "metadata": {
        "id": "XavyjBjbSKhU"
      }
    },
    {
      "cell_type": "markdown",
      "source": [
        "Most machine learning workflows involve working with data, creating\n",
        "models, optimizing model parameters, and saving the trained models. This\n",
        "tutorial introduces you to a complete ML workflow implemented in\n",
        "PyTorch, with links to learn more about each of these concepts.\n",
        "\n",
        "We\\'ll use the FashionMNIST dataset to train a neural network that\n",
        "predicts if an input image belongs to one of the following classes:\n",
        "T-shirt/top, Trouser, Pullover, Dress, Coat, Sandal, Shirt, Sneaker,\n",
        "Bag, or Ankle boot."
      ],
      "metadata": {
        "id": "9fYHYzzhRJSU"
      }
    },
    {
      "cell_type": "markdown",
      "source": [
        "## 2. Tensors"
      ],
      "metadata": {
        "id": "-WghDqxySpDA"
      }
    },
    {
      "cell_type": "markdown",
      "metadata": {
        "id": "avtESFTURpt8"
      },
      "source": [
        "Tensors are a specialized data structure that are very similar to arrays\n",
        "and matrices. In PyTorch, we use tensors to encode the inputs and\n",
        "outputs of a model, as well as the model's parameters.\n",
        "\n",
        "Tensors are similar to [NumPy's](https://numpy.org/) ndarrays, except\n",
        "that tensors can run on GPUs or other hardware accelerators. In fact,\n",
        "tensors and NumPy arrays can often share the same underlying memory,\n",
        "eliminating the need to copy data. Tensors are also\n",
        "optimized for automatic differentiation (see Lecture 1 + Seminar 1). If you're\n",
        "familiar with ndarrays, you'll be right at home with the Tensor API. If\n",
        "not, follow along!\n"
      ]
    },
    {
      "cell_type": "code",
      "source": [
        "!pip install -q torchviz"
      ],
      "metadata": {
        "id": "dSzreTHS_KbD"
      },
      "execution_count": 1,
      "outputs": []
    },
    {
      "cell_type": "code",
      "execution_count": 2,
      "metadata": {
        "id": "AdPeELVpRpt-"
      },
      "outputs": [],
      "source": [
        "import torch\n",
        "import numpy as np\n",
        "from torchviz import make_dot"
      ]
    },
    {
      "cell_type": "markdown",
      "source": [
        "### 2.1. Initializing a Tensor"
      ],
      "metadata": {
        "id": "yegopzmCS_LT"
      }
    },
    {
      "cell_type": "markdown",
      "metadata": {
        "id": "leXIQ0-oRpt_"
      },
      "source": [
        "Tensors can be initialized in various ways. Take a look at the following\n",
        "examples:\n",
        "\n",
        "**Directly from data**\n",
        "\n",
        "Tensors can be created directly from data. The data type is\n",
        "automatically inferred.\n"
      ]
    },
    {
      "cell_type": "code",
      "execution_count": 3,
      "metadata": {
        "id": "_F_JDw26Rpt_"
      },
      "outputs": [],
      "source": [
        "data = [[1, 2],[3, 4]]\n",
        "x_data = torch.tensor(data)"
      ]
    },
    {
      "cell_type": "markdown",
      "metadata": {
        "id": "xmiBhol-RpuA"
      },
      "source": [
        "**From a NumPy array**\n",
        "\n",
        "Tensors can be created from NumPy arrays (and vice versa).\n"
      ]
    },
    {
      "cell_type": "code",
      "execution_count": 4,
      "metadata": {
        "id": "ue7UemVFRpuA"
      },
      "outputs": [],
      "source": [
        "np_array = np.array(data)\n",
        "x_np = torch.from_numpy(np_array)\n",
        "\n",
        "# Alternative\n",
        "# x_np = torch.tensor(np_array)"
      ]
    },
    {
      "cell_type": "markdown",
      "metadata": {
        "id": "8gvULxe6RpuC"
      },
      "source": [
        "**From another tensor:**\n",
        "\n",
        "The new tensor retains the properties (shape, datatype) of the argument\n",
        "tensor, unless explicitly overridden.\n"
      ]
    },
    {
      "cell_type": "code",
      "execution_count": 5,
      "metadata": {
        "id": "WWzRpeFhRpuD",
        "colab": {
          "base_uri": "https://localhost:8080/"
        },
        "outputId": "c9cf8f46-15d1-40b4-8435-8c20aff074ea"
      },
      "outputs": [
        {
          "output_type": "stream",
          "name": "stdout",
          "text": [
            "Ones Tensor: \n",
            " tensor([[1, 1],\n",
            "        [1, 1]]) \n",
            "\n",
            "Random Tensor: \n",
            " tensor([[0.6291, 0.0407],\n",
            "        [0.1246, 0.0905]]) \n",
            "\n"
          ]
        }
      ],
      "source": [
        "x_ones = torch.ones_like(x_data) # retains the properties of x_data\n",
        "print(f\"Ones Tensor: \\n {x_ones} \\n\")\n",
        "\n",
        "x_rand = torch.rand_like(x_data, dtype=torch.float) # overrides the datatype of x_data\n",
        "print(f\"Random Tensor: \\n {x_rand} \\n\")"
      ]
    },
    {
      "cell_type": "markdown",
      "metadata": {
        "id": "YKz2MTcDRpuE"
      },
      "source": [
        "**With random or constant values:**\n",
        "\n",
        "`shape` is a tuple of tensor dimensions. In the functions below, it\n",
        "determines the dimensionality of the output tensor.\n"
      ]
    },
    {
      "cell_type": "code",
      "execution_count": 6,
      "metadata": {
        "id": "ObtJr_HORpuE",
        "colab": {
          "base_uri": "https://localhost:8080/"
        },
        "outputId": "b17c7027-4a43-4e4e-f028-f6b5bf6f337f"
      },
      "outputs": [
        {
          "output_type": "stream",
          "name": "stdout",
          "text": [
            "Random Tensor: \n",
            " tensor([[0.9489, 0.2611, 0.5786],\n",
            "        [0.8300, 0.8108, 0.1453]]) \n",
            "\n",
            "Ones Tensor: \n",
            " tensor([[1., 1., 1.],\n",
            "        [1., 1., 1.]]) \n",
            "\n",
            "Zeros Tensor: \n",
            " tensor([[0., 0., 0.],\n",
            "        [0., 0., 0.]]) \n",
            "\n",
            "Full Tensor: \n",
            " tensor([[7, 7, 7],\n",
            "        [7, 7, 7]])\n"
          ]
        }
      ],
      "source": [
        "shape = (2,3,)\n",
        "rand_tensor = torch.rand(shape)\n",
        "ones_tensor = torch.ones(shape)\n",
        "zeros_tensor = torch.zeros(shape)\n",
        "full_tensor = torch.full(shape, 7)\n",
        "\n",
        "print(f\"Random Tensor: \\n {rand_tensor} \\n\")\n",
        "print(f\"Ones Tensor: \\n {ones_tensor} \\n\")\n",
        "print(f\"Zeros Tensor: \\n {zeros_tensor} \\n\")\n",
        "print(f\"Full Tensor: \\n {full_tensor}\")"
      ]
    },
    {
      "cell_type": "markdown",
      "source": [
        "### 2.2. Attributes of a Tensor"
      ],
      "metadata": {
        "id": "teLJEjzUS6zh"
      }
    },
    {
      "cell_type": "markdown",
      "metadata": {
        "id": "6Ys7tgddRpuF"
      },
      "source": [
        "\n",
        "\n",
        "Tensor attributes describe their shape, datatype, and the device on\n",
        "which they are stored.\n"
      ]
    },
    {
      "cell_type": "code",
      "execution_count": 7,
      "metadata": {
        "id": "Lm3pchoyRpuF",
        "colab": {
          "base_uri": "https://localhost:8080/"
        },
        "outputId": "dc0fe30d-4c15-4aee-ba4c-eb71dcd43c00"
      },
      "outputs": [
        {
          "output_type": "stream",
          "name": "stdout",
          "text": [
            "Shape of tensor: torch.Size([3, 4]) or torch.Size([3, 4])\n",
            "Datatype of tensor: torch.float32\n",
            "Number of dimensions: 2\n",
            "Total size: 12 or 12\n",
            "Requires gradient calculation?: False\n",
            "Device tensor is stored on: cpu\n"
          ]
        }
      ],
      "source": [
        "tensor = torch.rand(3,4)\n",
        "\n",
        "print(f\"Shape of tensor: {tensor.shape} or {tensor.size()}\")\n",
        "print(f\"Datatype of tensor: {tensor.dtype}\")\n",
        "print(f\"Number of dimensions: {tensor.ndim}\")\n",
        "print(f\"Total size: {tensor.nelement()} or {tensor.shape.numel()}\")\n",
        "print(f\"Requires gradient calculation?: {tensor.requires_grad}\")\n",
        "\n",
        "print(f\"Device tensor is stored on: {tensor.device}\")"
      ]
    },
    {
      "cell_type": "markdown",
      "source": [
        "### 2.3. Operations on Tensors"
      ],
      "metadata": {
        "id": "iWA29JfETEDo"
      }
    },
    {
      "cell_type": "markdown",
      "metadata": {
        "id": "D_P2D7sxRpuF"
      },
      "source": [
        "Over 1200 tensor operations, including arithmetic, linear algebra,\n",
        "matrix manipulation (transposing, indexing, slicing), sampling and more\n",
        "are comprehensively described\n",
        "[here](https://pytorch.org/docs/stable/torch.html).\n",
        "\n",
        "Each of these operations can be run on the CPU and\n",
        "[Accelerator](https://pytorch.org/docs/stable/torch.html#accelerators)\n",
        "such as CUDA, MPS, MTIA, or XPU. If you're using Colab, allocate an\n",
        "accelerator by going to Runtime \\> Change runtime type \\> GPU.\n",
        "\n",
        "By default, tensors are created on the CPU. We need to explicitly move\n",
        "tensors to the accelerator using `.to` method (after checking for\n",
        "accelerator availability). Keep in mind that copying large tensors\n",
        "across devices can be expensive in terms of time and memory!\n"
      ]
    },
    {
      "cell_type": "code",
      "source": [
        "torch.cuda.is_available()"
      ],
      "metadata": {
        "colab": {
          "base_uri": "https://localhost:8080/"
        },
        "id": "XJUpVXleuuyL",
        "outputId": "ae514c54-7eec-48f6-d324-c836561fbbc0"
      },
      "execution_count": 8,
      "outputs": [
        {
          "output_type": "execute_result",
          "data": {
            "text/plain": [
              "True"
            ]
          },
          "metadata": {},
          "execution_count": 8
        }
      ]
    },
    {
      "cell_type": "code",
      "execution_count": 9,
      "metadata": {
        "id": "MhyrqhsARpuG",
        "colab": {
          "base_uri": "https://localhost:8080/"
        },
        "outputId": "73e6bc73-f0c3-428d-a512-31c6d7074539"
      },
      "outputs": [
        {
          "output_type": "stream",
          "name": "stdout",
          "text": [
            "Whether any accelerator is available? True\n",
            "Whether cuda is available? True\n"
          ]
        }
      ],
      "source": [
        "# We move our tensor to the current accelerator if available\n",
        "print(\"Whether any accelerator is available?\", torch.accelerator.is_available())\n",
        "print(\"Whether cuda is available?\", torch.cuda.is_available())\n",
        "\n",
        "if torch.accelerator.is_available():\n",
        "    tensor = tensor.to(torch.accelerator.current_accelerator())"
      ]
    },
    {
      "cell_type": "markdown",
      "metadata": {
        "id": "AYaSyscMRpuG"
      },
      "source": [
        "Try out some of the operations from the list. If you\\'re familiar with\n",
        "the NumPy API, you\\'ll find the Tensor API a breeze to use.\n"
      ]
    },
    {
      "cell_type": "markdown",
      "metadata": {
        "id": "huM16VlfRpuG"
      },
      "source": [
        "**Standard numpy-like indexing and slicing:**\n"
      ]
    },
    {
      "cell_type": "code",
      "execution_count": 10,
      "metadata": {
        "id": "tqY4TvVRRpuG",
        "colab": {
          "base_uri": "https://localhost:8080/"
        },
        "outputId": "1bce36b0-d232-4730-fe45-c0d9e81fc1c5"
      },
      "outputs": [
        {
          "output_type": "stream",
          "name": "stdout",
          "text": [
            "First row: tensor([1., 1., 1., 1.])\n",
            "First column: tensor([1., 1., 1., 1.])\n",
            "Last column: tensor([1., 1., 1., 1.])\n",
            "tensor([[1., 0., 1., 1.],\n",
            "        [1., 0., 1., 1.],\n",
            "        [1., 0., 1., 1.],\n",
            "        [1., 0., 1., 1.]])\n"
          ]
        }
      ],
      "source": [
        "tensor = torch.ones(4, 4)\n",
        "print(f\"First row: {tensor[0]}\")\n",
        "print(f\"First column: {tensor[:, 0]}\")\n",
        "print(f\"Last column: {tensor[..., -1]}\")\n",
        "tensor[:,1] = 0\n",
        "print(tensor)"
      ]
    },
    {
      "cell_type": "markdown",
      "metadata": {
        "id": "BiRNX2zzRpuH"
      },
      "source": [
        "**Joining tensors** You can use `torch.cat` to concatenate a sequence of\n",
        "tensors along a given dimension. See also\n",
        "[torch.stack](https://pytorch.org/docs/stable/generated/torch.stack.html),\n",
        "another tensor joining operator that is subtly different from\n",
        "`torch.cat`.\n"
      ]
    },
    {
      "cell_type": "code",
      "execution_count": 11,
      "metadata": {
        "id": "Em_RmlJ4RpuH",
        "colab": {
          "base_uri": "https://localhost:8080/"
        },
        "outputId": "f90f12b7-ee64-4fe1-9f3d-a6e75189b1a9"
      },
      "outputs": [
        {
          "output_type": "stream",
          "name": "stdout",
          "text": [
            "tensor([[1., 0., 1., 1., 1., 0., 1., 1., 1., 0., 1., 1.],\n",
            "        [1., 0., 1., 1., 1., 0., 1., 1., 1., 0., 1., 1.],\n",
            "        [1., 0., 1., 1., 1., 0., 1., 1., 1., 0., 1., 1.],\n",
            "        [1., 0., 1., 1., 1., 0., 1., 1., 1., 0., 1., 1.]])\n"
          ]
        }
      ],
      "source": [
        "t1 = torch.cat([tensor, tensor, tensor], dim=1)\n",
        "print(t1)"
      ]
    },
    {
      "cell_type": "markdown",
      "metadata": {
        "id": "MWFDMI9nRpuH"
      },
      "source": [
        "**Arithmetic operations**\n"
      ]
    },
    {
      "cell_type": "code",
      "execution_count": 12,
      "metadata": {
        "id": "QHX-1y8mRpuH",
        "colab": {
          "base_uri": "https://localhost:8080/"
        },
        "outputId": "2b88da29-2109-4ce6-bddb-40948285bbbe"
      },
      "outputs": [
        {
          "output_type": "execute_result",
          "data": {
            "text/plain": [
              "tensor([[1., 0., 1., 1.],\n",
              "        [1., 0., 1., 1.],\n",
              "        [1., 0., 1., 1.],\n",
              "        [1., 0., 1., 1.]])"
            ]
          },
          "metadata": {},
          "execution_count": 12
        }
      ],
      "source": [
        "# This computes the matrix multiplication between two tensors. y1, y2, y3 will have the same value\n",
        "# ``tensor.T`` returns the transpose of a tensor\n",
        "y1 = tensor @ tensor.T\n",
        "y2 = tensor.matmul(tensor.T)\n",
        "\n",
        "y3 = torch.rand_like(y1)\n",
        "torch.matmul(tensor, tensor.T, out=y3)\n",
        "\n",
        "\n",
        "# This computes the element-wise product. z1, z2, z3 will have the same value\n",
        "z1 = tensor * tensor\n",
        "z2 = tensor.mul(tensor)\n",
        "\n",
        "z3 = torch.rand_like(tensor)\n",
        "torch.mul(tensor, tensor, out=z3)"
      ]
    },
    {
      "cell_type": "markdown",
      "metadata": {
        "id": "w1l_KMSDRpuH"
      },
      "source": [
        "**Single-element tensors** If you have a one-element tensor, for example\n",
        "by aggregating all values of a tensor into one value, you can convert it\n",
        "to a Python numerical value using `item()`:\n"
      ]
    },
    {
      "cell_type": "code",
      "execution_count": 13,
      "metadata": {
        "id": "YnsOmReKRpuH",
        "colab": {
          "base_uri": "https://localhost:8080/"
        },
        "outputId": "1bf8c434-811d-4397-8bfa-4b835dc359bb"
      },
      "outputs": [
        {
          "output_type": "stream",
          "name": "stdout",
          "text": [
            "12.0 <class 'float'>\n"
          ]
        }
      ],
      "source": [
        "agg = tensor.sum()\n",
        "agg_item = agg.item()\n",
        "print(agg_item, type(agg_item))"
      ]
    },
    {
      "cell_type": "markdown",
      "metadata": {
        "id": "RT6RWhfjRpuH"
      },
      "source": [
        "**In-place operations** Operations that store the result into the\n",
        "operand are called in-place. They are denoted by a `_` suffix. For\n",
        "example: `x.copy_(y)`, `x.t_()`, will change `x`.\n"
      ]
    },
    {
      "cell_type": "code",
      "execution_count": 14,
      "metadata": {
        "id": "ObE76GUMRpuI",
        "colab": {
          "base_uri": "https://localhost:8080/"
        },
        "outputId": "0f7f9e0d-5606-419d-f10f-055101785962"
      },
      "outputs": [
        {
          "output_type": "stream",
          "name": "stdout",
          "text": [
            "tensor([[1., 0., 1., 1.],\n",
            "        [1., 0., 1., 1.],\n",
            "        [1., 0., 1., 1.],\n",
            "        [1., 0., 1., 1.]]) \n",
            "\n",
            "tensor([[6., 5., 6., 6.],\n",
            "        [6., 5., 6., 6.],\n",
            "        [6., 5., 6., 6.],\n",
            "        [6., 5., 6., 6.]])\n"
          ]
        }
      ],
      "source": [
        "print(f\"{tensor} \\n\")\n",
        "tensor.add_(5)\n",
        "print(tensor)"
      ]
    },
    {
      "cell_type": "markdown",
      "metadata": {
        "id": "d3yKvcOaRpuI"
      },
      "source": [
        "<div style=\"background-color: #54c7ec; color: #fff; font-weight: 700; padding-left: 10px; padding-top: 5px; padding-bottom: 5px\"><strong>NOTE:</strong></div>\n",
        "\n",
        "<div style=\"background-color: #f3f4f7; padding-left: 10px; padding-top: 10px; padding-bottom: 10px; padding-right: 10px\">\n",
        "\n",
        "<p>In-place operations save some memory, but can be problematic when computing derivatives because of an immediate lossof history. Hence, their use is discouraged.</p>\n",
        "\n",
        "</div>\n",
        "\n"
      ]
    },
    {
      "cell_type": "markdown",
      "source": [
        "### 2.4. Bridge with NumPy"
      ],
      "metadata": {
        "id": "2u5wl_0aTWYP"
      }
    },
    {
      "cell_type": "markdown",
      "metadata": {
        "id": "lhdrYZMRRpuI"
      },
      "source": [
        "Tensors on the CPU and NumPy arrays can share their underlying memory\n",
        "locations, and changing one will change the other.\n"
      ]
    },
    {
      "cell_type": "markdown",
      "metadata": {
        "id": "lr-Px0xJRpuI"
      },
      "source": [
        "**Tensor to NumPy array**"
      ]
    },
    {
      "cell_type": "code",
      "execution_count": 15,
      "metadata": {
        "id": "A4XsJuXhRpuJ",
        "colab": {
          "base_uri": "https://localhost:8080/"
        },
        "outputId": "b5f83f0d-f3f5-4502-c8d3-376647555788"
      },
      "outputs": [
        {
          "output_type": "stream",
          "name": "stdout",
          "text": [
            "t: tensor([1., 1., 1., 1., 1.])\n",
            "n: [1. 1. 1. 1. 1.]\n"
          ]
        }
      ],
      "source": [
        "t = torch.ones(5)\n",
        "print(f\"t: {t}\")\n",
        "n = t.numpy()\n",
        "print(f\"n: {n}\")"
      ]
    },
    {
      "cell_type": "markdown",
      "metadata": {
        "id": "i7XtblhdRpuJ"
      },
      "source": [
        "A change in the tensor reflects in the NumPy array.\n"
      ]
    },
    {
      "cell_type": "code",
      "execution_count": 16,
      "metadata": {
        "id": "r7UztQrqRpuJ",
        "colab": {
          "base_uri": "https://localhost:8080/"
        },
        "outputId": "4aa34bc3-05b3-435e-d11e-a19bc121bb2a"
      },
      "outputs": [
        {
          "output_type": "stream",
          "name": "stdout",
          "text": [
            "t: tensor([2., 2., 2., 2., 2.])\n",
            "n: [2. 2. 2. 2. 2.]\n"
          ]
        }
      ],
      "source": [
        "t.add_(1)\n",
        "print(f\"t: {t}\")\n",
        "print(f\"n: {n}\")"
      ]
    },
    {
      "cell_type": "markdown",
      "metadata": {
        "id": "xw3w8_6fRpuJ"
      },
      "source": [
        "**NumPy array to Tensor**"
      ]
    },
    {
      "cell_type": "code",
      "execution_count": 66,
      "metadata": {
        "id": "2IkItGVjRpuJ"
      },
      "outputs": [],
      "source": [
        "n = np.ones(5)\n",
        "t = torch.from_numpy(n)"
      ]
    },
    {
      "cell_type": "markdown",
      "metadata": {
        "id": "T4iIHOkDRpuJ"
      },
      "source": [
        "Changes in the NumPy array reflects in the tensor.\n"
      ]
    },
    {
      "cell_type": "code",
      "execution_count": 67,
      "metadata": {
        "id": "bxofjKNWRpuJ",
        "colab": {
          "base_uri": "https://localhost:8080/"
        },
        "outputId": "2108b8dd-6e93-4b29-f984-6f6631f1d948"
      },
      "outputs": [
        {
          "output_type": "stream",
          "name": "stdout",
          "text": [
            "t: tensor([1., 1., 1., 1., 1.], dtype=torch.float64)\n",
            "n: [2. 2. 2. 2. 2.]\n"
          ]
        }
      ],
      "source": [
        "np.add(n, 1, out=n)\n",
        "print(f\"t: {t}\")\n",
        "print(f\"n: {n}\")"
      ]
    },
    {
      "cell_type": "markdown",
      "source": [
        "## 2.5. Example from Seminar 1\n",
        "\n",
        "$F(x) = \\left( \\exp(x) + 1 \\right) \\cdot \\exp(x)$\n",
        "\n",
        "![image.png](data:image/png;base64,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)"
      ],
      "metadata": {
        "id": "RljV3I8szZM7"
      }
    },
    {
      "cell_type": "code",
      "source": [
        "v1 = torch.tensor([1], requires_grad=True, dtype=torch.float32)\n",
        "v2 = torch.exp(v1)\n",
        "v3 = v2 + 1\n",
        "v4 = v2 * v3"
      ],
      "metadata": {
        "id": "UAZlqkoIICWt"
      },
      "execution_count": 68,
      "outputs": []
    },
    {
      "cell_type": "markdown",
      "source": [
        "### View forward graph"
      ],
      "metadata": {
        "id": "_dfslZPIHj-u"
      }
    },
    {
      "cell_type": "code",
      "source": [
        "import torch.nn as nn\n",
        "from torch.fx import symbolic_trace\n",
        "\n",
        "class M(nn.Module):\n",
        "    def forward(self, x):\n",
        "        v2 = torch.exp(x)\n",
        "        v3 = v2 + 1\n",
        "        v4 = v2 * v3\n",
        "        return v4\n",
        "\n",
        "m = M()\n",
        "tm = symbolic_trace(m)\n",
        "print(tm.graph)"
      ],
      "metadata": {
        "colab": {
          "base_uri": "https://localhost:8080/"
        },
        "id": "CBsOTzXpHj1L",
        "outputId": "ad872df2-5be1-4be6-9798-ab500ef4f244"
      },
      "execution_count": 69,
      "outputs": [
        {
          "output_type": "stream",
          "name": "stdout",
          "text": [
            "graph():\n",
            "    %x : [num_users=1] = placeholder[target=x]\n",
            "    %exp : [num_users=2] = call_function[target=torch.exp](args = (%x,), kwargs = {})\n",
            "    %add : [num_users=1] = call_function[target=operator.add](args = (%exp, 1), kwargs = {})\n",
            "    %mul : [num_users=1] = call_function[target=operator.mul](args = (%exp, %add), kwargs = {})\n",
            "    return mul\n"
          ]
        }
      ]
    },
    {
      "cell_type": "markdown",
      "source": [
        "### View backward graph"
      ],
      "metadata": {
        "id": "HTtsHxZdHyGN"
      }
    },
    {
      "cell_type": "markdown",
      "source": [
        "`v1` is a leaf tensor (it was created by the user), so\n"
      ],
      "metadata": {
        "id": "U8ZXs0ftIfZi"
      }
    },
    {
      "cell_type": "code",
      "source": [
        "v1.grad_fn   # None"
      ],
      "metadata": {
        "id": "yB4BW-sRIZ9t"
      },
      "execution_count": 70,
      "outputs": []
    },
    {
      "cell_type": "markdown",
      "source": [
        "`v2 = exp(v1)` has a grad function:"
      ],
      "metadata": {
        "id": "i_Nq5YZQIj5c"
      }
    },
    {
      "cell_type": "code",
      "source": [
        "print(v2.grad_fn)"
      ],
      "metadata": {
        "colab": {
          "base_uri": "https://localhost:8080/"
        },
        "id": "0wSCFLk1H-43",
        "outputId": "ffadc713-5be7-45ab-adc6-214731ca2087"
      },
      "execution_count": 71,
      "outputs": [
        {
          "output_type": "stream",
          "name": "stdout",
          "text": [
            "<ExpBackward0 object at 0x7a48c9873490>\n"
          ]
        }
      ]
    },
    {
      "cell_type": "markdown",
      "source": [
        "`v3 = v2 + 1`:"
      ],
      "metadata": {
        "id": "6sepEkXuIpDY"
      }
    },
    {
      "cell_type": "code",
      "source": [
        "print(v3.grad_fn)"
      ],
      "metadata": {
        "colab": {
          "base_uri": "https://localhost:8080/"
        },
        "id": "NmFhYpKGIyzq",
        "outputId": "f53e7705-1c60-4fb1-899e-a6c1f112d634"
      },
      "execution_count": 72,
      "outputs": [
        {
          "output_type": "stream",
          "name": "stdout",
          "text": [
            "<AddBackward0 object at 0x7a48c9873490>\n"
          ]
        }
      ]
    },
    {
      "cell_type": "markdown",
      "source": [
        "`v4 = v2 * v3`:"
      ],
      "metadata": {
        "id": "Fa9LhjFOIykv"
      }
    },
    {
      "cell_type": "code",
      "source": [
        "print(v4.grad_fn)"
      ],
      "metadata": {
        "colab": {
          "base_uri": "https://localhost:8080/"
        },
        "id": "UbS-jiGqIyD-",
        "outputId": "18a2fd60-7155-4b3c-efce-0ae827c74959"
      },
      "execution_count": 73,
      "outputs": [
        {
          "output_type": "stream",
          "name": "stdout",
          "text": [
            "<MulBackward0 object at 0x7a48c9873490>\n"
          ]
        }
      ]
    },
    {
      "cell_type": "markdown",
      "source": [
        "**How to get inputs?**\n",
        "\n",
        "Each `grad_fn` has a field `.next_functions`, which lists its inputs:"
      ],
      "metadata": {
        "id": "u1WPbEPBI7nF"
      }
    },
    {
      "cell_type": "code",
      "source": [
        "print(v4.grad_fn.next_functions)"
      ],
      "metadata": {
        "colab": {
          "base_uri": "https://localhost:8080/"
        },
        "id": "lmbunjp6JEVM",
        "outputId": "4b57e8f5-62c9-48eb-e185-21a61d0829e2"
      },
      "execution_count": 74,
      "outputs": [
        {
          "output_type": "stream",
          "name": "stdout",
          "text": [
            "((<ExpBackward0 object at 0x7a489bfef730>, 0), (<AddBackward0 object at 0x7a489bfef5b0>, 0))\n"
          ]
        }
      ]
    },
    {
      "cell_type": "markdown",
      "source": [
        "Graph vizualization"
      ],
      "metadata": {
        "id": "ZswshIiMkQaq"
      }
    },
    {
      "cell_type": "code",
      "source": [
        "make_dot(v4, params={'v1': v1})"
      ],
      "metadata": {
        "colab": {
          "base_uri": "https://localhost:8080/",
          "height": 455
        },
        "id": "grwB-hMzkQKl",
        "outputId": "a6f2ac30-ff7a-4ca6-e94e-ca7eeff2e7ab"
      },
      "execution_count": 75,
      "outputs": [
        {
          "output_type": "execute_result",
          "data": {
            "image/svg+xml": "<?xml version=\"1.0\" encoding=\"UTF-8\" standalone=\"no\"?>\n<!DOCTYPE svg PUBLIC \"-//W3C//DTD SVG 1.1//EN\"\n \"http://www.w3.org/Graphics/SVG/1.1/DTD/svg11.dtd\">\n<!-- Generated by graphviz version 2.43.0 (0)\n -->\n<!-- Title: %3 Pages: 1 -->\n<svg width=\"140pt\" height=\"325pt\"\n viewBox=\"0.00 0.00 140.00 325.00\" xmlns=\"http://www.w3.org/2000/svg\" xmlns:xlink=\"http://www.w3.org/1999/xlink\">\n<g id=\"graph0\" class=\"graph\" transform=\"scale(1 1) rotate(0) translate(4 321)\">\n<title>%3</title>\n<polygon fill=\"white\" stroke=\"transparent\" points=\"-4,4 -4,-321 136,-321 136,4 -4,4\"/>\n<!-- 134453632858896 -->\n<g id=\"node1\" class=\"node\">\n<title>134453632858896</title>\n<polygon fill=\"#caff70\" stroke=\"black\" points=\"77.5,-31 23.5,-31 23.5,0 77.5,0 77.5,-31\"/>\n<text text-anchor=\"middle\" x=\"50.5\" y=\"-7\" font-family=\"monospace\" font-size=\"10.00\"> (1)</text>\n</g>\n<!-- 134452273410448 -->\n<g id=\"node2\" class=\"node\">\n<title>134452273410448</title>\n<polygon fill=\"lightgrey\" stroke=\"black\" points=\"95,-86 6,-86 6,-67 95,-67 95,-86\"/>\n<text text-anchor=\"middle\" x=\"50.5\" y=\"-74\" font-family=\"monospace\" font-size=\"10.00\">MulBackward0</text>\n</g>\n<!-- 134452273410448&#45;&gt;134453632858896 -->\n<g id=\"edge6\" class=\"edge\">\n<title>134452273410448&#45;&gt;134453632858896</title>\n<path fill=\"none\" stroke=\"black\" d=\"M50.5,-66.79C50.5,-60.07 50.5,-50.4 50.5,-41.34\"/>\n<polygon fill=\"black\" stroke=\"black\" points=\"54,-41.19 50.5,-31.19 47,-41.19 54,-41.19\"/>\n</g>\n<!-- 134452273413136 -->\n<g id=\"node3\" class=\"node\">\n<title>134452273413136</title>\n<polygon fill=\"lightgrey\" stroke=\"black\" points=\"95,-196 6,-196 6,-177 95,-177 95,-196\"/>\n<text text-anchor=\"middle\" x=\"50.5\" y=\"-184\" font-family=\"monospace\" font-size=\"10.00\">ExpBackward0</text>\n</g>\n<!-- 134452273413136&#45;&gt;134452273410448 -->\n<g id=\"edge1\" class=\"edge\">\n<title>134452273413136&#45;&gt;134452273410448</title>\n<path fill=\"none\" stroke=\"black\" d=\"M46.39,-176.88C42.44,-168.09 36.76,-153.94 34.5,-141 31.79,-125.43 36.74,-108.03 41.84,-95.39\"/>\n<polygon fill=\"black\" stroke=\"black\" points=\"45.13,-96.6 45.98,-86.04 38.73,-93.76 45.13,-96.6\"/>\n</g>\n<!-- 134452273411936 -->\n<g id=\"node6\" class=\"node\">\n<title>134452273411936</title>\n<polygon fill=\"lightgrey\" stroke=\"black\" points=\"132,-141 43,-141 43,-122 132,-122 132,-141\"/>\n<text text-anchor=\"middle\" x=\"87.5\" y=\"-129\" font-family=\"monospace\" font-size=\"10.00\">AddBackward0</text>\n</g>\n<!-- 134452273413136&#45;&gt;134452273411936 -->\n<g id=\"edge5\" class=\"edge\">\n<title>134452273413136&#45;&gt;134452273411936</title>\n<path fill=\"none\" stroke=\"black\" d=\"M56.61,-176.75C61.78,-169.34 69.35,-158.5 75.69,-149.41\"/>\n<polygon fill=\"black\" stroke=\"black\" points=\"78.65,-151.29 81.5,-141.09 72.91,-147.29 78.65,-151.29\"/>\n</g>\n<!-- 134452273410880 -->\n<g id=\"node4\" class=\"node\">\n<title>134452273410880</title>\n<polygon fill=\"lightgrey\" stroke=\"black\" points=\"101,-251 0,-251 0,-232 101,-232 101,-251\"/>\n<text text-anchor=\"middle\" x=\"50.5\" y=\"-239\" font-family=\"monospace\" font-size=\"10.00\">AccumulateGrad</text>\n</g>\n<!-- 134452273410880&#45;&gt;134452273413136 -->\n<g id=\"edge2\" class=\"edge\">\n<title>134452273410880&#45;&gt;134452273413136</title>\n<path fill=\"none\" stroke=\"black\" d=\"M50.5,-231.75C50.5,-224.8 50.5,-214.85 50.5,-206.13\"/>\n<polygon fill=\"black\" stroke=\"black\" points=\"54,-206.09 50.5,-196.09 47,-206.09 54,-206.09\"/>\n</g>\n<!-- 134452273342704 -->\n<g id=\"node5\" class=\"node\">\n<title>134452273342704</title>\n<polygon fill=\"lightblue\" stroke=\"black\" points=\"77.5,-317 23.5,-317 23.5,-287 77.5,-287 77.5,-317\"/>\n<text text-anchor=\"middle\" x=\"50.5\" y=\"-305\" font-family=\"monospace\" font-size=\"10.00\">v1</text>\n<text text-anchor=\"middle\" x=\"50.5\" y=\"-294\" font-family=\"monospace\" font-size=\"10.00\"> (1)</text>\n</g>\n<!-- 134452273342704&#45;&gt;134452273410880 -->\n<g id=\"edge3\" class=\"edge\">\n<title>134452273342704&#45;&gt;134452273410880</title>\n<path fill=\"none\" stroke=\"black\" d=\"M50.5,-286.84C50.5,-279.21 50.5,-269.7 50.5,-261.45\"/>\n<polygon fill=\"black\" stroke=\"black\" points=\"54,-261.27 50.5,-251.27 47,-261.27 54,-261.27\"/>\n</g>\n<!-- 134452273411936&#45;&gt;134452273410448 -->\n<g id=\"edge4\" class=\"edge\">\n<title>134452273411936&#45;&gt;134452273410448</title>\n<path fill=\"none\" stroke=\"black\" d=\"M81.39,-121.75C76.22,-114.34 68.65,-103.5 62.31,-94.41\"/>\n<polygon fill=\"black\" stroke=\"black\" points=\"65.09,-92.29 56.5,-86.09 59.35,-96.29 65.09,-92.29\"/>\n</g>\n</g>\n</svg>\n",
            "text/plain": [
              "<graphviz.graphs.Digraph at 0x7a489bfef800>"
            ]
          },
          "metadata": {},
          "execution_count": 75
        }
      ]
    },
    {
      "cell_type": "markdown",
      "source": [
        "Explanation of 2nd output of `.next_functions`\n",
        "\n",
        "Source: [stackoverflow](https://stackoverflow.com/questions/63855505/explanation-of-the-tuple-grad-fn-next-functions-in-pytorch)"
      ],
      "metadata": {
        "id": "HdSanFvkK-9A"
      }
    },
    {
      "cell_type": "code",
      "source": [
        "inp = torch.randn(2, requires_grad=True)\n",
        "a, b = inp.unbind()\n",
        "c = a + b\n",
        "print(c.grad_fn.next_functions)"
      ],
      "metadata": {
        "colab": {
          "base_uri": "https://localhost:8080/"
        },
        "id": "tPXpyVWeKd0J",
        "outputId": "4a7f9910-c0ee-41f6-8cf6-2c47f1e27dd7"
      },
      "execution_count": 26,
      "outputs": [
        {
          "output_type": "stream",
          "name": "stdout",
          "text": [
            "((<UnbindBackward0 object at 0x7a48ed3d3490>, 0), (<UnbindBackward0 object at 0x7a48ed3d3490>, 1))\n"
          ]
        }
      ]
    },
    {
      "cell_type": "code",
      "source": [
        "make_dot(c, params={'inp': inp})"
      ],
      "metadata": {
        "colab": {
          "base_uri": "https://localhost:8080/",
          "height": 382
        },
        "id": "d_bViR1RLe2g",
        "outputId": "46578fe1-9f40-40d6-8031-5fa5caa2490f"
      },
      "execution_count": 28,
      "outputs": [
        {
          "output_type": "execute_result",
          "data": {
            "image/svg+xml": "<?xml version=\"1.0\" encoding=\"UTF-8\" standalone=\"no\"?>\n<!DOCTYPE svg PUBLIC \"-//W3C//DTD SVG 1.1//EN\"\n \"http://www.w3.org/Graphics/SVG/1.1/DTD/svg11.dtd\">\n<!-- Generated by graphviz version 2.43.0 (0)\n -->\n<!-- Title: %3 Pages: 1 -->\n<svg width=\"115pt\" height=\"270pt\"\n viewBox=\"0.00 0.00 115.00 270.00\" xmlns=\"http://www.w3.org/2000/svg\" xmlns:xlink=\"http://www.w3.org/1999/xlink\">\n<g id=\"graph0\" class=\"graph\" transform=\"scale(1 1) rotate(0) translate(4 266)\">\n<title>%3</title>\n<polygon fill=\"white\" stroke=\"transparent\" points=\"-4,4 -4,-266 111,-266 111,4 -4,4\"/>\n<!-- 134453632862240 -->\n<g id=\"node1\" class=\"node\">\n<title>134453632862240</title>\n<polygon fill=\"#caff70\" stroke=\"black\" points=\"80.5,-31 26.5,-31 26.5,0 80.5,0 80.5,-31\"/>\n<text text-anchor=\"middle\" x=\"53.5\" y=\"-7\" font-family=\"monospace\" font-size=\"10.00\"> ()</text>\n</g>\n<!-- 134453634474544 -->\n<g id=\"node2\" class=\"node\">\n<title>134453634474544</title>\n<polygon fill=\"lightgrey\" stroke=\"black\" points=\"98,-86 9,-86 9,-67 98,-67 98,-86\"/>\n<text text-anchor=\"middle\" x=\"53.5\" y=\"-74\" font-family=\"monospace\" font-size=\"10.00\">AddBackward0</text>\n</g>\n<!-- 134453634474544&#45;&gt;134453632862240 -->\n<g id=\"edge5\" class=\"edge\">\n<title>134453634474544&#45;&gt;134453632862240</title>\n<path fill=\"none\" stroke=\"black\" d=\"M53.5,-66.79C53.5,-60.07 53.5,-50.4 53.5,-41.34\"/>\n<polygon fill=\"black\" stroke=\"black\" points=\"57,-41.19 53.5,-31.19 50,-41.19 57,-41.19\"/>\n</g>\n<!-- 134453634474736 -->\n<g id=\"node3\" class=\"node\">\n<title>134453634474736</title>\n<polygon fill=\"lightgrey\" stroke=\"black\" points=\"107,-141 0,-141 0,-122 107,-122 107,-141\"/>\n<text text-anchor=\"middle\" x=\"53.5\" y=\"-129\" font-family=\"monospace\" font-size=\"10.00\">UnbindBackward0</text>\n</g>\n<!-- 134453634474736&#45;&gt;134453634474544 -->\n<g id=\"edge1\" class=\"edge\">\n<title>134453634474736&#45;&gt;134453634474544</title>\n<path fill=\"none\" stroke=\"black\" d=\"M48.33,-121.75C46.84,-114.8 46.4,-104.85 47.02,-96.13\"/>\n<polygon fill=\"black\" stroke=\"black\" points=\"50.51,-96.47 48.37,-86.09 43.57,-95.53 50.51,-96.47\"/>\n</g>\n<!-- 134453634474736&#45;&gt;134453634474544 -->\n<g id=\"edge4\" class=\"edge\">\n<title>134453634474736&#45;&gt;134453634474544</title>\n<path fill=\"none\" stroke=\"black\" d=\"M58.67,-121.75C60.16,-114.8 60.6,-104.85 59.98,-96.13\"/>\n<polygon fill=\"black\" stroke=\"black\" points=\"63.43,-95.53 58.63,-86.09 56.49,-96.47 63.43,-95.53\"/>\n</g>\n<!-- 134453634475504 -->\n<g id=\"node4\" class=\"node\">\n<title>134453634475504</title>\n<polygon fill=\"lightgrey\" stroke=\"black\" points=\"104,-196 3,-196 3,-177 104,-177 104,-196\"/>\n<text text-anchor=\"middle\" x=\"53.5\" y=\"-184\" font-family=\"monospace\" font-size=\"10.00\">AccumulateGrad</text>\n</g>\n<!-- 134453634475504&#45;&gt;134453634474736 -->\n<g id=\"edge2\" class=\"edge\">\n<title>134453634475504&#45;&gt;134453634474736</title>\n<path fill=\"none\" stroke=\"black\" d=\"M53.5,-176.75C53.5,-169.8 53.5,-159.85 53.5,-151.13\"/>\n<polygon fill=\"black\" stroke=\"black\" points=\"57,-151.09 53.5,-141.09 50,-151.09 57,-151.09\"/>\n</g>\n<!-- 134457892307024 -->\n<g id=\"node5\" class=\"node\">\n<title>134457892307024</title>\n<polygon fill=\"lightblue\" stroke=\"black\" points=\"80.5,-262 26.5,-262 26.5,-232 80.5,-232 80.5,-262\"/>\n<text text-anchor=\"middle\" x=\"53.5\" y=\"-250\" font-family=\"monospace\" font-size=\"10.00\">inp</text>\n<text text-anchor=\"middle\" x=\"53.5\" y=\"-239\" font-family=\"monospace\" font-size=\"10.00\"> (2)</text>\n</g>\n<!-- 134457892307024&#45;&gt;134453634475504 -->\n<g id=\"edge3\" class=\"edge\">\n<title>134457892307024&#45;&gt;134453634475504</title>\n<path fill=\"none\" stroke=\"black\" d=\"M53.5,-231.84C53.5,-224.21 53.5,-214.7 53.5,-206.45\"/>\n<polygon fill=\"black\" stroke=\"black\" points=\"57,-206.27 53.5,-196.27 50,-206.27 57,-206.27\"/>\n</g>\n</g>\n</svg>\n",
            "text/plain": [
              "<graphviz.graphs.Digraph at 0x7a48ed1f1760>"
            ]
          },
          "metadata": {},
          "execution_count": 28
        }
      ]
    },
    {
      "cell_type": "markdown",
      "source": [
        "### Backward method"
      ],
      "metadata": {
        "id": "zu6WTKSVNKKz"
      }
    },
    {
      "cell_type": "code",
      "source": [
        "v1 = torch.tensor([1], requires_grad=True, dtype=torch.float32)\n",
        "v2 = torch.exp(v1)\n",
        "v3 = v2 + 1\n",
        "v4 = v2 * v3\n",
        "\n",
        "v2.retain_grad()\n",
        "v3.retain_grad()\n",
        "v4.retain_grad()\n",
        "\n",
        "v4.backward()"
      ],
      "metadata": {
        "id": "fVrL4bD9NJrZ"
      },
      "execution_count": 80,
      "outputs": []
    },
    {
      "cell_type": "code",
      "source": [
        "v1.grad, v2.grad, v3.grad, v4.grad"
      ],
      "metadata": {
        "colab": {
          "base_uri": "https://localhost:8080/"
        },
        "id": "iMP_e_JSOAFH",
        "outputId": "4562a9f7-f435-4518-fc84-2e6e6cfa5740"
      },
      "execution_count": 81,
      "outputs": [
        {
          "output_type": "execute_result",
          "data": {
            "text/plain": [
              "(tensor([17.4964]), tensor([6.4366]), tensor([2.7183]), tensor([1.]))"
            ]
          },
          "metadata": {},
          "execution_count": 81
        }
      ]
    },
    {
      "cell_type": "code",
      "source": [
        "v1 = torch.tensor([1], requires_grad=True, dtype=torch.float32)\n",
        "v2 = torch.exp(v1)\n",
        "v3 = v2 + 1\n",
        "v4 = v2 * v3\n",
        "\n",
        "v2.retain_grad()\n",
        "v3.retain_grad()\n",
        "v4.retain_grad()\n",
        "\n",
        "v4.backward(retain_graph=True)\n",
        "v4.backward()"
      ],
      "metadata": {
        "id": "dYNGE8cWNihU"
      },
      "execution_count": 85,
      "outputs": []
    },
    {
      "cell_type": "code",
      "source": [
        "v1.grad, v2.grad, v3.grad, v4.grad"
      ],
      "metadata": {
        "colab": {
          "base_uri": "https://localhost:8080/"
        },
        "id": "-ppw3AOtNsMT",
        "outputId": "f9c1d96a-c5e2-4339-8f1a-4cfec482491a"
      },
      "execution_count": 86,
      "outputs": [
        {
          "output_type": "execute_result",
          "data": {
            "text/plain": [
              "(tensor([34.9928]), tensor([12.8731]), tensor([5.4366]), tensor([2.]))"
            ]
          },
          "metadata": {},
          "execution_count": 86
        }
      ]
    },
    {
      "cell_type": "markdown",
      "metadata": {
        "id": "HW_MKeWDRqCZ"
      },
      "source": [
        "## 3. Datasets & DataLoaders"
      ]
    },
    {
      "cell_type": "markdown",
      "metadata": {
        "id": "2wwFA1BlRqCa"
      },
      "source": [
        "Code for processing data samples can get messy and hard to maintain; we\n",
        "ideally want our dataset code to be decoupled from our model training\n",
        "code for better readability and modularity. PyTorch provides two data\n",
        "primitives: `torch.utils.data.DataLoader` and `torch.utils.data.Dataset`\n",
        "that allow you to use pre-loaded datasets as well as your own data.\n",
        "`Dataset` stores the samples and their corresponding labels, and\n",
        "`DataLoader` wraps an iterable around the `Dataset` to enable easy\n",
        "access to the samples.\n",
        "\n",
        "PyTorch domain libraries provide a number of pre-loaded datasets (such\n",
        "as FashionMNIST) that subclass `torch.utils.data.Dataset` and implement\n",
        "functions specific to the particular data. They can be used to prototype\n",
        "and benchmark your model. You can find them here: [Image\n",
        "Datasets](https://pytorch.org/vision/stable/datasets.html), [Text\n",
        "Datasets](https://pytorch.org/text/stable/datasets.html), and [Audio\n",
        "Datasets](https://pytorch.org/audio/stable/datasets.html)\n"
      ]
    },
    {
      "cell_type": "markdown",
      "source": [
        "### 3.1. Loading a Dataset"
      ],
      "metadata": {
        "id": "JmD4ic6xT6-T"
      }
    },
    {
      "cell_type": "markdown",
      "metadata": {
        "id": "7J4eCt28RqCa"
      },
      "source": [
        "Here is an example of how to load the\n",
        "[Fashion-MNIST](https://research.zalando.com/project/fashion_mnist/fashion_mnist/)\n",
        "dataset from TorchVision. Fashion-MNIST is a dataset of Zalando's\n",
        "article images consisting of 60,000 training examples and 10,000 test\n",
        "examples. Each example comprises a 28×28 grayscale image and an\n",
        "associated label from one of 10 classes.\n",
        "\n",
        "We load the [FashionMNIST Dataset](https://pytorch.org/vision/stable/datasets.html#fashion-mnist) with the following parameters:\n",
        "\n",
        "- `root` is the path where the train/test data is stored,\n",
        "- `train` specifies training or test dataset,\n",
        "- `download=True` downloads the data from the internet if it\\'s not available at `root`.\n",
        "- `transform` and `target_transform` specify the feature and label transformations\n"
      ]
    },
    {
      "cell_type": "code",
      "execution_count": 36,
      "metadata": {
        "id": "xsAviyzmRqCb",
        "colab": {
          "base_uri": "https://localhost:8080/"
        },
        "outputId": "077d5eb2-aad9-45a1-cbd3-f4b0766950f8"
      },
      "outputs": [
        {
          "output_type": "stream",
          "name": "stderr",
          "text": [
            "100%|██████████| 26.4M/26.4M [00:01<00:00, 17.0MB/s]\n",
            "100%|██████████| 29.5k/29.5k [00:00<00:00, 269kB/s]\n",
            "100%|██████████| 4.42M/4.42M [00:00<00:00, 4.48MB/s]\n",
            "100%|██████████| 5.15k/5.15k [00:00<00:00, 9.45MB/s]\n"
          ]
        }
      ],
      "source": [
        "import torch\n",
        "from torch.utils.data import Dataset\n",
        "from torchvision import datasets\n",
        "from torchvision.transforms import ToTensor\n",
        "import matplotlib.pyplot as plt\n",
        "\n",
        "\n",
        "training_data = datasets.FashionMNIST(\n",
        "    root=\"data\",\n",
        "    train=True,\n",
        "    download=True,\n",
        "    transform=ToTensor()\n",
        ")\n",
        "\n",
        "test_data = datasets.FashionMNIST(\n",
        "    root=\"data\",\n",
        "    train=False,\n",
        "    download=True,\n",
        "    transform=ToTensor()\n",
        ")"
      ]
    },
    {
      "cell_type": "markdown",
      "source": [
        "### 3.2. Iterating and Visualizing the Dataset"
      ],
      "metadata": {
        "id": "SE5n9yypT5X3"
      }
    },
    {
      "cell_type": "markdown",
      "metadata": {
        "id": "ynG3XaBJRqCb"
      },
      "source": [
        "We can index `Datasets` manually like a list: `training_data[index]`. We\n",
        "use `matplotlib` to visualize some samples in our training data.\n"
      ]
    },
    {
      "cell_type": "code",
      "execution_count": 34,
      "metadata": {
        "id": "nZEpdx_LRqCb",
        "colab": {
          "base_uri": "https://localhost:8080/",
          "height": 675
        },
        "outputId": "10e588c3-8e7b-4a47-fea8-d332fa9e95f2"
      },
      "outputs": [
        {
          "output_type": "display_data",
          "data": {
            "text/plain": [
              "<Figure size 800x800 with 9 Axes>"
            ],
            "image/png": "[encoded data removed]"
          },
          "metadata": {}
        }
      ],
      "source": [
        "labels_map = {\n",
        "    0: \"T-Shirt\",\n",
        "    1: \"Trouser\",\n",
        "    2: \"Pullover\",\n",
        "    3: \"Dress\",\n",
        "    4: \"Coat\",\n",
        "    5: \"Sandal\",\n",
        "    6: \"Shirt\",\n",
        "    7: \"Sneaker\",\n",
        "    8: \"Bag\",\n",
        "    9: \"Ankle Boot\",\n",
        "}\n",
        "figure = plt.figure(figsize=(8, 8))\n",
        "cols, rows = 3, 3\n",
        "for i in range(1, cols * rows + 1):\n",
        "    sample_idx = torch.randint(len(training_data), size=(1,)).item()\n",
        "    img, label = training_data[sample_idx]\n",
        "    figure.add_subplot(rows, cols, i)\n",
        "    plt.title(labels_map[label])\n",
        "    plt.axis(\"off\")\n",
        "    plt.imshow(img.squeeze(), cmap=\"gray\")\n",
        "plt.show()"
      ]
    },
    {
      "cell_type": "markdown",
      "metadata": {
        "id": "EKK7osbfRqCc"
      },
      "source": [
        "### 3.3. Creating a Custom Dataset for your files\n",
        "\n",
        "A custom Dataset class must implement three functions:\n",
        "`__init__`, `__len__`, and\n",
        "`__getitem__`. Take a look at this implementation; the\n",
        "FashionMNIST images are stored in a directory `img_dir`, and their\n",
        "labels are stored separately in a CSV file `annotations_file`.\n",
        "\n",
        "In the next sections, we\\'ll break down what\\'s happening in each of\n",
        "these functions.\n"
      ]
    },
    {
      "cell_type": "code",
      "execution_count": 35,
      "metadata": {
        "id": "8H_yiR9TRqCe"
      },
      "outputs": [],
      "source": [
        "import os\n",
        "import pandas as pd\n",
        "from torchvision.io import decode_image\n",
        "\n",
        "class CustomImageDataset(Dataset):\n",
        "    def __init__(self, annotations_file, img_dir, transform=None, target_transform=None):\n",
        "        self.img_labels = pd.read_csv(annotations_file)\n",
        "        self.img_dir = img_dir\n",
        "        self.transform = transform\n",
        "        self.target_transform = target_transform\n",
        "\n",
        "    def __len__(self):\n",
        "        return len(self.img_labels)\n",
        "\n",
        "    def __getitem__(self, idx):\n",
        "        img_path = os.path.join(self.img_dir, self.img_labels.iloc[idx, 0])\n",
        "        image = decode_image(img_path)\n",
        "        label = self.img_labels.iloc[idx, 1]\n",
        "        if self.transform:\n",
        "            image = self.transform(image)\n",
        "        if self.target_transform:\n",
        "            label = self.target_transform(label)\n",
        "        return image, label"
      ]
    },
    {
      "cell_type": "markdown",
      "metadata": {
        "id": "CHAlv7MORqCf"
      },
      "source": [
        "**`__init__`**\n",
        "\n",
        "The `__init__` function is run once when instantiating the\n",
        "Dataset object. We initialize the directory containing the images, the\n",
        "annotations file, and both transforms (covered in more detail in the\n",
        "next section).\n",
        "\n",
        "The labels.csv file looks like:\n",
        "\n",
        "    tshirt1.jpg, 0\n",
        "    tshirt2.jpg, 0\n",
        "    ......\n",
        "    ankleboot999.jpg, 9\n"
      ]
    },
    {
      "cell_type": "code",
      "execution_count": 36,
      "metadata": {
        "id": "ERxsxwEiRqCf"
      },
      "outputs": [],
      "source": [
        "def __init__(self, annotations_file, img_dir, transform=None, target_transform=None):\n",
        "    self.img_labels = pd.read_csv(annotations_file)\n",
        "    self.img_dir = img_dir\n",
        "    self.transform = transform\n",
        "    self.target_transform = target_transform"
      ]
    },
    {
      "cell_type": "markdown",
      "metadata": {
        "id": "mpEanWE-RqCf"
      },
      "source": [
        "**`__len__`**\n",
        "\n",
        "The `__len__` function returns the number of samples in our\n",
        "dataset.\n",
        "\n",
        "Example:\n"
      ]
    },
    {
      "cell_type": "code",
      "execution_count": 37,
      "metadata": {
        "id": "iXW9GYiTRqCf"
      },
      "outputs": [],
      "source": [
        "def __len__(self):\n",
        "    return len(self.img_labels)"
      ]
    },
    {
      "cell_type": "markdown",
      "metadata": {
        "id": "xIlHeUD7RqCf"
      },
      "source": [
        "**`__getitem__`**\n",
        "\n",
        "The `__getitem__` function loads and returns a sample from\n",
        "the dataset at the given index `idx`. Based on the index, it identifies\n",
        "the image\\'s location on disk, converts that to a tensor using\n",
        "`decode_image`, retrieves the corresponding label from the csv data in\n",
        "`self.img_labels`, calls the transform functions on them (if\n",
        "applicable), and returns the tensor image and corresponding label in a\n",
        "tuple.\n"
      ]
    },
    {
      "cell_type": "code",
      "execution_count": 38,
      "metadata": {
        "id": "SbvYPgzhRqCf"
      },
      "outputs": [],
      "source": [
        "def __getitem__(self, idx):\n",
        "    img_path = os.path.join(self.img_dir, self.img_labels.iloc[idx, 0])\n",
        "    image = read_image(img_path)\n",
        "    label = self.img_labels.iloc[idx, 1]\n",
        "    if self.transform:\n",
        "        image = self.transform(image)\n",
        "    if self.target_transform:\n",
        "        label = self.target_transform(label)\n",
        "    return image, label"
      ]
    },
    {
      "cell_type": "markdown",
      "source": [
        "### 3.4. Preparing your data for training with DataLoaders"
      ],
      "metadata": {
        "id": "vpPcRwksUrsg"
      }
    },
    {
      "cell_type": "markdown",
      "metadata": {
        "id": "Ruae2po0RqCf"
      },
      "source": [
        "The `Dataset` retrieves our dataset\\'s features and labels one sample at\n",
        "a time. While training a model, we typically want to pass samples in\n",
        "\\\"minibatches\\\", reshuffle the data at every epoch to reduce model\n",
        "overfitting, and use Python\\'s `multiprocessing` to speed up data\n",
        "retrieval.\n",
        "\n",
        "`DataLoader` is an iterable that abstracts this complexity for us in an\n",
        "easy API.\n"
      ]
    },
    {
      "cell_type": "code",
      "execution_count": 39,
      "metadata": {
        "id": "gsazYGxxRqCf"
      },
      "outputs": [],
      "source": [
        "from torch.utils.data import DataLoader\n",
        "\n",
        "train_dataloader = DataLoader(training_data, batch_size=64, shuffle=True)\n",
        "test_dataloader = DataLoader(test_data, batch_size=64, shuffle=True)"
      ]
    },
    {
      "cell_type": "markdown",
      "source": [
        "### 3.5. Iterate through the DataLoader"
      ],
      "metadata": {
        "id": "rouI2SEIUxF_"
      }
    },
    {
      "cell_type": "markdown",
      "metadata": {
        "id": "9MtY-izXRqCg"
      },
      "source": [
        "We have loaded that dataset into the `DataLoader` and can iterate\n",
        "through the dataset as needed. Each iteration below returns a batch of\n",
        "`train_features` and `train_labels` (containing `batch_size=64` features\n",
        "and labels respectively). Because we specified `shuffle=True`, after we\n",
        "iterate over all batches the data is shuffled (for finer-grained control\n",
        "over the data loading order, take a look at\n",
        "[Samplers](https://pytorch.org/docs/stable/data.html#data-loading-order-and-sampler)).\n"
      ]
    },
    {
      "cell_type": "code",
      "execution_count": 40,
      "metadata": {
        "id": "TMZRejiKRqCg",
        "colab": {
          "base_uri": "https://localhost:8080/",
          "height": 485
        },
        "outputId": "1a253b9b-ab53-4fe9-ca84-b511d596babe"
      },
      "outputs": [
        {
          "output_type": "stream",
          "name": "stdout",
          "text": [
            "Feature batch shape: torch.Size([64, 1, 28, 28])\n",
            "Labels batch shape: torch.Size([64])\n"
          ]
        },
        {
          "output_type": "display_data",
          "data": {
            "text/plain": [
              "<Figure size 640x480 with 1 Axes>"
            ],
            "image/png": "[encoded data removed]"
          },
          "metadata": {}
        },
        {
          "output_type": "stream",
          "name": "stdout",
          "text": [
            "Label: 9\n"
          ]
        }
      ],
      "source": [
        "# Display image and label.\n",
        "train_features, train_labels = next(iter(train_dataloader))\n",
        "print(f\"Feature batch shape: {train_features.size()}\")\n",
        "print(f\"Labels batch shape: {train_labels.size()}\")\n",
        "img = train_features[0].squeeze()\n",
        "label = train_labels[0]\n",
        "plt.imshow(img, cmap=\"gray\")\n",
        "plt.show()\n",
        "print(f\"Label: {label}\")"
      ]
    },
    {
      "cell_type": "markdown",
      "source": [
        "## 4. Transforms"
      ],
      "metadata": {
        "id": "vJtJis3gVF6j"
      }
    },
    {
      "cell_type": "markdown",
      "metadata": {
        "id": "R50gcFBFRqjB"
      },
      "source": [
        "Data does not always come in its final processed form that is required\n",
        "for training machine learning algorithms. We use **transforms** to\n",
        "perform some manipulation of the data and make it suitable for training.\n",
        "\n",
        "All TorchVision datasets have two parameters - `transform` to modify the\n",
        "features and `target_transform` to modify the labels - that accept\n",
        "callables containing the transformation logic. The\n",
        "[torchvision.transforms](https://pytorch.org/vision/stable/transforms.html)\n",
        "module offers several commonly-used transforms out of the box.\n",
        "\n",
        "The FashionMNIST features are in PIL Image format, and the labels are\n",
        "integers. For training, we need the features as normalized tensors, and\n",
        "the labels as one-hot encoded tensors. To make these transformations, we\n",
        "use `ToTensor` and `Lambda`.\n"
      ]
    },
    {
      "cell_type": "code",
      "execution_count": 41,
      "metadata": {
        "id": "4ER0_1-0RqjC"
      },
      "outputs": [],
      "source": [
        "import torch\n",
        "from torchvision import datasets\n",
        "from torchvision.transforms import ToTensor, Lambda\n",
        "\n",
        "ds = datasets.FashionMNIST(\n",
        "    root=\"data\",\n",
        "    train=True,\n",
        "    download=True,\n",
        "    transform=ToTensor(),\n",
        "    target_transform=Lambda(lambda y: torch.zeros(10, dtype=torch.float).scatter_(0, torch.tensor(y), value=1))\n",
        ")"
      ]
    },
    {
      "cell_type": "markdown",
      "metadata": {
        "id": "s6kNpFglRqjC"
      },
      "source": [
        "**ToTensor()**\n",
        "\n",
        "[ToTensor](https://pytorch.org/vision/stable/transforms.html#torchvision.transforms.ToTensor)\n",
        "converts a PIL image or NumPy `ndarray` into a `FloatTensor`. and scales\n",
        "the image\\'s pixel intensity values in the range \\[0., 1.\\]\n"
      ]
    },
    {
      "cell_type": "markdown",
      "metadata": {
        "id": "ft8fAjs0RqjC"
      },
      "source": [
        "**Lambda Transforms**\n",
        "\n",
        "Lambda transforms apply any user-defined lambda function. Here, we\n",
        "define a function to turn the integer into a one-hot encoded tensor. It\n",
        "first creates a zero tensor of size 10 (the number of labels in our\n",
        "dataset) and calls\n",
        "[scatter\\_](https://pytorch.org/docs/stable/generated/torch.Tensor.scatter_.html)\n",
        "which assigns a `value=1` on the index as given by the label `y`.\n"
      ]
    },
    {
      "cell_type": "markdown",
      "source": [
        "## 5. Build the Neural Network"
      ],
      "metadata": {
        "id": "FBwZDeU2VjJ8"
      }
    },
    {
      "cell_type": "markdown",
      "metadata": {
        "id": "43MRGsOCRq2D"
      },
      "source": [
        "Neural networks comprise of layers/modules that perform operations on\n",
        "data. The [torch.nn](https://pytorch.org/docs/stable/nn.html) namespace\n",
        "provides all the building blocks you need to build your own neural\n",
        "network. Every module in PyTorch subclasses the\n",
        "[nn.Module](https://pytorch.org/docs/stable/generated/torch.nn.Module.html).\n",
        "A neural network is a module itself that consists of other modules\n",
        "(layers). This nested structure allows for building and managing complex\n",
        "architectures easily.\n",
        "\n",
        "In the following sections, we\\'ll build a neural network to classify\n",
        "images in the FashionMNIST dataset.\n"
      ]
    },
    {
      "cell_type": "code",
      "execution_count": 42,
      "metadata": {
        "id": "MjogokPkRq2H"
      },
      "outputs": [],
      "source": [
        "import os\n",
        "import torch\n",
        "from torch import nn\n",
        "from torch.utils.data import DataLoader\n",
        "from torchvision import datasets, transforms"
      ]
    },
    {
      "cell_type": "markdown",
      "source": [
        "## 5.1. Get Device for Training"
      ],
      "metadata": {
        "id": "3IOZXt9AVqBe"
      }
    },
    {
      "cell_type": "markdown",
      "metadata": {
        "id": "ZEzaygB1Rq2P"
      },
      "source": [
        "We want to be able to train our model on an\n",
        "[accelerator](https://pytorch.org/docs/stable/torch.html#accelerators)\n",
        "such as CUDA, MPS, MTIA, or XPU. If the current accelerator is\n",
        "available, we will use it. Otherwise, we use the CPU.\n"
      ]
    },
    {
      "cell_type": "code",
      "execution_count": 43,
      "metadata": {
        "id": "k97aER5rRq2Q",
        "colab": {
          "base_uri": "https://localhost:8080/"
        },
        "outputId": "cbf56fd3-b83e-4fd9-f99e-63f4e68df7ec"
      },
      "outputs": [
        {
          "output_type": "stream",
          "name": "stdout",
          "text": [
            "Using cuda device\n"
          ]
        }
      ],
      "source": [
        "device = torch.accelerator.current_accelerator().type if torch.accelerator.is_available() else \"cpu\"\n",
        "print(f\"Using {device} device\")"
      ]
    },
    {
      "cell_type": "markdown",
      "source": [
        "## 5.2. Define the Class"
      ],
      "metadata": {
        "id": "h1MSFsYJVt8I"
      }
    },
    {
      "cell_type": "markdown",
      "metadata": {
        "id": "egE-dHXURq2R"
      },
      "source": [
        "We define our neural network by subclassing `nn.Module`, and initialize\n",
        "the neural network layers in `__init__`. Every `nn.Module` subclass\n",
        "implements the operations on input data in the `forward` method.\n"
      ]
    },
    {
      "cell_type": "code",
      "execution_count": 44,
      "metadata": {
        "id": "9M65jmc0Rq2S"
      },
      "outputs": [],
      "source": [
        "class NeuralNetwork(nn.Module):\n",
        "    def __init__(self):\n",
        "        super().__init__()\n",
        "        self.flatten = nn.Flatten()\n",
        "\n",
        "        self.linear_relu_stack = nn.Sequential(\n",
        "            nn.Linear(28*28, 512),\n",
        "            nn.ReLU(),\n",
        "            nn.Linear(512, 512),\n",
        "            nn.ReLU(),\n",
        "            nn.Linear(512, 10),\n",
        "        )\n",
        "\n",
        "    def forward(self, x):\n",
        "        x = self.flatten(x)\n",
        "        logits = self.linear_relu_stack(x)\n",
        "        return logits"
      ]
    },
    {
      "cell_type": "markdown",
      "metadata": {
        "id": "G42R_sDZRq2U"
      },
      "source": [
        "We create an instance of `NeuralNetwork`, and move it to the `device`,\n",
        "and print its structure.\n"
      ]
    },
    {
      "cell_type": "code",
      "execution_count": 100,
      "metadata": {
        "id": "VOLmhfTjRq2U",
        "colab": {
          "base_uri": "https://localhost:8080/"
        },
        "outputId": "8c29f9a6-2b6a-4603-d1a6-c114f7196190"
      },
      "outputs": [
        {
          "output_type": "stream",
          "name": "stdout",
          "text": [
            "NeuralNetwork(\n",
            "  (flatten): Flatten(start_dim=1, end_dim=-1)\n",
            "  (linear_relu_stack): Sequential(\n",
            "    (0): Linear(in_features=784, out_features=512, bias=True)\n",
            "    (1): ReLU()\n",
            "    (2): Linear(in_features=512, out_features=512, bias=True)\n",
            "    (3): ReLU()\n",
            "    (4): Linear(in_features=512, out_features=10, bias=True)\n",
            "  )\n",
            ")\n"
          ]
        }
      ],
      "source": [
        "model = NeuralNetwork().to(device)\n",
        "print(model)"
      ]
    },
    {
      "cell_type": "code",
      "source": [
        "from torchsummary import summary\n",
        "summary(model, input_size=(1, 28, 28), device='cuda')"
      ],
      "metadata": {
        "colab": {
          "base_uri": "https://localhost:8080/"
        },
        "id": "cyNiOugOn_fV",
        "outputId": "38f61798-5a51-4870-ddd0-df13656d5635"
      },
      "execution_count": 102,
      "outputs": [
        {
          "output_type": "stream",
          "name": "stdout",
          "text": [
            "----------------------------------------------------------------\n",
            "        Layer (type)               Output Shape         Param #\n",
            "================================================================\n",
            "           Flatten-1                  [-1, 784]               0\n",
            "            Linear-2                  [-1, 512]         401,920\n",
            "              ReLU-3                  [-1, 512]               0\n",
            "            Linear-4                  [-1, 512]         262,656\n",
            "              ReLU-5                  [-1, 512]               0\n",
            "            Linear-6                   [-1, 10]           5,130\n",
            "================================================================\n",
            "Total params: 669,706\n",
            "Trainable params: 669,706\n",
            "Non-trainable params: 0\n",
            "----------------------------------------------------------------\n",
            "Input size (MB): 0.00\n",
            "Forward/backward pass size (MB): 0.02\n",
            "Params size (MB): 2.55\n",
            "Estimated Total Size (MB): 2.58\n",
            "----------------------------------------------------------------\n"
          ]
        }
      ]
    },
    {
      "cell_type": "markdown",
      "metadata": {
        "id": "h5bG_wfURq2X"
      },
      "source": [
        "To use the model, we pass it the input data. This executes the model\\'s\n",
        "`forward`, along with some [background\n",
        "operations](https://github.com/pytorch/pytorch/blob/270111b7b611d174967ed204776985cefca9c144/torch/nn/modules/module.py#L866).\n",
        "Do not call `model.forward()` directly!\n",
        "\n",
        "Calling the model on the input returns a 2-dimensional tensor with dim=0\n",
        "corresponding to each output of 10 raw predicted values for each class,\n",
        "and dim=1 corresponding to the individual values of each output. We get\n",
        "the prediction probabilities by passing it through an instance of the\n",
        "`nn.Softmax` module.\n"
      ]
    },
    {
      "cell_type": "code",
      "execution_count": 103,
      "metadata": {
        "id": "tryKRYHcRq2X",
        "colab": {
          "base_uri": "https://localhost:8080/"
        },
        "outputId": "7613442f-5f6c-4c08-9e75-ac6b7f4f5cd0"
      },
      "outputs": [
        {
          "output_type": "stream",
          "name": "stdout",
          "text": [
            "Predicted class: tensor([0], device='cuda:0')\n"
          ]
        }
      ],
      "source": [
        "X = torch.rand(1, 28, 28, device=device)\n",
        "logits = model(X)\n",
        "\n",
        "pred_probab = nn.Softmax(dim=1)(logits)\n",
        "y_pred = pred_probab.argmax(1)\n",
        "print(f\"Predicted class: {y_pred}\")"
      ]
    },
    {
      "cell_type": "markdown",
      "source": [
        "### 5.3. Model Layers"
      ],
      "metadata": {
        "id": "4hDbmO35V1Uf"
      }
    },
    {
      "cell_type": "markdown",
      "metadata": {
        "id": "d70eAXb8Rq2Y"
      },
      "source": [
        "Let\\'s break down the layers in the FashionMNIST model. To illustrate\n",
        "it, we will take a sample minibatch of 3 images of size 28x28 and see\n",
        "what happens to it as we pass it through the network.\n"
      ]
    },
    {
      "cell_type": "code",
      "execution_count": 47,
      "metadata": {
        "id": "qrT1nPfURq2Y",
        "colab": {
          "base_uri": "https://localhost:8080/"
        },
        "outputId": "4e73461d-e2db-46d9-aea8-7ce1775819df"
      },
      "outputs": [
        {
          "output_type": "stream",
          "name": "stdout",
          "text": [
            "torch.Size([3, 28, 28])\n"
          ]
        }
      ],
      "source": [
        "input_image = torch.rand(3,28,28)\n",
        "print(input_image.size())"
      ]
    },
    {
      "cell_type": "markdown",
      "metadata": {
        "id": "W3aB4e7cRq2Z"
      },
      "source": [
        "**nn.Flatten**\n",
        "\n",
        "We initialize the\n",
        "[nn.Flatten](https://pytorch.org/docs/stable/generated/torch.nn.Flatten.html)\n",
        "layer to convert each 2D 28x28 image into a contiguous array of 784\n",
        "pixel values ( the minibatch dimension (at dim=0) is maintained).\n"
      ]
    },
    {
      "cell_type": "code",
      "execution_count": 48,
      "metadata": {
        "id": "aQ7bNPN_Rq2a",
        "colab": {
          "base_uri": "https://localhost:8080/"
        },
        "outputId": "98ca8d4a-c2e8-4292-93ff-553277132896"
      },
      "outputs": [
        {
          "output_type": "stream",
          "name": "stdout",
          "text": [
            "torch.Size([3, 784])\n"
          ]
        }
      ],
      "source": [
        "flatten = nn.Flatten()\n",
        "flat_image = flatten(input_image)\n",
        "print(flat_image.size())"
      ]
    },
    {
      "cell_type": "markdown",
      "metadata": {
        "id": "5CmePzZzRq2a"
      },
      "source": [
        "**nn.Linear**\n",
        "\n",
        "The [linear layer](https://pytorch.org/docs/stable/generated/torch.nn.Linear.html)\n",
        "is a module that applies a linear transformation on the input using its\n",
        "stored weights and biases.\n"
      ]
    },
    {
      "cell_type": "code",
      "execution_count": 49,
      "metadata": {
        "id": "DxfzcKygRq2b",
        "colab": {
          "base_uri": "https://localhost:8080/"
        },
        "outputId": "b1bdba33-6232-4fe8-b71c-0134f0821df7"
      },
      "outputs": [
        {
          "output_type": "stream",
          "name": "stdout",
          "text": [
            "torch.Size([3, 20])\n"
          ]
        }
      ],
      "source": [
        "layer1 = nn.Linear(in_features=28*28, out_features=20)\n",
        "hidden1 = layer1(flat_image)\n",
        "print(hidden1.size())"
      ]
    },
    {
      "cell_type": "markdown",
      "metadata": {
        "id": "P-FHQyaSRq2d"
      },
      "source": [
        "**nn.ReLU**\n",
        "\n",
        "Non-linear activations are what create the complex mappings between the\n",
        "model\\'s inputs and outputs. They are applied after linear\n",
        "transformations to introduce *nonlinearity*, helping neural networks\n",
        "learn a wide variety of phenomena.\n",
        "\n",
        "In this model, we use\n",
        "[nn.ReLU](https://pytorch.org/docs/stable/generated/torch.nn.ReLU.html)\n",
        "between our linear layers, but there\\'s other activations to introduce\n",
        "non-linearity in your model.\n"
      ]
    },
    {
      "cell_type": "code",
      "execution_count": 50,
      "metadata": {
        "id": "9B-zRbCURq2d",
        "colab": {
          "base_uri": "https://localhost:8080/"
        },
        "outputId": "a2bc734b-9dbf-46bc-93ec-dcd46d38e9fd"
      },
      "outputs": [
        {
          "output_type": "stream",
          "name": "stdout",
          "text": [
            "Before ReLU: tensor([[-0.0088,  0.5028,  0.0797,  0.5183,  0.1674,  0.1411,  0.3158,  0.5644,\n",
            "          0.0662, -0.2512,  0.2873,  0.1655, -0.0897, -0.1522,  0.2957, -0.2157,\n",
            "          0.2712, -0.0749, -0.3421,  0.4223],\n",
            "        [ 0.0974,  0.4201,  0.0914,  0.4140,  0.2615,  0.4552,  0.4529,  0.7833,\n",
            "          0.1091, -0.1389,  0.3665, -0.0784,  0.3522, -0.0213,  0.1965,  0.0849,\n",
            "          0.1627, -0.1207, -0.2233,  0.6422],\n",
            "        [ 0.3591,  0.3805,  0.5090,  0.7243,  0.1349,  0.0265,  0.2811,  1.0254,\n",
            "         -0.0735,  0.2177,  0.2017, -0.0292,  0.4935, -0.1796,  0.5183, -0.2242,\n",
            "          0.1997, -0.0176, -0.3045,  0.3384]], grad_fn=<AddmmBackward0>)\n",
            "\n",
            "\n",
            "After ReLU: tensor([[0.0000, 0.5028, 0.0797, 0.5183, 0.1674, 0.1411, 0.3158, 0.5644, 0.0662,\n",
            "         0.0000, 0.2873, 0.1655, 0.0000, 0.0000, 0.2957, 0.0000, 0.2712, 0.0000,\n",
            "         0.0000, 0.4223],\n",
            "        [0.0974, 0.4201, 0.0914, 0.4140, 0.2615, 0.4552, 0.4529, 0.7833, 0.1091,\n",
            "         0.0000, 0.3665, 0.0000, 0.3522, 0.0000, 0.1965, 0.0849, 0.1627, 0.0000,\n",
            "         0.0000, 0.6422],\n",
            "        [0.3591, 0.3805, 0.5090, 0.7243, 0.1349, 0.0265, 0.2811, 1.0254, 0.0000,\n",
            "         0.2177, 0.2017, 0.0000, 0.4935, 0.0000, 0.5183, 0.0000, 0.1997, 0.0000,\n",
            "         0.0000, 0.3384]], grad_fn=<ReluBackward0>)\n"
          ]
        }
      ],
      "source": [
        "print(f\"Before ReLU: {hidden1}\\n\\n\")\n",
        "hidden1 = nn.ReLU()(hidden1)\n",
        "print(f\"After ReLU: {hidden1}\")"
      ]
    },
    {
      "cell_type": "markdown",
      "metadata": {
        "id": "vimPMFrNRq2e"
      },
      "source": [
        "**nn.Sequential**\n",
        "\n",
        "[nn.Sequential](https://pytorch.org/docs/stable/generated/torch.nn.Sequential.html)\n",
        "is an ordered container of modules. The data is passed through all the\n",
        "modules in the same order as defined. You can use sequential containers\n",
        "to put together a quick network like `seq_modules`.\n"
      ]
    },
    {
      "cell_type": "code",
      "execution_count": 51,
      "metadata": {
        "id": "Pw8TX4xNRq2e"
      },
      "outputs": [],
      "source": [
        "seq_modules = nn.Sequential(\n",
        "    flatten,\n",
        "    layer1,\n",
        "    nn.ReLU(),\n",
        "    nn.Linear(20, 10)\n",
        ")\n",
        "input_image = torch.rand(3,28,28)\n",
        "logits = seq_modules(input_image)"
      ]
    },
    {
      "cell_type": "markdown",
      "metadata": {
        "id": "g9BuQ9NMRq2e"
      },
      "source": [
        "**nn.Softmax**\n",
        "\n",
        "The last linear layer of the neural network returns [logits]{.title-ref}\n",
        "- raw values in \\[-infty, infty\\] - which are passed to the\n",
        "[nn.Softmax](https://pytorch.org/docs/stable/generated/torch.nn.Softmax.html)\n",
        "module. The logits are scaled to values \\[0, 1\\] representing the\n",
        "model\\'s predicted probabilities for each class. `dim` parameter\n",
        "indicates the dimension along which the values must sum to 1.\n"
      ]
    },
    {
      "cell_type": "code",
      "execution_count": 52,
      "metadata": {
        "id": "LFoZqMU4Rq2e"
      },
      "outputs": [],
      "source": [
        "softmax = nn.Softmax(dim=1)\n",
        "pred_probab = softmax(logits)"
      ]
    },
    {
      "cell_type": "markdown",
      "source": [
        "### 5.4. Model Parameters"
      ],
      "metadata": {
        "id": "WrqZIxvLWEsb"
      }
    },
    {
      "cell_type": "markdown",
      "metadata": {
        "id": "Nc6fIhFeRq2e"
      },
      "source": [
        "Many layers inside a neural network are *parameterized*, i.e. have\n",
        "associated weights and biases that are optimized during training.\n",
        "Subclassing `nn.Module` automatically tracks all fields defined inside\n",
        "your model object, and makes all parameters accessible using your\n",
        "model\\'s `parameters()` or `named_parameters()` methods.\n",
        "\n",
        "In this example, we iterate over each parameter, and print its size and\n",
        "a preview of its values.\n"
      ]
    },
    {
      "cell_type": "code",
      "execution_count": 53,
      "metadata": {
        "id": "jk5h-3JVRq2f",
        "colab": {
          "base_uri": "https://localhost:8080/"
        },
        "outputId": "5e0baa51-52bf-4b6d-a555-76428ca4909a"
      },
      "outputs": [
        {
          "output_type": "stream",
          "name": "stdout",
          "text": [
            "Model structure: NeuralNetwork(\n",
            "  (flatten): Flatten(start_dim=1, end_dim=-1)\n",
            "  (linear_relu_stack): Sequential(\n",
            "    (0): Linear(in_features=784, out_features=512, bias=True)\n",
            "    (1): ReLU()\n",
            "    (2): Linear(in_features=512, out_features=512, bias=True)\n",
            "    (3): ReLU()\n",
            "    (4): Linear(in_features=512, out_features=10, bias=True)\n",
            "  )\n",
            ")\n",
            "\n",
            "\n",
            "Layer: linear_relu_stack.0.weight | Size: torch.Size([512, 784]) | Values : tensor([[-0.0177, -0.0165, -0.0150,  ..., -0.0322,  0.0068,  0.0159],\n",
            "        [-0.0268, -0.0167, -0.0175,  ..., -0.0147,  0.0331,  0.0071]],\n",
            "       device='cuda:0', grad_fn=<SliceBackward0>) \n",
            "\n",
            "Layer: linear_relu_stack.0.bias | Size: torch.Size([512]) | Values : tensor([0.0200, 0.0187], device='cuda:0', grad_fn=<SliceBackward0>) \n",
            "\n",
            "Layer: linear_relu_stack.2.weight | Size: torch.Size([512, 512]) | Values : tensor([[-0.0083, -0.0398,  0.0136,  ..., -0.0403,  0.0122,  0.0426],\n",
            "        [-0.0348,  0.0100,  0.0044,  ..., -0.0369, -0.0270, -0.0435]],\n",
            "       device='cuda:0', grad_fn=<SliceBackward0>) \n",
            "\n",
            "Layer: linear_relu_stack.2.bias | Size: torch.Size([512]) | Values : tensor([-0.0441,  0.0417], device='cuda:0', grad_fn=<SliceBackward0>) \n",
            "\n",
            "Layer: linear_relu_stack.4.weight | Size: torch.Size([10, 512]) | Values : tensor([[-0.0121, -0.0335,  0.0157,  ..., -0.0276,  0.0288, -0.0005],\n",
            "        [-0.0380,  0.0105,  0.0080,  ..., -0.0345,  0.0033, -0.0069]],\n",
            "       device='cuda:0', grad_fn=<SliceBackward0>) \n",
            "\n",
            "Layer: linear_relu_stack.4.bias | Size: torch.Size([10]) | Values : tensor([0.0424, 0.0119], device='cuda:0', grad_fn=<SliceBackward0>) \n",
            "\n"
          ]
        }
      ],
      "source": [
        "print(f\"Model structure: {model}\\n\\n\")\n",
        "\n",
        "for name, param in model.named_parameters():\n",
        "    print(f\"Layer: {name} | Size: {param.size()} | Values : {param[:2]} \\n\")"
      ]
    },
    {
      "cell_type": "markdown",
      "source": [
        "Ad-hoc calculation of parameters count"
      ],
      "metadata": {
        "id": "8oY5TNkjp1PU"
      }
    },
    {
      "cell_type": "code",
      "source": [
        "sum([p.numel() for p in model.parameters() if p.requires_grad])"
      ],
      "metadata": {
        "colab": {
          "base_uri": "https://localhost:8080/"
        },
        "id": "bFeyQempp01A",
        "outputId": "b90bc77b-c97c-4ae4-cb5a-19fc19a6e750"
      },
      "execution_count": 105,
      "outputs": [
        {
          "output_type": "execute_result",
          "data": {
            "text/plain": [
              "669706"
            ]
          },
          "metadata": {},
          "execution_count": 105
        }
      ]
    },
    {
      "cell_type": "markdown",
      "source": [
        "## 6. Optimizing Model Parameters"
      ],
      "metadata": {
        "id": "miqMpQEUXee3"
      }
    },
    {
      "cell_type": "markdown",
      "metadata": {
        "id": "HDiJoOpHRr3_"
      },
      "source": [
        "Now that we have a model and data it\\'s time to train, validate and test\n",
        "our model by optimizing its parameters on our data. Training a model is\n",
        "an iterative process; in each iteration the model makes a guess about\n",
        "the output, calculates the error in its guess (*loss*), collects the\n",
        "derivatives of the error with respect to its parameters, and **optimizes** these\n",
        "parameters using gradient descent. For a more detailed walkthrough of\n",
        "this process, check out this video on [backpropagation from\n",
        "3Blue1Brown](https://www.youtube.com/watch?v=tIeHLnjs5U8)."
      ]
    },
    {
      "cell_type": "markdown",
      "source": [
        "### 6.1. Prerequisite Code"
      ],
      "metadata": {
        "id": "NdKvNS69XoVu"
      }
    },
    {
      "cell_type": "markdown",
      "source": [
        "We load the code from the previous sections on **3. Datasets & DataLoaders** and **5. Build Model**."
      ],
      "metadata": {
        "id": "TOdfTZhvXpsA"
      }
    },
    {
      "cell_type": "code",
      "execution_count": 54,
      "metadata": {
        "id": "sEsDDbpIRr4A"
      },
      "outputs": [],
      "source": [
        "import torch\n",
        "from torch import nn\n",
        "from torch.utils.data import DataLoader\n",
        "from torchvision import datasets\n",
        "from torchvision.transforms import ToTensor\n",
        "\n",
        "training_data = datasets.FashionMNIST(\n",
        "    root=\"data\",\n",
        "    train=True,\n",
        "    download=True,\n",
        "    transform=ToTensor()\n",
        ")\n",
        "\n",
        "test_data = datasets.FashionMNIST(\n",
        "    root=\"data\",\n",
        "    train=False,\n",
        "    download=True,\n",
        "    transform=ToTensor()\n",
        ")\n",
        "\n",
        "train_dataloader = DataLoader(training_data, batch_size=64)\n",
        "test_dataloader = DataLoader(test_data, batch_size=64)\n",
        "\n",
        "class NeuralNetwork(nn.Module):\n",
        "    def __init__(self):\n",
        "        super().__init__()\n",
        "        self.flatten = nn.Flatten()\n",
        "        self.linear_relu_stack = nn.Sequential(\n",
        "            nn.Linear(28*28, 512),\n",
        "            nn.ReLU(),\n",
        "            nn.Linear(512, 512),\n",
        "            nn.ReLU(),\n",
        "            nn.Linear(512, 10),\n",
        "        )\n",
        "\n",
        "    def forward(self, x):\n",
        "        x = self.flatten(x)\n",
        "        logits = self.linear_relu_stack(x)\n",
        "        return logits\n",
        "\n",
        "model = NeuralNetwork()"
      ]
    },
    {
      "cell_type": "markdown",
      "source": [
        "### 6.2. Hyperparameters"
      ],
      "metadata": {
        "id": "RZ5ibb1aX4S3"
      }
    },
    {
      "cell_type": "markdown",
      "metadata": {
        "id": "ap58Bm5kRr4A"
      },
      "source": [
        "Hyperparameters are adjustable parameters that let you control the model\n",
        "optimization process. Different hyperparameter values can impact model\n",
        "training and convergence rates ([read\n",
        "more](https://pytorch.org/tutorials/beginner/hyperparameter_tuning_tutorial.html)\n",
        "about hyperparameter tuning)\n",
        "\n",
        "We define the following hyperparameters for training:\n",
        "\n",
        "- **Number of Epochs** - the number of times to iterate over the dataset\n",
        "- **Batch Size** - the number of data samples propagated through the network before the parameters are updated\n",
        "- **Learning Rate** - how much to update models parameters at each batch/epoch. Smaller values yield slow learning speed, while large values may result in unpredictable behavior during training."
      ]
    },
    {
      "cell_type": "code",
      "execution_count": 55,
      "metadata": {
        "id": "-9T62NDyRr4A"
      },
      "outputs": [],
      "source": [
        "learning_rate = 1e-3\n",
        "batch_size = 64\n",
        "epochs = 5"
      ]
    },
    {
      "cell_type": "markdown",
      "source": [
        "### 6.3. Optimization Loop"
      ],
      "metadata": {
        "id": "6W4kLAIgX_j0"
      }
    },
    {
      "cell_type": "markdown",
      "metadata": {
        "id": "LfZgVuzfRr4A"
      },
      "source": [
        "Once we set our hyperparameters, we can then train and optimize our\n",
        "model with an optimization loop. Each iteration of the optimization loop\n",
        "is called an **epoch**.\n",
        "\n",
        "Each epoch consists of two main parts:\n",
        "\n",
        "- **The Train Loop** - iterate over the training dataset and try to converge to optimal parameters.\n",
        "- **The Validation/Test Loop** - iterate over the test dataset to check if model performance is improving.\n",
        "\n",
        "Let\\'s briefly familiarize ourselves with some of the concepts used in\n",
        "the training loop."
      ]
    },
    {
      "cell_type": "markdown",
      "source": [
        "### 6.4. Loss Function"
      ],
      "metadata": {
        "id": "HuBQ7F7wYHUO"
      }
    },
    {
      "cell_type": "markdown",
      "source": [
        "When presented with some training data, our untrained network is likely\n",
        "not to give the correct answer. **Loss function** measures the degree of\n",
        "dissimilarity of obtained result to the target value, and it is the loss\n",
        "function that we want to minimize during training. To calculate the loss\n",
        "we make a prediction using the inputs of our given data sample and\n",
        "compare it against the true data label value.\n",
        "\n",
        "Common loss functions include\n",
        "[nn.MSELoss](https://pytorch.org/docs/stable/generated/torch.nn.MSELoss.html#torch.nn.MSELoss)\n",
        "(Mean Square Error) for regression tasks, and\n",
        "[nn.NLLLoss](https://pytorch.org/docs/stable/generated/torch.nn.NLLLoss.html#torch.nn.NLLLoss)\n",
        "(Negative Log Likelihood) for classification.\n",
        "[nn.CrossEntropyLoss](https://pytorch.org/docs/stable/generated/torch.nn.CrossEntropyLoss.html#torch.nn.CrossEntropyLoss)\n",
        "combines `nn.LogSoftmax` and `nn.NLLLoss`.\n",
        "\n",
        "We pass our model\\'s output logits to `nn.CrossEntropyLoss`, which will\n",
        "normalize the logits and compute the prediction error.\n"
      ],
      "metadata": {
        "id": "uZhQEzKXYGJr"
      }
    },
    {
      "cell_type": "code",
      "execution_count": 56,
      "metadata": {
        "id": "n16qoVC2Rr4B"
      },
      "outputs": [],
      "source": [
        "# Initialize the loss function\n",
        "loss_fn = nn.CrossEntropyLoss()"
      ]
    },
    {
      "cell_type": "markdown",
      "source": [
        "### 6.5. Optimizer"
      ],
      "metadata": {
        "id": "axCJVBQzYNB4"
      }
    },
    {
      "cell_type": "markdown",
      "metadata": {
        "id": "5jTc9bo2Rr4B"
      },
      "source": [
        "Optimization is the process of adjusting model parameters to reduce\n",
        "model error in each training step. **Optimization algorithms** define\n",
        "how this process is performed (in this example we use Stochastic\n",
        "Gradient Descent). All optimization logic is encapsulated in the\n",
        "`optimizer` object. Here, we use the SGD optimizer; additionally, there\n",
        "are many [different\n",
        "optimizers](https://pytorch.org/docs/stable/optim.html) available in\n",
        "PyTorch such as ADAM and RMSProp, that work better for different kinds\n",
        "of models and data.\n",
        "\n",
        "We initialize the optimizer by registering the model\\'s parameters that\n",
        "need to be trained, and passing in the learning rate hyperparameter.\n"
      ]
    },
    {
      "cell_type": "code",
      "execution_count": 58,
      "metadata": {
        "id": "J2B9TVjhRr4C"
      },
      "outputs": [],
      "source": [
        "optimizer = torch.optim.SGD(model.parameters(), lr=learning_rate)"
      ]
    },
    {
      "cell_type": "markdown",
      "metadata": {
        "id": "UuBs812dRr4C"
      },
      "source": [
        "Inside the training loop, optimization happens in three steps:\n",
        "\n",
        "1. Call `optimizer.zero_grad()` to reset the gradients of model parameters. Gradients by default add up; to prevent double-counting, we explicitly zero them at each iteration.\n",
        "2. Backpropagate the prediction loss with a call to `loss.backward()`. PyTorch deposits the gradients of the loss w.r.t. each parameter.\n",
        "3. Once we have our gradients, we call `optimizer.step()` to adjust the parameters by the gradients collected in the backward pass.\n"
      ]
    },
    {
      "cell_type": "markdown",
      "source": [
        "### 6.6. Full Implementation"
      ],
      "metadata": {
        "id": "W8AW7UFlYWxB"
      }
    },
    {
      "cell_type": "markdown",
      "metadata": {
        "id": "yKRLyRoFRr4C"
      },
      "source": [
        "We define `train_loop` that loops over our optimization code, and\n",
        "`test_loop` that evaluates the model\\'s performance against our test\n",
        "data.\n"
      ]
    },
    {
      "cell_type": "code",
      "execution_count": 59,
      "metadata": {
        "id": "NC2xSelfRr4C"
      },
      "outputs": [],
      "source": [
        "def train_loop(dataloader, model, loss_fn, optimizer):\n",
        "    size = len(dataloader.dataset)\n",
        "    # Set the model to training mode - important for batch normalization and dropout layers\n",
        "    # Unnecessary in this situation but added for best practices\n",
        "    model.train()\n",
        "    for batch, (X, y) in enumerate(dataloader):\n",
        "        # Compute prediction and loss\n",
        "        pred = model(X)\n",
        "        loss = loss_fn(pred, y)\n",
        "\n",
        "        # Backpropagation\n",
        "        loss.backward()\n",
        "        optimizer.step()\n",
        "        optimizer.zero_grad()\n",
        "\n",
        "        if batch % 100 == 0:\n",
        "            loss, current = loss.item(), batch * batch_size + len(X)\n",
        "            print(f\"loss: {loss:>7f}  [{current:>5d}/{size:>5d}]\")\n",
        "\n",
        "\n",
        "def test_loop(dataloader, model, loss_fn):\n",
        "    # Set the model to evaluation mode - important for batch normalization and dropout layers\n",
        "    # Unnecessary in this situation but added for best practices\n",
        "    model.eval()\n",
        "    size = len(dataloader.dataset)\n",
        "    num_batches = len(dataloader)\n",
        "    test_loss, correct = 0, 0\n",
        "\n",
        "    # Evaluating the model with torch.no_grad() ensures that no gradients are computed during test mode\n",
        "    # also serves to reduce unnecessary gradient computations and memory usage for tensors with requires_grad=True\n",
        "    with torch.no_grad():\n",
        "        for X, y in dataloader:\n",
        "            pred = model(X)\n",
        "            test_loss += loss_fn(pred, y).item()\n",
        "            correct += (pred.argmax(1) == y).type(torch.float).sum().item()\n",
        "\n",
        "    test_loss /= num_batches\n",
        "    correct /= size\n",
        "    print(f\"Test Error: \\n Accuracy: {(100*correct):>0.1f}%, Avg loss: {test_loss:>8f} \\n\")"
      ]
    },
    {
      "cell_type": "markdown",
      "metadata": {
        "id": "aC-KUtiBRr4C"
      },
      "source": [
        "We initialize the loss function and optimizer, and pass it to\n",
        "`train_loop` and `test_loop`. Feel free to increase the number of epochs\n",
        "to track the model\\'s improving performance.\n"
      ]
    },
    {
      "cell_type": "code",
      "source": [
        "loss_fn = nn.CrossEntropyLoss()\n",
        "optimizer = torch.optim.SGD(model.parameters(), lr=learning_rate)\n",
        "\n",
        "epochs = 10\n",
        "for t in range(epochs):\n",
        "    print(f\"Epoch {t+1}\\n-------------------------------\")\n",
        "    train_loop(train_dataloader, model, loss_fn, optimizer)\n",
        "    test_loop(test_dataloader, model, loss_fn)\n",
        "print(\"Done!\")"
      ],
      "metadata": {
        "colab": {
          "base_uri": "https://localhost:8080/"
        },
        "id": "bdv0tXVDgKfc",
        "outputId": "364059d6-7329-422d-b3b5-07b942389d77"
      },
      "execution_count": 60,
      "outputs": [
        {
          "output_type": "stream",
          "name": "stdout",
          "text": [
            "Epoch 1\n",
            "-------------------------------\n",
            "loss: 2.312786  [   64/60000]\n",
            "loss: 2.290025  [ 6464/60000]\n",
            "loss: 2.268042  [12864/60000]\n",
            "loss: 2.264827  [19264/60000]\n",
            "loss: 2.240343  [25664/60000]\n",
            "loss: 2.221338  [32064/60000]\n",
            "loss: 2.224098  [38464/60000]\n",
            "loss: 2.195456  [44864/60000]\n",
            "loss: 2.189399  [51264/60000]\n",
            "loss: 2.149702  [57664/60000]\n",
            "Test Error: \n",
            " Accuracy: 50.4%, Avg loss: 2.147376 \n",
            "\n",
            "Epoch 2\n",
            "-------------------------------\n",
            "loss: 2.161468  [   64/60000]\n",
            "loss: 2.145787  [ 6464/60000]\n",
            "loss: 2.078798  [12864/60000]\n",
            "loss: 2.101902  [19264/60000]\n",
            "loss: 2.035046  [25664/60000]\n",
            "loss: 1.985255  [32064/60000]\n",
            "loss: 2.013172  [38464/60000]\n",
            "loss: 1.935472  [44864/60000]\n",
            "loss: 1.938182  [51264/60000]\n",
            "loss: 1.859026  [57664/60000]\n",
            "Test Error: \n",
            " Accuracy: 58.9%, Avg loss: 1.859608 \n",
            "\n",
            "Epoch 3\n",
            "-------------------------------\n",
            "loss: 1.900503  [   64/60000]\n",
            "loss: 1.861808  [ 6464/60000]\n",
            "loss: 1.732317  [12864/60000]\n",
            "loss: 1.783581  [19264/60000]\n",
            "loss: 1.655448  [25664/60000]\n",
            "loss: 1.624867  [32064/60000]\n",
            "loss: 1.648317  [38464/60000]\n",
            "loss: 1.559877  [44864/60000]\n",
            "loss: 1.580380  [51264/60000]\n",
            "loss: 1.472694  [57664/60000]\n",
            "Test Error: \n",
            " Accuracy: 61.8%, Avg loss: 1.493530 \n",
            "\n",
            "Epoch 4\n",
            "-------------------------------\n",
            "loss: 1.566095  [   64/60000]\n",
            "loss: 1.527763  [ 6464/60000]\n",
            "loss: 1.370236  [12864/60000]\n",
            "loss: 1.452345  [19264/60000]\n",
            "loss: 1.320932  [25664/60000]\n",
            "loss: 1.329212  [32064/60000]\n",
            "loss: 1.346025  [38464/60000]\n",
            "loss: 1.280757  [44864/60000]\n",
            "loss: 1.313269  [51264/60000]\n",
            "loss: 1.210053  [57664/60000]\n",
            "Test Error: \n",
            " Accuracy: 63.5%, Avg loss: 1.239612 \n",
            "\n",
            "Epoch 5\n",
            "-------------------------------\n",
            "loss: 1.319637  [   64/60000]\n",
            "loss: 1.299357  [ 6464/60000]\n",
            "loss: 1.128549  [12864/60000]\n",
            "loss: 1.243309  [19264/60000]\n",
            "loss: 1.107852  [25664/60000]\n",
            "loss: 1.138439  [32064/60000]\n",
            "loss: 1.163353  [38464/60000]\n",
            "loss: 1.108083  [44864/60000]\n",
            "loss: 1.147321  [51264/60000]\n",
            "loss: 1.057342  [57664/60000]\n",
            "Test Error: \n",
            " Accuracy: 64.7%, Avg loss: 1.082804 \n",
            "\n",
            "Epoch 6\n",
            "-------------------------------\n",
            "loss: 1.155538  [   64/60000]\n",
            "loss: 1.154562  [ 6464/60000]\n",
            "loss: 0.970060  [12864/60000]\n",
            "loss: 1.112706  [19264/60000]\n",
            "loss: 0.976114  [25664/60000]\n",
            "loss: 1.010851  [32064/60000]\n",
            "loss: 1.050280  [38464/60000]\n",
            "loss: 0.998290  [44864/60000]\n",
            "loss: 1.038239  [51264/60000]\n",
            "loss: 0.961792  [57664/60000]\n",
            "Test Error: \n",
            " Accuracy: 65.6%, Avg loss: 0.981176 \n",
            "\n",
            "Epoch 7\n",
            "-------------------------------\n",
            "loss: 1.041132  [   64/60000]\n",
            "loss: 1.059426  [ 6464/60000]\n",
            "loss: 0.861031  [12864/60000]\n",
            "loss: 1.025059  [19264/60000]\n",
            "loss: 0.892847  [25664/60000]\n",
            "loss: 0.920963  [32064/60000]\n",
            "loss: 0.975798  [38464/60000]\n",
            "loss: 0.926205  [44864/60000]\n",
            "loss: 0.962011  [51264/60000]\n",
            "loss: 0.897123  [57664/60000]\n",
            "Test Error: \n",
            " Accuracy: 66.8%, Avg loss: 0.911098 \n",
            "\n",
            "Epoch 8\n",
            "-------------------------------\n",
            "loss: 0.956624  [   64/60000]\n",
            "loss: 0.992452  [ 6464/60000]\n",
            "loss: 0.782439  [12864/60000]\n",
            "loss: 0.962248  [19264/60000]\n",
            "loss: 0.836587  [25664/60000]\n",
            "loss: 0.854633  [32064/60000]\n",
            "loss: 0.922978  [38464/60000]\n",
            "loss: 0.877451  [44864/60000]\n",
            "loss: 0.906662  [51264/60000]\n",
            "loss: 0.850029  [57664/60000]\n",
            "Test Error: \n",
            " Accuracy: 67.7%, Avg loss: 0.860091 \n",
            "\n",
            "Epoch 9\n",
            "-------------------------------\n",
            "loss: 0.891487  [   64/60000]\n",
            "loss: 0.941908  [ 6464/60000]\n",
            "loss: 0.723393  [12864/60000]\n",
            "loss: 0.915009  [19264/60000]\n",
            "loss: 0.795890  [25664/60000]\n",
            "loss: 0.804347  [32064/60000]\n",
            "loss: 0.882835  [38464/60000]\n",
            "loss: 0.843208  [44864/60000]\n",
            "loss: 0.864978  [51264/60000]\n",
            "loss: 0.813686  [57664/60000]\n",
            "Test Error: \n",
            " Accuracy: 68.8%, Avg loss: 0.821283 \n",
            "\n",
            "Epoch 10\n",
            "-------------------------------\n",
            "loss: 0.839374  [   64/60000]\n",
            "loss: 0.901670  [ 6464/60000]\n",
            "loss: 0.677299  [12864/60000]\n",
            "loss: 0.878227  [19264/60000]\n",
            "loss: 0.765046  [25664/60000]\n",
            "loss: 0.765525  [32064/60000]\n",
            "loss: 0.850487  [38464/60000]\n",
            "loss: 0.818030  [44864/60000]\n",
            "loss: 0.832341  [51264/60000]\n",
            "loss: 0.784465  [57664/60000]\n",
            "Test Error: \n",
            " Accuracy: 70.0%, Avg loss: 0.790402 \n",
            "\n",
            "Done!\n"
          ]
        }
      ]
    }
  ]
}