{
 "cells": [
  {
   "cell_type": "markdown",
   "metadata": {},
   "source": [
    "# Семинар по рекуррентным нейронным сетям\n",
    "На этом семинаре мы обучим несколько рекуррентных архитектур для решения задачи сентимент-анализа, то есть предсказания метки тональности предложения.\n",
    "\n",
    "В общем случае рекуррентная нейронная сеть предназначена для обработки последовательности произвольной длины. Однако при реализации метода оказывается проще зафиксировать длину последовательности (даже в pytorch с их динамическими графами :) Мы так и поступим.\n",
    "\n",
    "При выполнении задания вы обучите LSTM с разным уровнем \"коробочности\", а также познакомитесь с различными способами применения дропаута к рекуррентным архитектурам. В рекуррентных архитектурах вариантов, куда можно наложить бинарную маску шума, гораздо больше, чем в нейросетях прямого прохода.\n",
    "\n",
    "Задание сделано так, чтобы его можно было выполнять на CPU, однако RNN - это ресурсоемкая вещь, поэтому на GPU с ними работать приятнее. Можете попробовать использовать [https://colab.research.google.com](https://colab.research.google.com) - бесплатное облако с GPU."
   ]
  },
  {
   "cell_type": "markdown",
   "metadata": {},
   "source": [
    "### Гиперпараметры"
   ]
  },
  {
   "cell_type": "code",
   "execution_count": 1,
   "metadata": {},
   "outputs": [],
   "source": [
    "vocab_size = 20000 \n",
    "index_from = 3\n",
    "n_hidden = 32 # 128\n",
    "n_emb = 32 # 128\n",
    "seq_len = 32 # 200\n",
    "# small network on small data for seminar purposes\n",
    "# after # normal size\n",
    "\n",
    "batch_size = 128\n",
    "learning_rate = 0.001\n",
    "num_epochs = 1 # 30"
   ]
  },
  {
   "cell_type": "markdown",
   "metadata": {},
   "source": [
    "### Загрузка данных\n",
    "Функция load_matrix_imdb скачивает матричные данные, перемешивает и загружает их в numpy-массивы.\n",
    "\n",
    "Если у вас не установлен wget, скачайте [архив imdb.npz](https://s3.amazonaws.com/text-datasets/imdb.npz)"
   ]
  },
  {
   "cell_type": "code",
   "execution_count": 2,
   "metadata": {},
   "outputs": [],
   "source": [
    "#from rnn_utils import load_matrix_imdb\n",
    "import numpy as np\n",
    "import torch\n",
    "import torch.utils.data\n",
    "import os\n",
    "import re\n",
    "from collections import defaultdict\n",
    "import operator"
   ]
  },
  {
   "cell_type": "code",
   "execution_count": 3,
   "metadata": {},
   "outputs": [],
   "source": [
    "def load_matrix_imdb(path='imdb.npz', num_words=None, skip_top=0,\n",
    "              maxlen=None, seed=113,\n",
    "              start_char=1, oov_char=2, index_from=3, **kwargs):\n",
    "    \"\"\"\n",
    "    Modified code from Keras\n",
    "    Loads data matrixes from npz file, crops and pads seqs and returns\n",
    "    shuffled (x_train, y_train), (x_test, y_test)\n",
    "    \"\"\"\n",
    "    if not os.path.exists(path):\n",
    "        print(\"Downloading matrix data into current folder\")\n",
    "        os.system(\"wget https://s3.amazonaws.com/text-datasets/imdb.npz\")\n",
    "        \n",
    "    with np.load(path, allow_pickle=True) as f:\n",
    "        x_train, labels_train = f['x_train'], f['y_train']\n",
    "        x_test, labels_test = f['x_test'], f['y_test']\n",
    "\n",
    "    np.random.seed(seed)\n",
    "    indices = np.arange(len(x_train))\n",
    "    np.random.shuffle(indices)\n",
    "    x_train = x_train[indices]\n",
    "    labels_train = labels_train[indices]\n",
    "\n",
    "    indices = np.arange(len(x_test))\n",
    "    np.random.shuffle(indices)\n",
    "    x_test = x_test[indices]\n",
    "    labels_test = labels_test[indices]\n",
    "\n",
    "    xs = np.concatenate([x_train, x_test])\n",
    "    labels = np.concatenate([labels_train, labels_test])\n",
    "\n",
    "    if start_char is not None:\n",
    "        xs = [[start_char] + [w + index_from for w in x] for x in xs]\n",
    "    elif index_from:\n",
    "        xs = [[w + index_from for w in x] for x in xs]\n",
    "\n",
    "    if not num_words:\n",
    "        num_words = max([max(x) for x in xs])\n",
    "    if not maxlen:\n",
    "        maxlen = max([len(x) for x in xs])\n",
    "\n",
    "    # by convention, use 2 as OOV word\n",
    "    # reserve 'index_from' (=3 by default) characters:\n",
    "    # 0 (padding), 1 (start), 2 (OOV)\n",
    "    xs_new = []\n",
    "    for x in xs:\n",
    "        x = x[:maxlen] # crop long sequences\n",
    "        if oov_char is not None: # replace rare or frequent symbols \n",
    "            x = [w if (skip_top <= w < num_words) else oov_char for w in x]\n",
    "        else: # or filter rare and frequent symbols\n",
    "            x = [w for w in x if skip_top <= w < num_words]\n",
    "        x_padded = np.zeros(maxlen)#, dtype = 'int32')\n",
    "        x_padded[-len(x):] = x\n",
    "        xs_new.append(x_padded)    \n",
    "            \n",
    "    idx = len(x_train)\n",
    "    x_train, y_train = np.array(xs_new[:idx]), np.array(labels[:idx])\n",
    "    x_test, y_test = np.array(xs_new[idx:]), np.array(labels[idx:])\n",
    "\n",
    "    return (x_train, y_train), (x_test, y_test)"
   ]
  },
  {
   "cell_type": "code",
   "execution_count": 4,
   "metadata": {},
   "outputs": [],
   "source": [
    "np.random.seed(0)\n",
    "(X_train, y_train), (X_test, y_test) = load_matrix_imdb(num_words=vocab_size,\n",
    "                                                        maxlen=seq_len)"
   ]
  },
  {
   "cell_type": "code",
   "execution_count": 5,
   "metadata": {},
   "outputs": [
    {
     "data": {
      "text/plain": [
       "{0, 1}"
      ]
     },
     "execution_count": 5,
     "metadata": {},
     "output_type": "execute_result"
    }
   ],
   "source": [
    "set(y_train) # binary classification"
   ]
  },
  {
   "cell_type": "code",
   "execution_count": 6,
   "metadata": {},
   "outputs": [
    {
     "data": {
      "text/plain": [
       "((25000, 32), (25000, 32))"
      ]
     },
     "execution_count": 6,
     "metadata": {},
     "output_type": "execute_result"
    }
   ],
   "source": [
    "X_train.shape, X_test.shape"
   ]
  },
  {
   "cell_type": "code",
   "execution_count": 7,
   "metadata": {},
   "outputs": [
    {
     "data": {
      "text/plain": [
       "array([1.000e+00, 1.400e+01, 2.200e+01, 1.600e+01, 4.300e+01, 5.300e+02,\n",
       "       9.730e+02, 1.622e+03, 1.385e+03, 6.500e+01, 4.580e+02, 4.468e+03,\n",
       "       6.600e+01, 3.941e+03, 4.000e+00, 1.730e+02, 3.600e+01, 2.560e+02,\n",
       "       5.000e+00, 2.500e+01, 1.000e+02, 4.300e+01, 8.380e+02, 1.120e+02,\n",
       "       5.000e+01, 6.700e+02, 2.000e+00, 9.000e+00, 3.500e+01, 4.800e+02,\n",
       "       2.840e+02, 5.000e+00])"
      ]
     },
     "execution_count": 7,
     "metadata": {},
     "output_type": "execute_result"
    }
   ],
   "source": [
    "X_train[0] # sequence of coded words"
   ]
  },
  {
   "cell_type": "code",
   "execution_count": 8,
   "metadata": {},
   "outputs": [
    {
     "data": {
      "text/plain": [
       "array([1, 0, 0, ..., 0, 1, 0])"
      ]
     },
     "execution_count": 8,
     "metadata": {},
     "output_type": "execute_result"
    }
   ],
   "source": [
    "y_train"
   ]
  },
  {
   "cell_type": "code",
   "execution_count": 9,
   "metadata": {},
   "outputs": [
    {
     "data": {
      "text/plain": [
       "(tensor([   1,   14,   22,   16,   43,  530,  973, 1622, 1385,   65,  458, 4468,\n",
       "           66, 3941,    4,  173,   36,  256,    5,   25,  100,   43,  838,  112,\n",
       "           50,  670,    2,    9,   35,  480,  284,    5]),\n",
       " tensor(1))"
      ]
     },
     "execution_count": 9,
     "metadata": {},
     "output_type": "execute_result"
    }
   ],
   "source": [
    "train_dset = torch.utils.data.TensorDataset(torch.tensor(X_train, dtype=torch.long), \n",
    "                               torch.tensor(y_train, dtype=torch.long))\n",
    "train_dset[0]"
   ]
  },
  {
   "cell_type": "code",
   "execution_count": 10,
   "metadata": {},
   "outputs": [
    {
     "data": {
      "text/plain": [
       "(tensor([    1,   591,   202,    14,    31,     6,   717,    10,    10, 18142,\n",
       "         10698,     5,     4,   360,     7,     4,   177,  5760,   394,   354,\n",
       "             4,   123,     9,  1035,  1035,  1035,    10,    10,    13,    92,\n",
       "           124,    89]),\n",
       " tensor(0))"
      ]
     },
     "execution_count": 10,
     "metadata": {},
     "output_type": "execute_result"
    }
   ],
   "source": [
    "test_dset = torch.utils.data.TensorDataset(torch.tensor(X_test, dtype=torch.long), \n",
    "                               torch.tensor(y_test, dtype=torch.long))\n",
    "test_dset[0]"
   ]
  },
  {
   "cell_type": "code",
   "execution_count": 11,
   "metadata": {},
   "outputs": [],
   "source": [
    "train_loader = torch.utils.data.DataLoader(train_dset,\n",
    "                          batch_size=batch_size,\n",
    "                          shuffle=True,\n",
    "                          num_workers=4,\n",
    "                         )"
   ]
  },
  {
   "cell_type": "code",
   "execution_count": 12,
   "metadata": {},
   "outputs": [],
   "source": [
    "test_loader = torch.utils.data.DataLoader(test_dset,\n",
    "                          batch_size=batch_size,\n",
    "                          shuffle=False,\n",
    "                          num_workers=4,\n",
    "                         )"
   ]
  },
  {
   "cell_type": "markdown",
   "metadata": {},
   "source": [
    "### Сборка и обучение RNN в pytorch"
   ]
  },
  {
   "cell_type": "code",
   "execution_count": 13,
   "metadata": {},
   "outputs": [],
   "source": [
    "import os\n",
    "import torch.optim as optim\n",
    "import torch.nn as nn"
   ]
  },
  {
   "cell_type": "code",
   "execution_count": 14,
   "metadata": {},
   "outputs": [
    {
     "data": {
      "text/plain": [
       "device(type='cpu')"
      ]
     },
     "execution_count": 14,
     "metadata": {},
     "output_type": "execute_result"
    }
   ],
   "source": [
    "device = torch.device(\"cuda\" if torch.cuda.is_available() else \"cpu\")\n",
    "device"
   ]
  },
  {
   "cell_type": "markdown",
   "metadata": {},
   "source": [
    "Наша нейросеть будет обрабатывать входную последовательность по словам (word level). Мы будем использовать простую и стандарную рекуррентную архитектуру для сентимент-анализа: слой представлений, слой LSTM и полносвязный слой, предсказывающий выход по последнему скрытому состоянию.\n",
    "\n",
    "Ниже дан код для сборки и обучения нашей нейросети. Обратите внимание на ### pay attention here, указывающие на особенности кода при использовании рекуррентных слоев. \n",
    "\n",
    "Чтобы потом было удобно проводить сравнение времени работы разных моделей, запустите код ниже и измерьте время обучения на вашей системе."
   ]
  },
  {
   "cell_type": "code",
   "execution_count": 15,
   "metadata": {},
   "outputs": [],
   "source": [
    "class RNNClassifier(nn.Module):\n",
    "    def __init__(self, embedding_dim, hidden_dim, vocab_size, label_size, \\\n",
    "                 batch_size, rec_layer=nn.LSTM, embedding=nn.Embedding, \\\n",
    "                 dropout=None):\n",
    "        super(RNNClassifier, self).__init__()\n",
    "        self.hidden_dim = hidden_dim\n",
    "        self.batch_size = batch_size\n",
    "\n",
    "        self.word_embeddings = embedding(vocab_size, embedding_dim)\n",
    "        if dropout:\n",
    "            self.rnn = rec_layer(embedding_dim, hidden_dim, dropout=dropout)\n",
    "        else:\n",
    "            self.rnn = rec_layer(embedding_dim, hidden_dim)\n",
    "        self.hidden2label = nn.Linear(hidden_dim, label_size)\n",
    "    \n",
    "    def forward(self, sentences):\n",
    "        \"\"\"\n",
    "        param: sentences: tensor of shape (seq_len, batch_size)\n",
    "        \"\"\"\n",
    "        embedding = self.word_embeddings(sentences) # (seq_len, batch_size)\n",
    "        out, hidden = self.rnn(embedding) # pay attention here!\n",
    "        res = self.hidden2label(out[-1])\n",
    "        return torch.sigmoid(res)\n",
    "    "
   ]
  },
  {
   "cell_type": "markdown",
   "metadata": {},
   "source": [
    "[Исходный код LSTM](http://pytorch.org/docs/master/_modules/torch/nn/modules/rnn.html#LSTM)"
   ]
  },
  {
   "cell_type": "code",
   "execution_count": 16,
   "metadata": {},
   "outputs": [
    {
     "data": {
      "text/plain": [
       "torch.Size([5, 3, 20])"
      ]
     },
     "execution_count": 16,
     "metadata": {},
     "output_type": "execute_result"
    }
   ],
   "source": [
    "rnn = nn.LSTM(input_size=10, hidden_size=20, num_layers=2)\n",
    "inp = torch.randn(5, 3, 10)  # (seq_len, bs, inp)\n",
    "h0 = torch.randn(2, 3, 20)  # (n_layers, batch_size, n_hid)\n",
    "c0 = torch.randn(2, 3, 20)  # (n_layers, batch_size, n_hid)\n",
    "output, (hn, cn) = rnn(inp, (h0, c0))\n",
    "\n",
    "output.shape  # (seq_len, bs, hid)"
   ]
  },
  {
   "cell_type": "code",
   "execution_count": 17,
   "metadata": {},
   "outputs": [],
   "source": [
    "model = RNNClassifier(embedding_dim=n_emb,\n",
    "                       hidden_dim=n_hidden,\n",
    "                       vocab_size=vocab_size,\n",
    "                       label_size=1,\n",
    "                       batch_size=batch_size, \n",
    "                       rec_layer=nn.LSTM,\n",
    "                       dropout=None).to(device)"
   ]
  },
  {
   "cell_type": "code",
   "execution_count": 18,
   "metadata": {},
   "outputs": [],
   "source": [
    "optimizer = optim.RMSprop(model.parameters(), lr=learning_rate)\n",
    "lossfun = nn.BCELoss(reduction='sum')  # mean => sum / (seq_len * bs)"
   ]
  },
  {
   "cell_type": "code",
   "execution_count": 19,
   "metadata": {},
   "outputs": [],
   "source": [
    "def train_epoch(train_loader, model, lossfun, optimizer, device):\n",
    "    model.train()\n",
    "    for it, traindata in enumerate(train_loader):\n",
    "        train_inputs, train_labels = traindata\n",
    "        train_inputs = train_inputs.to(device) \n",
    "        train_labels = train_labels.to(device)\n",
    "        train_labels = torch.squeeze(train_labels)\n",
    "\n",
    "        model.zero_grad()        \n",
    "        output = model(train_inputs.t()) # pay attention here!\n",
    "\n",
    "        loss = lossfun(output.view(-1), train_labels.float())\n",
    "        loss.backward()\n",
    "        optimizer.step()\n",
    "\n",
    "def evaluate(loader, model, lossfun, device):\n",
    "    model.eval()\n",
    "    total_acc = 0.0\n",
    "    total_loss = 0.0\n",
    "    total = 0.0\n",
    "    for it, data in enumerate(loader):\n",
    "        inputs, labels = data\n",
    "        inputs = inputs.to(device) \n",
    "        labels = labels.to(device)\n",
    "        labels = torch.squeeze(labels)\n",
    "\n",
    "        output = model(inputs.t()) # pay attention here!\n",
    "        loss = lossfun(output.view(-1), labels.float())# + torch.norm(WW^T - I)\n",
    "        total_loss += loss.item()\n",
    "\n",
    "        # calc testing acc        \n",
    "        pred = output.view(-1) > 0.5\n",
    "        correct = pred == labels.byte()\n",
    "        total_acc += torch.sum(correct).item() / len(correct)\n",
    "\n",
    "    total = it + 1\n",
    "    return total_loss / total, total_acc / total\n",
    "    \n",
    "\n",
    "def train(train_loader, test_loader, model, lossfun, optimizer, \\\n",
    "          device, num_epochs):\n",
    "    train_loss_ = []\n",
    "    test_loss_ = []\n",
    "    train_acc_ = []\n",
    "    test_acc_ = []\n",
    "    for epoch in range(num_epochs):\n",
    "        train_epoch(train_loader, model, lossfun, optimizer, device)\n",
    "        train_loss, train_acc = evaluate(train_loader, model, lossfun, device)\n",
    "        train_loss_.append(train_loss)\n",
    "        train_acc_.append(train_acc)\n",
    "        test_loss, test_acc = evaluate(test_loader, model, lossfun, device)\n",
    "        test_loss_.append(test_loss)\n",
    "        test_acc_.append(test_acc)\n",
    "\n",
    "        print(f'Epoch: {epoch+1:3d}/{num_epochs:3d} '\n",
    "              f'Training Loss: {train_loss_[epoch]:.3f}, Testing Loss: {test_loss_[epoch]:.3f}, '\n",
    "              f'Training Acc: {train_acc_[epoch]:.3f}, Testing Acc: {test_acc_[epoch]:.3f}')\n",
    "\n",
    "    return train_loss_, train_acc_, test_loss_, test_acc_"
   ]
  },
  {
   "cell_type": "code",
   "execution_count": 20,
   "metadata": {},
   "outputs": [
    {
     "name": "stdout",
     "output_type": "stream",
     "text": [
      "Epoch:   1/  1 Training Loss: 83.167, Testing Loss: 84.752, Training Acc: 0.626, Testing Acc: 0.602\n",
      "CPU times: user 21.1 s, sys: 30.4 s, total: 51.5 s\n",
      "Wall time: 7.79 s\n"
     ]
    }
   ],
   "source": [
    "%time a, b, c, d = train(train_loader, test_loader, model, lossfun, \\\n",
    "                   optimizer, device, num_epochs)"
   ]
  },
  {
   "cell_type": "markdown",
   "metadata": {},
   "source": [
    "Нерегуляризованные LSTM часто быстро переобучаются (и мы это видим по точности на контроле). Чтобы с этим бороться, часто используют L2-регуляризацию и дропаут.\n",
    "Однако способов накладывать дропаут на рекуррентный слой достаточно много, и далеко не все хорошо работают. По [ссылке](https://medium.com/@bingobee01/a-review-of-dropout-as-applied-to-rnns-72e79ecd5b7b) доступен хороший обзор дропаутов для RNN.\n",
    "\n",
    "Мы реализуем два варианта дропаута для RNN (и третий дополнительно). Заодно увидим, что для реализации различных усовершенствований рекуррентной архитектуры приходится \"вскрывать\" слой до различной \"глубины\"."
   ]
  },
  {
   "cell_type": "markdown",
   "metadata": {},
   "source": [
    "### Реализация дропаута по статье Гала и Гарамани (Variational Dropout)\n",
    "Начнем с дропаута, описанного в [статье Гала и Гарамани](https://arxiv.org/abs/1512.05287).\n",
    "Для этого нам потребуется перейти от использования слоя nn.LSTM, полностью скрывающего от нас рекуррентную логику, к использованию слоя nn.LSTMCell, обрабатывающего лишь один временной шаг нашей последовательности (а всю логику вокруг придется реализовать самостоятельно). \n",
    "\n",
    "Допишите класс RNNLayer. При dropout=0 ваш класс должен работать как обычный слой LSTM, а при dropout > 0 накладывать бинарную маску на входной и скрытый вектор на каждом временном шаге, причем эта маска должна быть одинаковой во все моменты времени.\n",
    "\n",
    "Дропаут Гала и Гарамани в виде формул (m обознаает маску дропаута):\n",
    "$$\n",
    "h_{t-1} = h_{t-1}*m_h, \\, x_t = x_t * m_x\n",
    "$$\n",
    "(далее обычный шаг рекуррентной архитектуры, например LSTM)\n",
    "$$\n",
    "i = \\sigma(h_{t-1}W^i + x_t U^i+b_i) \\quad\n",
    "o = \\sigma(h_{t-1}W^o + x_t U^o+b_o) \n",
    "$$\n",
    "$$\n",
    "f = \\sigma(h_{t-1}W^f + x_t U^f+b_f) \\quad \n",
    "g = tanh(h_{t-1} W^g + x_t U^g+b_g) \n",
    "$$\n",
    "$$\n",
    "c_t = f \\odot c_{t-1} +  i \\odot  g \\quad\n",
    "h_t =  o \\odot tanh(c_t) \\nonumber\n",
    "$$"
   ]
  },
  {
   "cell_type": "code",
   "execution_count": 21,
   "metadata": {},
   "outputs": [],
   "source": [
    "def init_h0_c0(num_objects, hidden_size, some_existing_tensor):\n",
    "    \"\"\"\n",
    "    return h0 and c0, use some_existing_tensor.new_zeros() to gen them\n",
    "    h0 shape: num_objects x hidden_size\n",
    "    c0 shape: num_objects x hidden_size\n",
    "    \"\"\"\n",
    "    ### your code here\n",
    "    h0 = some_existing_tensor.new_zeros((num_objects, hidden_size))\n",
    "    c0 = some_existing_tensor.new_zeros((num_objects, hidden_size))\n",
    "    return h0, c0"
   ]
  },
  {
   "cell_type": "code",
   "execution_count": 22,
   "metadata": {},
   "outputs": [],
   "source": [
    "def gen_dropout_mask(input_size, hidden_size, is_training, p, some_existing_tensor):\n",
    "    \"\"\"\n",
    "    is_training: if True, gen masks from Bernoulli\n",
    "                 if False, gen masks consisting of (1-p)\n",
    "    \n",
    "    return dropout masks of size input_size, hidden_size if p is not None\n",
    "    return one masks if p is None\n",
    "    \"\"\"\n",
    "    ### your code here\n",
    "    mask0 = some_existing_tensor.new_ones(input_size)\n",
    "    mask1 = some_existing_tensor.new_ones(hidden_size)\n",
    "    if is_training and p is not None and p > 0:\n",
    "        keep_prob = 1 - p\n",
    "        mask0 = torch.bernoulli(mask0 * keep_prob) / keep_prob\n",
    "        mask1 = torch.bernoulli(mask1 * keep_prob) / keep_prob\n",
    "    return mask0, mask1"
   ]
  },
  {
   "cell_type": "code",
   "execution_count": 23,
   "metadata": {},
   "outputs": [],
   "source": [
    "class RNNLayer(nn.Module):\n",
    "    def __init__(self, input_size, hidden_size, dropout=None):\n",
    "        super(RNNLayer, self).__init__()\n",
    "        self.hidden_size = hidden_size\n",
    "        self.input_size = input_size\n",
    "        self.dropout = dropout\n",
    "        self.rnn_cell = nn.LSTMCell(input_size, hidden_size)\n",
    "        \n",
    "    def forward(self, inp):\n",
    "        # initialize h_0, c_0\n",
    "        h_0, c_0 = init_h0_c0(inp.shape[1], self.hidden_size, inp)\n",
    "        \n",
    "        # gen masks\n",
    "        input_mask, hidden_mask = gen_dropout_mask(self.input_size, \\\n",
    "                                                   self.hidden_size, \\\n",
    "                                                   self.training, \\\n",
    "                                                   self.dropout, \\\n",
    "                                                   inp)\n",
    "        \n",
    "        \n",
    "        ### your code here\n",
    "        ### implement recurrent logic and return what nn.LSTM returns\n",
    "        ### do not forget to apply generated dropout masks!\n",
    "        out = []\n",
    "        h, c = h_0, c_0\n",
    "        for i in range(inp.shape[0]):\n",
    "            h, c = self.rnn_cell(inp[i] * input_mask, (h * hidden_mask, c))\n",
    "            out.append(h)\n",
    "        return out, (h, c)"
   ]
  },
  {
   "cell_type": "markdown",
   "metadata": {},
   "source": [
    "Протестируйте реализованную модель с выключенным дропаутом (слой RNNLayer надо передать в RNNClassifier в качестве rec_layer). Замерьте время обучения (%time). Сильно ли оно увеличилось по сравнению с nn.LSTM (LSTM \"из коробки\")?"
   ]
  },
  {
   "cell_type": "code",
   "execution_count": 24,
   "metadata": {},
   "outputs": [
    {
     "name": "stdout",
     "output_type": "stream",
     "text": [
      "Epoch:   1/  1 Training Loss: 83.574, Testing Loss: 85.106, Training Acc: 0.623, Testing Acc: 0.602\n",
      "CPU times: user 22.4 s, sys: 36.7 s, total: 59.1 s\n",
      "Wall time: 9.88 s\n"
     ]
    }
   ],
   "source": [
    "model = RNNClassifier(embedding_dim=n_emb,\n",
    "                       hidden_dim=n_hidden,\n",
    "                       vocab_size=vocab_size,\n",
    "                       label_size=1,\n",
    "                       batch_size=batch_size, \n",
    "                       rec_layer=RNNLayer,\n",
    "                       dropout=None).to(device)\n",
    "\n",
    "optimizer = optim.RMSprop(model.parameters(), lr=learning_rate)\n",
    "lossfun = nn.BCELoss(reduction='sum')\n",
    "\n",
    "%time a, b, c, d = train(train_loader, test_loader, model, lossfun, \\\n",
    "                   optimizer, device, num_epochs)"
   ]
  },
  {
   "cell_type": "markdown",
   "metadata": {},
   "source": [
    "Протестируйте полученную модель c dropout=0.5, вновь замерив время обучения. Получилось ли побороть переобучение? Сильно ли дольше обучается данная модель по сравнению с предыдущей? (доп. время тратится на генерацию масок дропаута)."
   ]
  },
  {
   "cell_type": "code",
   "execution_count": 25,
   "metadata": {},
   "outputs": [
    {
     "name": "stdout",
     "output_type": "stream",
     "text": [
      "Epoch:   1/  1 Training Loss: 88.114, Testing Loss: 88.262, Training Acc: 0.533, Testing Acc: 0.518\n",
      "CPU times: user 22.7 s, sys: 37 s, total: 59.6 s\n",
      "Wall time: 9.86 s\n"
     ]
    }
   ],
   "source": [
    "model = RNNClassifier(embedding_dim=n_emb,\n",
    "                       hidden_dim=n_hidden,\n",
    "                       vocab_size=vocab_size,\n",
    "                       label_size=1,\n",
    "                       batch_size=batch_size, \n",
    "                       rec_layer=RNNLayer,\n",
    "                       dropout=0.5).to(device)\n",
    "\n",
    "optimizer = optim.RMSprop(model.parameters(), lr=learning_rate)\n",
    "lossfun = nn.BCELoss(reduction='sum')\n",
    "\n",
    "%time a, b, c, d = train(train_loader, test_loader, model, lossfun, \\\n",
    "                   optimizer, device, num_epochs)"
   ]
  },
  {
   "cell_type": "code",
   "execution_count": 26,
   "metadata": {},
   "outputs": [
    {
     "data": {
      "text/plain": [
       "RNNClassifier(\n",
       "  (word_embeddings): Embedding(20000, 32)\n",
       "  (rnn): RNNLayer(\n",
       "    (rnn_cell): LSTMCell(32, 32)\n",
       "  )\n",
       "  (hidden2label): Linear(in_features=32, out_features=1, bias=True)\n",
       ")"
      ]
     },
     "execution_count": 26,
     "metadata": {},
     "output_type": "execute_result"
    }
   ],
   "source": [
    "model"
   ]
  },
  {
   "cell_type": "markdown",
   "metadata": {},
   "source": [
    "### Реализация дропаута по статье Гала и Гарамани. Дубль 2"
   ]
  },
  {
   "cell_type": "markdown",
   "metadata": {},
   "source": [
    "<начало взлома pytorch>"
   ]
  },
  {
   "cell_type": "markdown",
   "metadata": {},
   "source": [
    "При разворачивании цикла по времени средствами python обучение рекуррентной нейросети сильно замедляется. Однако для реализации дропаута Гала и Гарамани необязательно явно задавать в коде домножение нейронов на маски. Можно схитрить и обойтись использованием слоя nn.LSTM: перед вызовом forward слоя nn.LSTM подменять его веса на веса, домноженные по строкам на маски. А обучаемые веса хранить отдельно. Именно так этот дропаут реализован в библиотеке fastai, код из которой использован в ячейке ниже.\n",
    "\n",
    "Такой слой реализуется в виде обертки над nn.LSTM. Допишите класс:"
   ]
  },
  {
   "cell_type": "code",
   "execution_count": 27,
   "metadata": {},
   "outputs": [],
   "source": [
    "import warnings"
   ]
  },
  {
   "cell_type": "code",
   "execution_count": 28,
   "metadata": {},
   "outputs": [],
   "source": [
    "class FastRNNLayer(nn.Module):\n",
    "    def __init__(self, input_size, hidden_size, dropout=0):\n",
    "        super(FastRNNLayer, self).__init__()\n",
    "        self.model = nn.LSTM(input_size, hidden_size)\n",
    "        self.dropout = dropout\n",
    "        self.layer_names = ['weight_hh_l0', 'weight_ih_l0']\n",
    "        for layer in self.layer_names:\n",
    "            # Makes a copy of the weights of the selected layers.\n",
    "            w = getattr(self.model, layer)\n",
    "            self.register_parameter(f'{layer}_raw', nn.Parameter(w.data))\n",
    "            \n",
    "    def _setweights(self):\n",
    "        \"Apply dropout to the raw weights.\"\n",
    "        ### your code here\n",
    "        ### generate input_mask and hidden_mask (use function gen_dropout_mask)\n",
    "        input_mask, hidden_mask = gen_dropout_mask(self.model.input_size, \\\n",
    "                                                   self.model.hidden_size, \\\n",
    "                                                   self.training, \\\n",
    "                                                   self.dropout, \\\n",
    "                                                   self.model.weight_hh_l0.data)\n",
    "        for layer, mask in zip(self.layer_names, (hidden_mask, input_mask)):\n",
    "            raw_w = getattr(self, f'{layer}_raw')\n",
    "            self.model._parameters[layer] = raw_w * mask\n",
    "\n",
    "    def forward(self, *args):\n",
    "        with warnings.catch_warnings():\n",
    "            #To avoid the warning that comes because the weights aren't flattened.\n",
    "            warnings.filterwarnings(\"ignore\")\n",
    "            \n",
    "            ### your code here\n",
    "            ### set new weights of self.module and call its forward\n",
    "            self._setweights()\n",
    "            # lstm.param.data *= mask\n",
    "            return self.model.forward(*args)\n",
    "\n",
    "    def reset(self):\n",
    "        if hasattr(self.model, 'reset'): self.model.reset()"
   ]
  },
  {
   "cell_type": "markdown",
   "metadata": {},
   "source": [
    "Протестируйте полученный слой (вновь подставив его в RNNClassifier в качестве rec_layer) с dropout=0.5. Сравните время обучения с предыдущими моделями. Проследите, чтобы качество получилось такое же, как при первой реализации этого дропаута."
   ]
  },
  {
   "cell_type": "code",
   "execution_count": 29,
   "metadata": {},
   "outputs": [
    {
     "name": "stdout",
     "output_type": "stream",
     "text": [
      "Epoch:   1/  2 Training Loss: 86.312, Testing Loss: 87.327, Training Acc: 0.590, Testing Acc: 0.560\n",
      "Epoch:   2/  2 Training Loss: 79.340, Testing Loss: 83.651, Training Acc: 0.667, Testing Acc: 0.613\n",
      "CPU times: user 38.4 s, sys: 57.6 s, total: 1min 35s\n",
      "Wall time: 14.5 s\n"
     ]
    }
   ],
   "source": [
    "warnings.filterwarnings('ignore')\n",
    "\n",
    "\n",
    "model = RNNClassifier(embedding_dim=n_emb,\n",
    "                       hidden_dim=n_hidden,\n",
    "                       vocab_size=vocab_size,\n",
    "                       label_size=1,\n",
    "                       batch_size=batch_size, \n",
    "                       rec_layer=FastRNNLayer,\n",
    "                       dropout=0.5).to(device)\n",
    "\n",
    "optimizer = optim.RMSprop(model.parameters(), lr=learning_rate)\n",
    "lossfun = nn.BCELoss(reduction='sum')\n",
    "\n",
    "\n",
    "%time a, b, c, d = train(train_loader, test_loader, model, lossfun, \\\n",
    "                   optimizer, device, num_epochs + 1)"
   ]
  },
  {
   "cell_type": "markdown",
   "metadata": {},
   "source": [
    "</конец взлома pytorch>"
   ]
  },
  {
   "cell_type": "markdown",
   "metadata": {},
   "source": [
    "### Реализация дропаута по статье Семениуты и др\n",
    "Перейдем к реализации дропаута для LSTM по статье [Semeniuta et al](http://www.aclweb.org/anthology/C16-1165). \n",
    "\n",
    "Этот метод применения дропаута не менее популярен, чем предыдущий. Его особенность состоит в том, что он придуман специально для гейтовых архитектур. В контексте LSTM этот дропаут накладывается только на информационный поток (m_h - маска дропаута):\n",
    "$$\n",
    "i = \\sigma(h_{t-1}W^i + x_t U^i+b_i) \\quad\n",
    "o = \\sigma(h_{t-1}W^o + x_t U^o+b_o) \n",
    "$$\n",
    "$$\n",
    "f = \\sigma(h_{t-1}W^f + x_t U^f+b_f) \\quad \n",
    "g = tanh(h_{t-1} W^g + x_t U^g+b_g) \n",
    "$$\n",
    "$$\n",
    "c_t = f \\odot c_{t-1} +  i \\odot g \\odot {\\bf m_h} \\quad\n",
    "h_t =  o \\odot tanh(c_t) \\nonumber\n",
    "$$\n",
    "На входы $x_t$ маска накладывается как в предыдущем дропауте. Впрочем, на входы маску можно наложить вообще до вызова рекуррентного слоя.\n",
    "\n",
    "Согласно статье, маска дропаута может быть как одинаковая, так и разная для всех моментов времени. Мы сделаем одинаковую.\n",
    "\n",
    "Для реализации этого дропаута можно: а) самостоятельно реализовать LSTM (интерфейса LSTMCell не хватит) б) снова воспользоваться трюком с установкой весов (но тут мы опираемся на свойство hanh(0)=0, к тому же, трюк в данном случае выглядит менее тривиально, чем с дропаутом Гала). Предлагается реализовать дрпоаут по сценираю а. Допишите класс:"
   ]
  },
  {
   "cell_type": "code",
   "execution_count": 31,
   "metadata": {
    "tags": []
   },
   "outputs": [],
   "source": [
    "class HandmadeLSTM(nn.Module):\n",
    "    def __init__(self, input_size, hidden_size, dropout=0.):\n",
    "        super(HandmadeLSTM, self).__init__()\n",
    "        self.input_size = input_size\n",
    "        self.hidden_size = hidden_size\n",
    "        self.dropout = dropout\n",
    "        self.input_weights = nn.Linear(input_size, 4 * hidden_size)\n",
    "        self.hidden_weights = nn.Linear(hidden_size, 4 * hidden_size)\n",
    "        \n",
    "        self.reset_params()\n",
    "\n",
    "\n",
    "    def reset_params(self):\n",
    "        \"\"\"\n",
    "        initialization as in Pytorch\n",
    "        do not forget to call this method!\n",
    "        \"\"\"\n",
    "        stdv = 1.0 / np.sqrt(self.hidden_size)\n",
    "        for weight in self.parameters():\n",
    "            weight.data.uniform_(0, stdv)\n",
    "            \n",
    "\n",
    "    def forward(self, inp, hidden=None):\n",
    "        ### your code here\n",
    "        # use functions init_h0_c0 and gen_dropout_masks defined above\n",
    "        pass"
   ]
  },
  {
   "cell_type": "markdown",
   "metadata": {},
   "source": [
    "Протестируйте вашу реализацию без дропаута (проконтролируйте качество и сравните время обучения с временем обучения nn.LSTM и RNNLayer), а также с dropout=0.5. Сравните качество модели с таким дропаутом с качеством модели с дропаутом Гала и Гарамани."
   ]
  },
  {
   "cell_type": "code",
   "execution_count": null,
   "metadata": {
    "collapsed": true,
    "jupyter": {
     "outputs_hidden": true
    }
   },
   "outputs": [],
   "source": []
  },
  {
   "cell_type": "code",
   "execution_count": null,
   "metadata": {
    "collapsed": true,
    "jupyter": {
     "outputs_hidden": true
    }
   },
   "outputs": [],
   "source": []
  },
  {
   "cell_type": "code",
   "execution_count": null,
   "metadata": {
    "collapsed": true,
    "jupyter": {
     "outputs_hidden": true
    }
   },
   "outputs": [],
   "source": []
  },
  {
   "cell_type": "markdown",
   "metadata": {},
   "source": [
    "### Zoneout\n",
    "Это еще одна модификация идеи дропаута применительно к рекуррентным нейросетям. В Zoneout на каждом временном шаге с вероятностью p компонента скрытого состояния обновляется, а с вероятностью 1-p берется с предыдущего шага. \n",
    "В Виде формул (m^t_h - бинарная маска):\n",
    " \n",
    "(сначала обычный рекуррентный переход, например LSTM)\n",
    "$$\n",
    "i = \\sigma(h_{t-1}W^i + x_t U^i+b_i) \\quad\n",
    "o = \\sigma(h_{t-1}W^o + x_t U^o+b_o) \n",
    "$$\n",
    "$$\n",
    "f = \\sigma(h_{t-1}W^f + x_t U^f+b_f) \\quad \n",
    "g = tanh(h_{t-1} W^g + x_t U^g+b_g) \n",
    "$$\n",
    "$$\n",
    "c_t = f \\odot c_{t-1} +  i \\odot  g \\quad\n",
    "h_t =  o \\odot tanh(c_t) \\nonumber\n",
    "$$\n",
    "Затем Zoneout:\n",
    "$$\n",
    "h_t = h_t * m_h^t + h_{t-1}*(1-m_h^t)\n",
    "$$\n",
    "В этом методе маска уже должна быть разная во все моменты времени (иначе метод упрощается до дропаута Гала и Гарамани). На входы $x_t$ вновь можно накладывать маску до начала работы рекуррентного слоя.  \n",
    "\n",
    "Если у вас осталось время, вы можете реализовать этот метод. Выберите основу из трех рассмотренных случаев самостоятельно.\n"
   ]
  },
  {
   "cell_type": "code",
   "execution_count": null,
   "metadata": {
    "collapsed": true,
    "jupyter": {
     "outputs_hidden": true
    }
   },
   "outputs": [],
   "source": []
  }
 ],
 "metadata": {
  "kernelspec": {
   "display_name": "Python 3 (ipykernel)",
   "language": "python",
   "name": "python3"
  },
  "language_info": {
   "codemirror_mode": {
    "name": "ipython",
    "version": 3
   },
   "file_extension": ".py",
   "mimetype": "text/x-python",
   "name": "python",
   "nbconvert_exporter": "python",
   "pygments_lexer": "ipython3",
   "version": "3.7.13"
  },
  "varInspector": {
   "cols": {
    "lenName": 16,
    "lenType": 16,
    "lenVar": 40
   },
   "kernels_config": {
    "python": {
     "delete_cmd_postfix": "",
     "delete_cmd_prefix": "del ",
     "library": "var_list.py",
     "varRefreshCmd": "print(var_dic_list())"
    },
    "r": {
     "delete_cmd_postfix": ") ",
     "delete_cmd_prefix": "rm(",
     "library": "var_list.r",
     "varRefreshCmd": "cat(var_dic_list()) "
    }
   },
   "position": {
    "height": "313px",
    "left": "926px",
    "right": "27px",
    "top": "120px",
    "width": "343px"
   },
   "types_to_exclude": [
    "module",
    "function",
    "builtin_function_or_method",
    "instance",
    "_Feature"
   ],
   "window_display": false
  }
 },
 "nbformat": 4,
 "nbformat_minor": 4
}
