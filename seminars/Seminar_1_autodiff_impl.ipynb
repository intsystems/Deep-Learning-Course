{
  "nbformat": 4,
  "nbformat_minor": 0,
  "metadata": {
    "colab": {
      "provenance": []
    },
    "kernelspec": {
      "name": "python3",
      "display_name": "Python 3"
    },
    "language_info": {
      "name": "python"
    }
  },
  "cells": [
    {
      "cell_type": "markdown",
      "metadata": {
        "id": "view-in-github"
      },
      "source": [
        "<a href=\"https://colab.research.google.com/github/dlsyscourse/lecture5/blob/main/5_automatic_differentiation_implementation.ipynb\" target=\"_parent\"><img src=\"https://colab.research.google.com/assets/colab-badge.svg\" alt=\"Open In Colab\"/></a>"
      ]
    },
    {
      "cell_type": "markdown",
      "metadata": {
        "id": "Mpn1ti5Urdsv"
      },
      "source": [
        "# Seminar 1: Automatic Differentiation Framework Implementation\n",
        "\n",
        "In this lecture, we will walk through the design elements of an automatic differentiation framework.\n",
        "\n",
        "We won't implement the automatic differentiation(that is part of your homework), but we will walk through all the scaffolds that build up our overall framework.\n",
        "\n",
        "\n"
      ]
    },
    {
      "cell_type": "markdown",
      "metadata": {
        "id": "qXysoqn-vZuF"
      },
      "source": [
        "## Prepare the codebase\n",
        "\n",
        "To get started, we can clone the following repo from the github."
      ]
    },
    {
      "cell_type": "code",
      "source": [
        "!git clone --no-checkout -b course-2024 https://github.com/intsystems/Deep-Learning-Course.git\n",
        "%cd Deep-Learning-Course\n",
        "!git sparse-checkout init --cone\n",
        "!git sparse-checkout set homeworks/hw1\n",
        "!git checkout\n",
        "%cd homeworks/hw1"
      ],
      "metadata": {
        "colab": {
          "base_uri": "https://localhost:8080/"
        },
        "id": "URvdA1y5uni0",
        "outputId": "9e5d8891-a8a5-40e5-e35b-0a183da8c102"
      },
      "execution_count": 1,
      "outputs": [
        {
          "output_type": "stream",
          "name": "stdout",
          "text": [
            "Cloning into 'Deep-Learning-Course'...\n",
            "remote: Enumerating objects: 510, done.\u001b[K\n",
            "remote: Counting objects: 100% (32/32), done.\u001b[K\n",
            "remote: Compressing objects: 100% (24/24), done.\u001b[K\n",
            "remote: Total 510 (delta 14), reused 10 (delta 6), pack-reused 478 (from 2)\u001b[K\n",
            "Receiving objects: 100% (510/510), 151.75 MiB | 32.94 MiB/s, done.\n",
            "Resolving deltas: 100% (235/235), done.\n",
            "/content/Deep-Learning-Course\n",
            "Your branch is up to date with 'origin/course-2024'.\n",
            "/content/Deep-Learning-Course/homeworks/hw1\n"
          ]
        }
      ]
    },
    {
      "cell_type": "markdown",
      "metadata": {
        "id": "DFxG3p3S1sBq"
      },
      "source": [
        "We can then run the following command to make the path to the package available in colab's environment as well as the PYTHONPATH."
      ]
    },
    {
      "cell_type": "code",
      "metadata": {
        "id": "ADB_KdhcsQWI",
        "colab": {
          "base_uri": "https://localhost:8080/"
        },
        "outputId": "c1d85236-ecb7-4d49-c948-4ac4ae2d86fe"
      },
      "source": [
        "# %set_env PYTHONPATH /content/needle/python:/env/python\n",
        "import sys\n",
        "sys.path.append('./python')\n",
        "sys.path.append('./apps')\n",
        "from simple_ml import *"
      ],
      "execution_count": 3,
      "outputs": [
        {
          "output_type": "stream",
          "name": "stdout",
          "text": [
            "env: PYTHONPATH=/content/needle/python:/env/python\n"
          ]
        }
      ]
    },
    {
      "cell_type": "code",
      "source": [
        "!ls"
      ],
      "metadata": {
        "colab": {
          "base_uri": "https://localhost:8080/"
        },
        "id": "cPzyzZk6viWG",
        "outputId": "be70fbba-782d-430c-9860-63f431ccbb5b"
      },
      "execution_count": 4,
      "outputs": [
        {
          "output_type": "stream",
          "name": "stdout",
          "text": [
            "apps  data  hw1.ipynb  python  tests\n"
          ]
        }
      ]
    },
    {
      "cell_type": "markdown",
      "metadata": {
        "id": "BBIuE2jc1DaU"
      },
      "source": [
        "## Needle codebase walkthrough\n",
        "\n",
        "Now click the files panel on the left side. You should be able to see the following files:\n",
        "\n",
        "- `python/needle`\n",
        "    - `__init__.py`\n",
        "    - `auograd.py`\n",
        "    - `backend_numpy.py`\n",
        "    - `ops/`\n",
        "\n",
        "The framework is called needle. Needle stands for **ne**cessary **e**lements of **d**eep **le**arning.\n",
        "You can also viewed it as a sewing needle that threads through clothes\n",
        "to form (neural)net patterns, and the create traces for automatic differentiation.\n",
        "\n",
        "\n"
      ]
    },
    {
      "cell_type": "markdown",
      "metadata": {
        "id": "x1Z8wSsI6PrU"
      },
      "source": [
        "### Tensor creation and manipulation\n",
        "\n",
        "\n"
      ]
    },
    {
      "cell_type": "code",
      "metadata": {
        "id": "N2bm_WB9uF4V"
      },
      "source": [
        "import needle as ndl"
      ],
      "execution_count": 5,
      "outputs": []
    },
    {
      "cell_type": "markdown",
      "metadata": {
        "id": "4-rdA-qP65lL"
      },
      "source": [
        "We can call perform array operations on needle Tensors. The following code creates a new Tensor y by adding a constant scalar to x."
      ]
    },
    {
      "cell_type": "code",
      "source": [
        "x = ndl.Tensor([1,2,3], dtype=\"float32\")"
      ],
      "metadata": {
        "id": "z5oGK66-N9mx"
      },
      "execution_count": 6,
      "outputs": []
    },
    {
      "cell_type": "code",
      "source": [
        "x"
      ],
      "metadata": {
        "id": "PJGo_uiwAipx",
        "colab": {
          "base_uri": "https://localhost:8080/"
        },
        "outputId": "84289aae-faf5-4e5e-f9af-28065dc09d8c"
      },
      "execution_count": 7,
      "outputs": [
        {
          "output_type": "execute_result",
          "data": {
            "text/plain": [
              "needle.Tensor([1. 2. 3.])"
            ]
          },
          "metadata": {},
          "execution_count": 7
        }
      ]
    },
    {
      "cell_type": "code",
      "source": [
        "y = x + 1"
      ],
      "metadata": {
        "id": "LWg3ZmU170nH"
      },
      "execution_count": 8,
      "outputs": []
    },
    {
      "cell_type": "code",
      "source": [
        "y.numpy()"
      ],
      "metadata": {
        "colab": {
          "base_uri": "https://localhost:8080/"
        },
        "id": "pz3lsjpf8A9A",
        "outputId": "0f7875b8-40f0-4bb4-d941-7f5078297353"
      },
      "execution_count": 9,
      "outputs": [
        {
          "output_type": "execute_result",
          "data": {
            "text/plain": [
              "array([2., 3., 4.], dtype=float32)"
            ]
          },
          "metadata": {},
          "execution_count": 9
        }
      ]
    },
    {
      "cell_type": "code",
      "source": [
        "y = ndl.add_scalar(x, 1)"
      ],
      "metadata": {
        "id": "i7bYV4uI70t8"
      },
      "execution_count": 10,
      "outputs": []
    },
    {
      "cell_type": "code",
      "source": [
        "y"
      ],
      "metadata": {
        "colab": {
          "base_uri": "https://localhost:8080/"
        },
        "id": "-aGNh2kM70yP",
        "outputId": "0ff9f22f-3802-41ef-bf19-2e7023f38b23"
      },
      "execution_count": 11,
      "outputs": [
        {
          "output_type": "execute_result",
          "data": {
            "text/plain": [
              "needle.Tensor([2. 3. 4.])"
            ]
          },
          "metadata": {},
          "execution_count": 11
        }
      ]
    },
    {
      "cell_type": "markdown",
      "metadata": {
        "id": "2J-NJfyV7WUD"
      },
      "source": [
        "We provide common operator overloadingss so you can also directly write + and the call redirects to ndl.add_scalar."
      ]
    },
    {
      "cell_type": "code",
      "metadata": {
        "id": "yZ5WanvX7d13"
      },
      "source": [
        "y = x + 1"
      ],
      "execution_count": 12,
      "outputs": []
    },
    {
      "cell_type": "code",
      "metadata": {
        "colab": {
          "base_uri": "https://localhost:8080/"
        },
        "id": "56ks8V4p7hpw",
        "outputId": "50ac64e6-62ef-4378-8eb2-d289eb40af60"
      },
      "source": [
        "y"
      ],
      "execution_count": 13,
      "outputs": [
        {
          "output_type": "execute_result",
          "data": {
            "text/plain": [
              "needle.Tensor([2. 3. 4.])"
            ]
          },
          "metadata": {},
          "execution_count": 13
        }
      ]
    },
    {
      "cell_type": "markdown",
      "metadata": {
        "id": "l8GrVvpp7qIo"
      },
      "source": [
        "We can call `y.numpy()` to explicitly convert a needle Tensor to a numpy ndarray. Note for numpy backend, needle tensor is backed by an numpy.ndarray so there isn't much a difference here. However, we will implement other non-numpy backends that are backed by different kind of devices."
      ]
    },
    {
      "cell_type": "code",
      "metadata": {
        "colab": {
          "base_uri": "https://localhost:8080/"
        },
        "id": "_ga-r2sG3304",
        "outputId": "de4e1994-2701-4dca-f581-6d9f9327415e"
      },
      "source": [
        "y.numpy()"
      ],
      "execution_count": 14,
      "outputs": [
        {
          "output_type": "execute_result",
          "data": {
            "text/plain": [
              "array([2., 3., 4.], dtype=float32)"
            ]
          },
          "metadata": {},
          "execution_count": 14
        }
      ]
    },
    {
      "cell_type": "code",
      "source": [
        "isinstance(y, ndl.autograd.Value)"
      ],
      "metadata": {
        "colab": {
          "base_uri": "https://localhost:8080/"
        },
        "id": "8z4SkfAC9aFg",
        "outputId": "bb3ca7aa-86d2-4893-d319-ce96e63002bd"
      },
      "execution_count": 15,
      "outputs": [
        {
          "output_type": "execute_result",
          "data": {
            "text/plain": [
              "True"
            ]
          },
          "metadata": {},
          "execution_count": 15
        }
      ]
    },
    {
      "cell_type": "code",
      "source": [
        "y.op"
      ],
      "metadata": {
        "colab": {
          "base_uri": "https://localhost:8080/"
        },
        "id": "JX4Zw8GI9aOI",
        "outputId": "88cc7fdd-a60b-40ad-cd41-66984952cf19"
      },
      "execution_count": 16,
      "outputs": [
        {
          "output_type": "execute_result",
          "data": {
            "text/plain": [
              "<needle.ops.ops_mathematic.AddScalar at 0x7a4a05074410>"
            ]
          },
          "metadata": {},
          "execution_count": 16
        }
      ]
    },
    {
      "cell_type": "code",
      "source": [
        "y.op.__dict__"
      ],
      "metadata": {
        "colab": {
          "base_uri": "https://localhost:8080/"
        },
        "id": "6lOuJLVO9aWO",
        "outputId": "bcbad73e-4804-41f7-d1bc-a636c477beda"
      },
      "execution_count": 17,
      "outputs": [
        {
          "output_type": "execute_result",
          "data": {
            "text/plain": [
              "{'scalar': 1}"
            ]
          },
          "metadata": {},
          "execution_count": 17
        }
      ]
    },
    {
      "cell_type": "markdown",
      "metadata": {
        "id": "t4o4kqmG76GI"
      },
      "source": [
        "### Key Data Structures\n",
        "\n",
        "Needle contains the following key data structures:\n",
        "\n",
        "- Value: represent a value \"node\" in a computational graph\n",
        "    - Tensor is a subclass of Value.\n",
        "    - We might introduce other kinds of Value in the future (e.g. tuple of tensors)\n",
        "- Op: represent the kind of computation we perform at each node.\n",
        "\n"
      ]
    },
    {
      "cell_type": "markdown",
      "metadata": {
        "id": "vvipv1Ki8Sdf"
      },
      "source": [
        "## Computational Graph\n",
        "\n",
        "When running array computations, needle not only executes the arithmetic operations, but also creates a computational graph along the way."
      ]
    },
    {
      "cell_type": "markdown",
      "metadata": {
        "id": "tTBXvwHErC04"
      },
      "source": [
        "![image.png](data:image/png;base64,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)"
      ]
    },
    {
      "cell_type": "code",
      "source": [
        "v1 = ndl.Tensor([0], dtype=\"float32\")\n",
        "v2 = ndl.exp(v1)\n",
        "v3 = v2 + 1\n",
        "v4 = v2 * v3\n",
        "\n",
        "v4.inputs[0].inputs[0] is v1"
      ],
      "metadata": {
        "id": "Es9KxNXb_gnJ",
        "colab": {
          "base_uri": "https://localhost:8080/"
        },
        "outputId": "8340f624-bb81-48c5-d1e0-3d9fe94655ab"
      },
      "execution_count": 18,
      "outputs": [
        {
          "output_type": "execute_result",
          "data": {
            "text/plain": [
              "True"
            ]
          },
          "metadata": {},
          "execution_count": 18
        }
      ]
    },
    {
      "cell_type": "code",
      "source": [
        "def print_node(node):\n",
        "    print(f\"id={id(node)}\")\n",
        "    print(f\"op={node.op}\")\n",
        "    print(f\"{[id(x) for x in node.inputs]}\")\n",
        "\n",
        "print(\"v4\")\n",
        "print_node(v4)\n",
        "print(\"v3\")\n",
        "print_node(v3)\n"
      ],
      "metadata": {
        "id": "woudO3mq_gsp",
        "colab": {
          "base_uri": "https://localhost:8080/"
        },
        "outputId": "2604bd2a-d5dd-4c2b-852e-f4f556290d08"
      },
      "execution_count": 19,
      "outputs": [
        {
          "output_type": "stream",
          "name": "stdout",
          "text": [
            "v4\n",
            "id=134458330744352\n",
            "op=<needle.ops.ops_mathematic.EWiseMul object at 0x7a4a0c3a8740>\n",
            "[134458330543792, 134458331624704]\n",
            "v3\n",
            "id=134458331624704\n",
            "op=<needle.ops.ops_mathematic.AddScalar object at 0x7a4a0dd6f9b0>\n",
            "[134458330543792]\n"
          ]
        }
      ]
    },
    {
      "cell_type": "code",
      "source": [
        "v4.inputs[1] is v3"
      ],
      "metadata": {
        "id": "CNq9uDyA_kcI",
        "colab": {
          "base_uri": "https://localhost:8080/"
        },
        "outputId": "e9a1a419-d7d8-4cce-c8b7-a2349b51df3c"
      },
      "execution_count": 20,
      "outputs": [
        {
          "output_type": "execute_result",
          "data": {
            "text/plain": [
              "True"
            ]
          },
          "metadata": {},
          "execution_count": 20
        }
      ]
    },
    {
      "cell_type": "code",
      "source": [],
      "metadata": {
        "id": "rQlakIxd_khM"
      },
      "execution_count": null,
      "outputs": []
    },
    {
      "cell_type": "markdown",
      "source": [
        " NOTE: we need to open up the ops and add implementation of exp in order for the following code to run\n",
        "\n"
      ],
      "metadata": {
        "id": "WU5j22pWAP9c"
      }
    },
    {
      "cell_type": "code",
      "metadata": {
        "id": "p13Esykh90iu"
      },
      "source": [
        "v1 = ndl.Tensor([0], dtype=\"float32\")\n",
        "v2 = ndl.exp(v1)\n",
        "v3 = v2 + 1\n",
        "v4 = v2 * v3"
      ],
      "execution_count": 21,
      "outputs": []
    },
    {
      "cell_type": "markdown",
      "metadata": {
        "id": "kkkZoneoDf8r"
      },
      "source": [
        "`v4.inputs` contains the input values to the operation\n"
      ]
    },
    {
      "cell_type": "code",
      "metadata": {
        "colab": {
          "base_uri": "https://localhost:8080/"
        },
        "id": "WnI0D1LE_D_7",
        "outputId": "6a9896d1-be18-49d1-b786-446c4f808ed6"
      },
      "source": [
        "v4.inputs"
      ],
      "execution_count": 22,
      "outputs": [
        {
          "output_type": "execute_result",
          "data": {
            "text/plain": [
              "(needle.Tensor([1.]), needle.Tensor([2.]))"
            ]
          },
          "metadata": {},
          "execution_count": 22
        }
      ]
    },
    {
      "cell_type": "markdown",
      "metadata": {
        "id": "62VHuX8iD6L9"
      },
      "source": [
        "We further confirm that `v4.inputs == [v2, v3]`"
      ]
    },
    {
      "cell_type": "code",
      "metadata": {
        "colab": {
          "base_uri": "https://localhost:8080/"
        },
        "id": "tsv2TcHBDxDq",
        "outputId": "b83052e2-0387-443b-e031-ef50f60fcee6"
      },
      "source": [
        "v4.inputs[0] is v2 and v4.inputs[1] is v3"
      ],
      "execution_count": 23,
      "outputs": [
        {
          "output_type": "execute_result",
          "data": {
            "text/plain": [
              "True"
            ]
          },
          "metadata": {},
          "execution_count": 23
        }
      ]
    },
    {
      "cell_type": "markdown",
      "metadata": {
        "id": "hWb6wPjvEFCb"
      },
      "source": [
        "Besides the inputs field. v4 also contains an `op` field that record the operaiton performed. In this case the operation is EWiseMulOp."
      ]
    },
    {
      "cell_type": "code",
      "metadata": {
        "colab": {
          "base_uri": "https://localhost:8080/"
        },
        "id": "qMu1JfieEEuY",
        "outputId": "5dc23722-cae8-4498-ebce-346696fcf533"
      },
      "source": [
        "v4.op"
      ],
      "execution_count": 24,
      "outputs": [
        {
          "output_type": "execute_result",
          "data": {
            "text/plain": [
              "<needle.ops.ops_mathematic.EWiseMul at 0x7a4a050a8c20>"
            ]
          },
          "metadata": {},
          "execution_count": 24
        }
      ]
    },
    {
      "cell_type": "markdown",
      "metadata": {
        "id": "rDtsYzseEu0k"
      },
      "source": [
        "v3 is an add scalar node that represents a constant scalar add to an input.\n",
        "\n",
        "\n"
      ]
    },
    {
      "cell_type": "code",
      "metadata": {
        "colab": {
          "base_uri": "https://localhost:8080/"
        },
        "id": "EMKxUTwEE7Y7",
        "outputId": "eed0990c-946a-4c9a-b288-f85d8ab33cdb"
      },
      "source": [
        "v3.op"
      ],
      "execution_count": 25,
      "outputs": [
        {
          "output_type": "execute_result",
          "data": {
            "text/plain": [
              "<needle.ops.ops_mathematic.AddScalar at 0x7a4a050a82c0>"
            ]
          },
          "metadata": {},
          "execution_count": 25
        }
      ]
    },
    {
      "cell_type": "markdown",
      "metadata": {
        "id": "CT_x01NCFILK"
      },
      "source": [
        "v3 only have one input(v2)\n"
      ]
    },
    {
      "cell_type": "code",
      "metadata": {
        "colab": {
          "base_uri": "https://localhost:8080/"
        },
        "id": "QJq0y2J2FCrx",
        "outputId": "c44cad96-f71a-46ae-9385-f6446ab9d8e3"
      },
      "source": [
        "v3.inputs"
      ],
      "execution_count": 26,
      "outputs": [
        {
          "output_type": "execute_result",
          "data": {
            "text/plain": [
              "(needle.Tensor([1.]),)"
            ]
          },
          "metadata": {},
          "execution_count": 26
        }
      ]
    },
    {
      "cell_type": "markdown",
      "metadata": {
        "id": "f_QJWIiQFQYL"
      },
      "source": [
        "v3's op class also contains a field that stores the scalar constant"
      ]
    },
    {
      "cell_type": "code",
      "metadata": {
        "colab": {
          "base_uri": "https://localhost:8080/"
        },
        "id": "B4gtsclHE5EZ",
        "outputId": "650355eb-926e-47d0-d9f5-aa48b9f190b2"
      },
      "source": [
        "v3.op.__dict__"
      ],
      "execution_count": 27,
      "outputs": [
        {
          "output_type": "execute_result",
          "data": {
            "text/plain": [
              "{'scalar': 1}"
            ]
          },
          "metadata": {},
          "execution_count": 27
        }
      ]
    },
    {
      "cell_type": "markdown",
      "metadata": {
        "id": "7xCRU7KrFlPP"
      },
      "source": [
        "## Executing the Computation\n",
        "\n",
        "Now let us take a deeper look at what happens when we run an array operation.\n",
        "Specifically, what happens when we run needle computations."
      ]
    },
    {
      "cell_type": "code",
      "source": [
        "x1 = ndl.Tensor([3], dtype=\"float32\")\n",
        "x2 = ndl.Tensor([4], dtype=\"float32\")"
      ],
      "metadata": {
        "id": "yvYSZ-pqAo8v"
      },
      "execution_count": 28,
      "outputs": []
    },
    {
      "cell_type": "code",
      "source": [
        "y = x1 + x2"
      ],
      "metadata": {
        "id": "7Q6R16meBEBL"
      },
      "execution_count": 29,
      "outputs": []
    },
    {
      "cell_type": "code",
      "source": [
        "y.shape\n",
        "y.cached_data"
      ],
      "metadata": {
        "colab": {
          "base_uri": "https://localhost:8080/"
        },
        "id": "3KxpnnomDlwy",
        "outputId": "811d6156-3001-45f5-c24a-41446c8e14c8"
      },
      "execution_count": 31,
      "outputs": [
        {
          "output_type": "execute_result",
          "data": {
            "text/plain": [
              "array([7.], dtype=float32)"
            ]
          },
          "metadata": {},
          "execution_count": 31
        }
      ]
    },
    {
      "cell_type": "code",
      "source": [
        "x = ndl.Tensor([2], dtype=\"float32\")"
      ],
      "metadata": {
        "id": "0qmgde6ABEN5"
      },
      "execution_count": 32,
      "outputs": []
    },
    {
      "cell_type": "code",
      "source": [
        "sum_loss = ndl.Tensor([0], dtype=\"float32\")"
      ],
      "metadata": {
        "id": "l5o48Hz7EbqO"
      },
      "execution_count": 33,
      "outputs": []
    },
    {
      "cell_type": "code",
      "source": [
        "for i in range(100):\n",
        "    sum_loss = sum_loss + x * x"
      ],
      "metadata": {
        "id": "bgLi1ytEEbvH"
      },
      "execution_count": 34,
      "outputs": []
    },
    {
      "cell_type": "code",
      "source": [
        "sum_loss.inputs[0].inputs"
      ],
      "metadata": {
        "colab": {
          "base_uri": "https://localhost:8080/"
        },
        "id": "4dW0exDGEbyy",
        "outputId": "45e46d96-b042-4f76-b665-708b7b3994aa"
      },
      "execution_count": 35,
      "outputs": [
        {
          "output_type": "execute_result",
          "data": {
            "text/plain": [
              "(needle.Tensor([392.]), needle.Tensor([4.]))"
            ]
          },
          "metadata": {},
          "execution_count": 35
        }
      ]
    },
    {
      "cell_type": "code",
      "source": [
        "sum_loss.inputs"
      ],
      "metadata": {
        "colab": {
          "base_uri": "https://localhost:8080/"
        },
        "id": "Hold0iRvBEQv",
        "outputId": "37bb35b9-7f23-426e-fdec-79d3b87a955d"
      },
      "execution_count": 36,
      "outputs": [
        {
          "output_type": "execute_result",
          "data": {
            "text/plain": [
              "(needle.Tensor([396.]), needle.Tensor([4.]))"
            ]
          },
          "metadata": {},
          "execution_count": 36
        }
      ]
    },
    {
      "cell_type": "code",
      "source": [],
      "metadata": {
        "id": "HlkLwbP6BEWa"
      },
      "execution_count": 36,
      "outputs": []
    },
    {
      "cell_type": "code",
      "source": [
        "x = ndl.Tensor([3], dtype=\"float32\")"
      ],
      "metadata": {
        "id": "DzUXpFcK_062"
      },
      "execution_count": 37,
      "outputs": []
    },
    {
      "cell_type": "code",
      "source": [
        "sum_loss = ndl.Tensor([0], dtype=\"float32\")"
      ],
      "metadata": {
        "id": "s2BfCdHdtd9S"
      },
      "execution_count": 38,
      "outputs": []
    },
    {
      "cell_type": "code",
      "source": [
        "for i in range(100):\n",
        "    sum_loss = (sum_loss + x * x).detach()"
      ],
      "metadata": {
        "id": "U71UZvUMteGf"
      },
      "execution_count": 39,
      "outputs": []
    },
    {
      "cell_type": "code",
      "source": [
        "sum_loss.inputs"
      ],
      "metadata": {
        "colab": {
          "base_uri": "https://localhost:8080/"
        },
        "id": "Wr8t4d7uteNw",
        "outputId": "f7f94fa0-28bf-49ff-fa84-88ac93ac7e0c"
      },
      "execution_count": 40,
      "outputs": [
        {
          "output_type": "execute_result",
          "data": {
            "text/plain": [
              "[]"
            ]
          },
          "metadata": {},
          "execution_count": 40
        }
      ]
    },
    {
      "cell_type": "code",
      "source": [
        "y = x + 1"
      ],
      "metadata": {
        "id": "jxQGSY_-teWT"
      },
      "execution_count": 41,
      "outputs": []
    },
    {
      "cell_type": "code",
      "source": [
        "y_detached = y.detach()"
      ],
      "metadata": {
        "id": "OYGsAgMqteqh"
      },
      "execution_count": 42,
      "outputs": []
    },
    {
      "cell_type": "code",
      "source": [
        "y_detached.op is None"
      ],
      "metadata": {
        "colab": {
          "base_uri": "https://localhost:8080/"
        },
        "id": "Mm4eGzbRujJK",
        "outputId": "b66834ba-337c-4b8f-9528-38c43353fff7"
      },
      "execution_count": 43,
      "outputs": [
        {
          "output_type": "execute_result",
          "data": {
            "text/plain": [
              "True"
            ]
          },
          "metadata": {},
          "execution_count": 43
        }
      ]
    },
    {
      "cell_type": "code",
      "metadata": {
        "id": "HXXpG_-pGCnc",
        "colab": {
          "base_uri": "https://localhost:8080/"
        },
        "outputId": "bfbb5042-0a01-4587-8a98-089940af7918"
      },
      "source": [
        "import needle as ndl\n",
        "x1 = ndl.Tensor([3], dtype=\"float32\")\n",
        "x2 = ndl.Tensor([4], dtype=\"float32\")\n",
        "x3 = x1 * 2\n",
        "x3.numpy()"
      ],
      "execution_count": 44,
      "outputs": [
        {
          "output_type": "execute_result",
          "data": {
            "text/plain": [
              "array([6.], dtype=float32)"
            ]
          },
          "metadata": {},
          "execution_count": 44
        }
      ]
    },
    {
      "cell_type": "code",
      "metadata": {
        "colab": {
          "base_uri": "https://localhost:8080/"
        },
        "id": "Zskaoz19SUOD",
        "outputId": "bba7d160-936d-46a2-fdff-4d890eea450b"
      },
      "source": [
        "!python needle/test.py"
      ],
      "execution_count": 45,
      "outputs": [
        {
          "output_type": "stream",
          "name": "stdout",
          "text": [
            "python3: can't open file '/content/Deep-Learning-Course/homeworks/hw1/needle/test.py': [Errno 2] No such file or directory\n"
          ]
        }
      ]
    },
    {
      "cell_type": "markdown",
      "metadata": {
        "id": "9jJ6xxD6GIsZ"
      },
      "source": [
        "Open up the code browser, check the following functions along the calling path.\n",
        "- `autograd.TensorOp.__call__` calls into\n",
        "- `autograd.Tensor.make_from_op` calls into\n",
        "- `autograd.Tensor.realize_cached_data` calls into\n",
        "- `x3.op.compute`\n",
        "\n",
        "A few key points to note here:\n",
        "- `make_from_op` constructs the computational graph node.\n",
        "- The actual computation won't happen until `realize_cached_data` is called.\n"
      ]
    },
    {
      "cell_type": "code",
      "metadata": {
        "id": "d-k6UkvzsPQ9",
        "colab": {
          "base_uri": "https://localhost:8080/"
        },
        "outputId": "be4244c7-41ba-4828-dd68-b8c4dd2af8d3"
      },
      "source": [
        "x3.op.compute.__code__"
      ],
      "execution_count": null,
      "outputs": [
        {
          "output_type": "execute_result",
          "data": {
            "text/plain": [
              "<code object compute at 0x7df214308240, file \"/content/needle/python/needle/ops/ops_mathematic.py\", line 61>"
            ]
          },
          "metadata": {},
          "execution_count": 49
        }
      ]
    },
    {
      "cell_type": "markdown",
      "metadata": {
        "id": "uOcM4YQRJETq"
      },
      "source": [
        "The following code above us to find the location of the compute implementation.\n",
        "- Here `array_api` simply points to numpy\n"
      ]
    },
    {
      "cell_type": "markdown",
      "metadata": {
        "id": "HnAsh4cMJYLJ"
      },
      "source": [
        "Each of the Value node stores a `cached_data` field that corresponds to the computed data. Because we are using numpy as our array api, the cached_data is a numpy.ndarray."
      ]
    },
    {
      "cell_type": "code",
      "metadata": {
        "colab": {
          "base_uri": "https://localhost:8080/"
        },
        "id": "LJMYq_QDJTIS",
        "outputId": "2a983ca5-7068-44c0-a839-5324582c95ad"
      },
      "source": [
        "type(x3.cached_data)"
      ],
      "execution_count": null,
      "outputs": [
        {
          "output_type": "execute_result",
          "data": {
            "text/plain": [
              "numpy.ndarray"
            ]
          },
          "metadata": {},
          "execution_count": 50
        }
      ]
    },
    {
      "cell_type": "code",
      "metadata": {
        "id": "L1yr-_X1v5SR",
        "colab": {
          "base_uri": "https://localhost:8080/"
        },
        "outputId": "70baff4c-2b29-4b90-b7df-5b7b7dc606d4"
      },
      "source": [
        "x3.cached_data"
      ],
      "execution_count": null,
      "outputs": [
        {
          "output_type": "execute_result",
          "data": {
            "text/plain": [
              "array([6.], dtype=float32)"
            ]
          },
          "metadata": {},
          "execution_count": 51
        }
      ]
    },
    {
      "cell_type": "markdown",
      "metadata": {
        "id": "F28V1oslwjsC"
      },
      "source": [
        "### Lazy Evaluation\n",
        "\n",
        "We also support a lazy evaluation mode. In this case, we do not compute cached_data right away. But cached_data will be computed once we need the actual result (when we call x3.data, x3.numpy() or othercases).\n"
      ]
    },
    {
      "cell_type": "code",
      "metadata": {
        "id": "hjHj4YpuwzE3"
      },
      "source": [
        "ndl.autograd.LAZY_MODE = True\n",
        "x1 = ndl.Tensor([3], dtype=\"float32\")\n",
        "x2 = ndl.Tensor([4], dtype=\"float32\")\n",
        "x3 = x1 * x2"
      ],
      "execution_count": 46,
      "outputs": []
    },
    {
      "cell_type": "markdown",
      "metadata": {
        "id": "KgMmuOsTw8zg"
      },
      "source": [
        "We can see that x3's cached_data field is not yet readily available. But as soon as we call x3.numpy(), a call to `x3.realize_cached_data()` will get triggered to compute the actual value."
      ]
    },
    {
      "cell_type": "code",
      "metadata": {
        "colab": {
          "base_uri": "https://localhost:8080/"
        },
        "id": "tLZRo4tTw3c6",
        "outputId": "f63760b4-c7cb-46cd-800e-35b34a0dbb2f"
      },
      "source": [
        "x3.cached_data is None"
      ],
      "execution_count": 47,
      "outputs": [
        {
          "output_type": "execute_result",
          "data": {
            "text/plain": [
              "True"
            ]
          },
          "metadata": {},
          "execution_count": 47
        }
      ]
    },
    {
      "cell_type": "code",
      "metadata": {
        "colab": {
          "base_uri": "https://localhost:8080/"
        },
        "id": "QzveK-j7xCAU",
        "outputId": "c08c3d02-8cfc-438b-d1ab-a6e06941cadd"
      },
      "source": [
        "x3.numpy()"
      ],
      "execution_count": 48,
      "outputs": [
        {
          "output_type": "execute_result",
          "data": {
            "text/plain": [
              "array([12.], dtype=float32)"
            ]
          },
          "metadata": {},
          "execution_count": 48
        }
      ]
    },
    {
      "cell_type": "code",
      "metadata": {
        "colab": {
          "base_uri": "https://localhost:8080/"
        },
        "id": "tgzT8-mSxFoi",
        "outputId": "0c117ff0-93de-4a5c-cd95-aec9d85f82a4"
      },
      "source": [
        "x.cached_data"
      ],
      "execution_count": 49,
      "outputs": [
        {
          "output_type": "execute_result",
          "data": {
            "text/plain": [
              "array([3.], dtype=float32)"
            ]
          },
          "metadata": {},
          "execution_count": 49
        }
      ]
    },
    {
      "cell_type": "markdown",
      "metadata": {
        "id": "yx878bpmxUWX"
      },
      "source": [
        "By default we use eager evaluation mode that always directly realizes the computation, but lazy evaluation can also be helpful for some advanced optimizations later."
      ]
    },
    {
      "cell_type": "markdown",
      "metadata": {
        "id": "s7ucrVt5904F"
      },
      "source": [
        "## Reverse mode AD\n",
        "\n",
        "Now we are ready to talk about reverse mode AD. As a recap from last lecture, we will need to traverse the computational graph in reverse topological order, and construct the new adjoint nodes(Tensors)."
      ]
    },
    {
      "cell_type": "markdown",
      "metadata": {
        "id": "UcqQGzO4JzqN"
      },
      "source": [
        "![image.png](data:image/png;base64,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)"
      ]
    },
    {
      "cell_type": "markdown",
      "metadata": {
        "id": "-y8MMQK5MI9R"
      },
      "source": [
        "You will need to complete the implementations in autograd.py to enable the backward function. That computes the gradient and store them in the grad field of each input Tensor."
      ]
    },
    {
      "cell_type": "code",
      "source": [
        "v2adj, v3adj = v4.op.gradient_as_tuple(\n",
        "    ndl.Tensor([1], dtype=\"float32\"),\n",
        "    v4,\n",
        ")"
      ],
      "metadata": {
        "id": "8MZ3_342KNdC"
      },
      "execution_count": 50,
      "outputs": []
    },
    {
      "cell_type": "code",
      "metadata": {
        "id": "4zdjNkLoxhtk"
      },
      "source": [
        "v1 = ndl.Tensor([0], dtype=\"float32\")\n",
        "v2 = ndl.exp(v1)\n",
        "v3 = v2 + 1\n",
        "v4 = v2 * v3"
      ],
      "execution_count": 51,
      "outputs": []
    },
    {
      "cell_type": "code",
      "source": [
        "v4.backward()"
      ],
      "metadata": {
        "id": "3-wJDGiKJl5g"
      },
      "execution_count": 52,
      "outputs": []
    },
    {
      "cell_type": "code",
      "source": [
        "v2adj.inputs"
      ],
      "metadata": {
        "colab": {
          "base_uri": "https://localhost:8080/"
        },
        "id": "JT2_knrrvns7",
        "outputId": "fb0fb1a4-b360-4565-9a73-d0bfb0387b71"
      },
      "execution_count": 53,
      "outputs": [
        {
          "output_type": "execute_result",
          "data": {
            "text/plain": [
              "(needle.Tensor([1.]), needle.Tensor([2.]))"
            ]
          },
          "metadata": {},
          "execution_count": 53
        }
      ]
    },
    {
      "cell_type": "code",
      "source": [
        "print_node(v4.grad)"
      ],
      "metadata": {
        "colab": {
          "base_uri": "https://localhost:8080/"
        },
        "id": "CwF0qMxJ85yW",
        "outputId": "097c3b27-5620-40d3-a96a-fa19e3991135"
      },
      "execution_count": 67,
      "outputs": [
        {
          "output_type": "stream",
          "name": "stdout",
          "text": [
            "id=134458330854560\n",
            "op=None\n",
            "[]\n"
          ]
        }
      ]
    },
    {
      "cell_type": "code",
      "source": [
        "print_node(v3.grad)"
      ],
      "metadata": {
        "colab": {
          "base_uri": "https://localhost:8080/"
        },
        "id": "dx5Ln1SH9Ya-",
        "outputId": "5691e731-166c-4ac2-f799-68571491a276"
      },
      "execution_count": 64,
      "outputs": [
        {
          "output_type": "stream",
          "name": "stdout",
          "text": [
            "id=134458330747664\n",
            "op=<needle.ops.ops_mathematic.EWiseMul object at 0x7a4a050a8530>\n",
            "[134458330854560, 134458330855040]\n"
          ]
        }
      ]
    },
    {
      "cell_type": "markdown",
      "metadata": {
        "id": "sfoN63cNvEdE"
      },
      "source": [
        "Each op have a gradient function, that defines how to propagate adjoint back into its inputs(as partial adjoints). We can look up the gradient implementation of v4.op as follows(impl of gradient for multiplication)\n"
      ]
    },
    {
      "cell_type": "code",
      "metadata": {
        "colab": {
          "base_uri": "https://localhost:8080/"
        },
        "id": "3NPYVRjKuZNO",
        "outputId": "4b51a4ac-9d15-4556-8b94-6d9766aff758"
      },
      "source": [
        "v4.op.gradient.__code__"
      ],
      "execution_count": null,
      "outputs": [
        {
          "output_type": "execute_result",
          "data": {
            "text/plain": [
              "<code object gradient at 0x7df2154c7aa0, file \"/content/needle/python/needle/ops/ops_mathematic.py\", line 48>"
            ]
          },
          "metadata": {},
          "execution_count": 59
        }
      ]
    },
    {
      "cell_type": "code",
      "metadata": {
        "colab": {
          "base_uri": "https://localhost:8080/"
        },
        "id": "CL4a3EIpXsJD",
        "outputId": "59fa870a-9d72-4521-d6f8-86c419c9dc8a"
      },
      "source": [
        "v4.grad"
      ],
      "execution_count": 61,
      "outputs": [
        {
          "output_type": "execute_result",
          "data": {
            "text/plain": [
              "needle.Tensor([1.])"
            ]
          },
          "metadata": {},
          "execution_count": 61
        }
      ]
    },
    {
      "cell_type": "markdown",
      "metadata": {
        "id": "xydjAHihefGG"
      },
      "source": [
        "The gradient function defines a single step to propagate the output adjoint to partial adjoints of its inputs."
      ]
    },
    {
      "cell_type": "markdown",
      "metadata": {
        "id": "_A1CrP14KvSW"
      },
      "source": [
        "## Additional Remarks\n",
        "\n",
        "While needle is designed as a minimalist framework, it contains a comprehensive the bells and whistles of standard deep learning frameworks.\n",
        "\n",
        "- Read and think about the relation between Tensor, array_api and underlying NDArray.\n",
        "- Think about how gradient are implemented."
      ]
    }
  ]
}